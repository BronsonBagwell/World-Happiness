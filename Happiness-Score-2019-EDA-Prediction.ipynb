{
 "cells": [
  {
   "cell_type": "markdown",
   "id": "ee96c428",
   "metadata": {
    "papermill": {
     "duration": 0.007222,
     "end_time": "2023-05-03T00:57:31.105346",
     "exception": false,
     "start_time": "2023-05-03T00:57:31.098124",
     "status": "completed"
    },
    "tags": []
   },
   "source": [
    "# Introduction\n",
    "We have opted to analyze the \"World Happiness Report 2019\" dataset available on Kaggle. This dataset comprises various variables that determine the happiness rank and score of countries across the globe. The happiness rank is based on the highest score, with the first rank indicating the best performance. The variables considered in the dataset are as follows:\n",
    "\n",
    "* Rank: Rank of Countries\n",
    "* Score : A metric measured by asking the sampled people the question: \"How would you rate your happiness a scale of 0 to 10 where 10 is the happiest?\"\n",
    "* GDP per capita (Economy) : The extent to which GDP contributes to the calculation of the Happiness Score.\n",
    "* Social support (Family) : The extent to which Family contributes to the calculation of the Happiness Score.\n",
    "* Healthy life expectancy (Health) : The extent to which Life expectancy contributed to the calculation of the Happiness Score.\n",
    "* Freedom to make life choices (Freedom) : The extent to which Freedom contributed to the calculation of the Happiness Score.\n",
    "* Perceptions of corruption (Trust) : The extent to which Perception of Corruption contributes to Happiness Score.\n",
    "* Generosity : The extent to which Generosity contributes to Happiness Score.\n",
    "\n",
    "\n",
    "Our report is structured into three main sections:\n",
    "\n",
    "* Cleaning and Manipulating\n",
    "* Visualization\n",
    "* Prediction\n"
   ]
  },
  {
   "cell_type": "markdown",
   "id": "e598fd7a",
   "metadata": {
    "papermill": {
     "duration": 0.006597,
     "end_time": "2023-05-03T00:57:31.118936",
     "exception": false,
     "start_time": "2023-05-03T00:57:31.112339",
     "status": "completed"
    },
    "tags": []
   },
   "source": [
    "# Purpose\n",
    "The primary purpose of this Notebook is to gain a better understanding of the data and extract insights that can help answer important questions. At the end of this we can identify patterns and relationships between different variables, detect outliers and anomalies, assess data quality, test assumptions, and communicate findings effectively to others. By doing so, we can understand how factors such as Economy, Family, Health, Freedom, Trust, and Generosity can impact a country's happiness score, and gain valuable insights that can help us better understand the factors that impact happiness."
   ]
  },
  {
   "cell_type": "markdown",
   "id": "e7c65e2f",
   "metadata": {
    "papermill": {
     "duration": 0.006483,
     "end_time": "2023-05-03T00:57:31.132205",
     "exception": false,
     "start_time": "2023-05-03T00:57:31.125722",
     "status": "completed"
    },
    "tags": []
   },
   "source": [
    "# Cleaning and Manipulating \n",
    "In this section the following will be performed:\n",
    "* Importing Libraries and Data\n",
    "* Viewing Data\n",
    "* Check for missing Data\n",
    "* Organizing Contry or Region into Continent Category\n",
    "* Check for Missing Data After Manipulating\n",
    "* Check for Duplicates"
   ]
  },
  {
   "cell_type": "code",
   "execution_count": 1,
   "id": "8b2e03e5",
   "metadata": {
    "execution": {
     "iopub.execute_input": "2023-05-03T00:57:31.149007Z",
     "iopub.status.busy": "2023-05-03T00:57:31.148064Z",
     "iopub.status.idle": "2023-05-03T00:57:33.830907Z",
     "shell.execute_reply": "2023-05-03T00:57:33.829938Z"
    },
    "papermill": {
     "duration": 2.694529,
     "end_time": "2023-05-03T00:57:33.833535",
     "exception": false,
     "start_time": "2023-05-03T00:57:31.139006",
     "status": "completed"
    },
    "tags": []
   },
   "outputs": [
    {
     "name": "stderr",
     "output_type": "stream",
     "text": [
      "/opt/conda/lib/python3.10/site-packages/scipy/__init__.py:146: UserWarning: A NumPy version >=1.16.5 and <1.23.0 is required for this version of SciPy (detected version 1.23.5\n",
      "  warnings.warn(f\"A NumPy version >={np_minversion} and <{np_maxversion}\"\n"
     ]
    }
   ],
   "source": [
    "# Importing Libraries and Data\n",
    "import numpy as np\n",
    "import pandas as pd\n",
    "import matplotlib.pyplot as plt\n",
    "import plotly.express as px\n",
    "import seaborn as sns\n",
    "from sklearn.linear_model import LinearRegression\n",
    "from sklearn.ensemble import RandomForestRegressor\n",
    "from sklearn.preprocessing import StandardScaler\n",
    "from sklearn.neural_network import MLPRegressor\n",
    "from sklearn.model_selection import train_test_split\n",
    "from sklearn.metrics import r2_score"
   ]
  },
  {
   "cell_type": "code",
   "execution_count": 2,
   "id": "8fbada85",
   "metadata": {
    "execution": {
     "iopub.execute_input": "2023-05-03T00:57:33.850359Z",
     "iopub.status.busy": "2023-05-03T00:57:33.849757Z",
     "iopub.status.idle": "2023-05-03T00:57:33.858079Z",
     "shell.execute_reply": "2023-05-03T00:57:33.857309Z"
    },
    "papermill": {
     "duration": 0.019297,
     "end_time": "2023-05-03T00:57:33.860461",
     "exception": false,
     "start_time": "2023-05-03T00:57:33.841164",
     "status": "completed"
    },
    "tags": []
   },
   "outputs": [],
   "source": [
    "import os\n",
    "for dirname, _, filenames in os.walk('/kaggle/input/world-happiness/2019.csv'):\n",
    "    for filename in filenames:\n",
    "        print(os.path.join(dirname, filename))"
   ]
  },
  {
   "cell_type": "code",
   "execution_count": 3,
   "id": "6cf6602e",
   "metadata": {
    "execution": {
     "iopub.execute_input": "2023-05-03T00:57:33.876484Z",
     "iopub.status.busy": "2023-05-03T00:57:33.876074Z",
     "iopub.status.idle": "2023-05-03T00:57:33.924882Z",
     "shell.execute_reply": "2023-05-03T00:57:33.923689Z"
    },
    "papermill": {
     "duration": 0.059823,
     "end_time": "2023-05-03T00:57:33.927467",
     "exception": false,
     "start_time": "2023-05-03T00:57:33.867644",
     "status": "completed"
    },
    "tags": []
   },
   "outputs": [
    {
     "data": {
      "text/html": [
       "<div>\n",
       "<style scoped>\n",
       "    .dataframe tbody tr th:only-of-type {\n",
       "        vertical-align: middle;\n",
       "    }\n",
       "\n",
       "    .dataframe tbody tr th {\n",
       "        vertical-align: top;\n",
       "    }\n",
       "\n",
       "    .dataframe thead th {\n",
       "        text-align: right;\n",
       "    }\n",
       "</style>\n",
       "<table border=\"1\" class=\"dataframe\">\n",
       "  <thead>\n",
       "    <tr style=\"text-align: right;\">\n",
       "      <th></th>\n",
       "      <th>Overall rank</th>\n",
       "      <th>Country or region</th>\n",
       "      <th>Score</th>\n",
       "      <th>GDP per capita</th>\n",
       "      <th>Social support</th>\n",
       "      <th>Healthy life expectancy</th>\n",
       "      <th>Freedom to make life choices</th>\n",
       "      <th>Generosity</th>\n",
       "      <th>Perceptions of corruption</th>\n",
       "    </tr>\n",
       "  </thead>\n",
       "  <tbody>\n",
       "    <tr>\n",
       "      <th>0</th>\n",
       "      <td>1</td>\n",
       "      <td>Finland</td>\n",
       "      <td>7.769</td>\n",
       "      <td>1.340</td>\n",
       "      <td>1.587</td>\n",
       "      <td>0.986</td>\n",
       "      <td>0.596</td>\n",
       "      <td>0.153</td>\n",
       "      <td>0.393</td>\n",
       "    </tr>\n",
       "    <tr>\n",
       "      <th>1</th>\n",
       "      <td>2</td>\n",
       "      <td>Denmark</td>\n",
       "      <td>7.600</td>\n",
       "      <td>1.383</td>\n",
       "      <td>1.573</td>\n",
       "      <td>0.996</td>\n",
       "      <td>0.592</td>\n",
       "      <td>0.252</td>\n",
       "      <td>0.410</td>\n",
       "    </tr>\n",
       "    <tr>\n",
       "      <th>2</th>\n",
       "      <td>3</td>\n",
       "      <td>Norway</td>\n",
       "      <td>7.554</td>\n",
       "      <td>1.488</td>\n",
       "      <td>1.582</td>\n",
       "      <td>1.028</td>\n",
       "      <td>0.603</td>\n",
       "      <td>0.271</td>\n",
       "      <td>0.341</td>\n",
       "    </tr>\n",
       "    <tr>\n",
       "      <th>3</th>\n",
       "      <td>4</td>\n",
       "      <td>Iceland</td>\n",
       "      <td>7.494</td>\n",
       "      <td>1.380</td>\n",
       "      <td>1.624</td>\n",
       "      <td>1.026</td>\n",
       "      <td>0.591</td>\n",
       "      <td>0.354</td>\n",
       "      <td>0.118</td>\n",
       "    </tr>\n",
       "    <tr>\n",
       "      <th>4</th>\n",
       "      <td>5</td>\n",
       "      <td>Netherlands</td>\n",
       "      <td>7.488</td>\n",
       "      <td>1.396</td>\n",
       "      <td>1.522</td>\n",
       "      <td>0.999</td>\n",
       "      <td>0.557</td>\n",
       "      <td>0.322</td>\n",
       "      <td>0.298</td>\n",
       "    </tr>\n",
       "  </tbody>\n",
       "</table>\n",
       "</div>"
      ],
      "text/plain": [
       "   Overall rank Country or region  Score  GDP per capita  Social support  \\\n",
       "0             1           Finland  7.769           1.340           1.587   \n",
       "1             2           Denmark  7.600           1.383           1.573   \n",
       "2             3            Norway  7.554           1.488           1.582   \n",
       "3             4           Iceland  7.494           1.380           1.624   \n",
       "4             5       Netherlands  7.488           1.396           1.522   \n",
       "\n",
       "   Healthy life expectancy  Freedom to make life choices  Generosity  \\\n",
       "0                    0.986                         0.596       0.153   \n",
       "1                    0.996                         0.592       0.252   \n",
       "2                    1.028                         0.603       0.271   \n",
       "3                    1.026                         0.591       0.354   \n",
       "4                    0.999                         0.557       0.322   \n",
       "\n",
       "   Perceptions of corruption  \n",
       "0                      0.393  \n",
       "1                      0.410  \n",
       "2                      0.341  \n",
       "3                      0.118  \n",
       "4                      0.298  "
      ]
     },
     "execution_count": 3,
     "metadata": {},
     "output_type": "execute_result"
    }
   ],
   "source": [
    "import os\n",
    "for dirname, _, filenames in os.walk('/kaggle/input/world-happiness/2019.csv'):\n",
    "    for filename in filenames:\n",
    "        print(os.path.join(dirname, filename))\n",
    "# Viewing Data\n",
    "df = pd.read_csv('/kaggle/input/world-happiness/2019.csv')\n",
    "df.head()"
   ]
  },
  {
   "cell_type": "code",
   "execution_count": 4,
   "id": "178a04be",
   "metadata": {
    "execution": {
     "iopub.execute_input": "2023-05-03T00:57:33.943825Z",
     "iopub.status.busy": "2023-05-03T00:57:33.943436Z",
     "iopub.status.idle": "2023-05-03T00:57:33.959631Z",
     "shell.execute_reply": "2023-05-03T00:57:33.958475Z"
    },
    "papermill": {
     "duration": 0.027118,
     "end_time": "2023-05-03T00:57:33.961758",
     "exception": false,
     "start_time": "2023-05-03T00:57:33.934640",
     "status": "completed"
    },
    "tags": []
   },
   "outputs": [
    {
     "data": {
      "text/html": [
       "<div>\n",
       "<style scoped>\n",
       "    .dataframe tbody tr th:only-of-type {\n",
       "        vertical-align: middle;\n",
       "    }\n",
       "\n",
       "    .dataframe tbody tr th {\n",
       "        vertical-align: top;\n",
       "    }\n",
       "\n",
       "    .dataframe thead th {\n",
       "        text-align: right;\n",
       "    }\n",
       "</style>\n",
       "<table border=\"1\" class=\"dataframe\">\n",
       "  <thead>\n",
       "    <tr style=\"text-align: right;\">\n",
       "      <th></th>\n",
       "      <th>Overall rank</th>\n",
       "      <th>Country or region</th>\n",
       "      <th>Score</th>\n",
       "      <th>GDP per capita</th>\n",
       "      <th>Social support</th>\n",
       "      <th>Healthy life expectancy</th>\n",
       "      <th>Freedom to make life choices</th>\n",
       "      <th>Generosity</th>\n",
       "      <th>Perceptions of corruption</th>\n",
       "    </tr>\n",
       "  </thead>\n",
       "  <tbody>\n",
       "    <tr>\n",
       "      <th>151</th>\n",
       "      <td>152</td>\n",
       "      <td>Rwanda</td>\n",
       "      <td>3.334</td>\n",
       "      <td>0.359</td>\n",
       "      <td>0.711</td>\n",
       "      <td>0.614</td>\n",
       "      <td>0.555</td>\n",
       "      <td>0.217</td>\n",
       "      <td>0.411</td>\n",
       "    </tr>\n",
       "    <tr>\n",
       "      <th>152</th>\n",
       "      <td>153</td>\n",
       "      <td>Tanzania</td>\n",
       "      <td>3.231</td>\n",
       "      <td>0.476</td>\n",
       "      <td>0.885</td>\n",
       "      <td>0.499</td>\n",
       "      <td>0.417</td>\n",
       "      <td>0.276</td>\n",
       "      <td>0.147</td>\n",
       "    </tr>\n",
       "    <tr>\n",
       "      <th>153</th>\n",
       "      <td>154</td>\n",
       "      <td>Afghanistan</td>\n",
       "      <td>3.203</td>\n",
       "      <td>0.350</td>\n",
       "      <td>0.517</td>\n",
       "      <td>0.361</td>\n",
       "      <td>0.000</td>\n",
       "      <td>0.158</td>\n",
       "      <td>0.025</td>\n",
       "    </tr>\n",
       "    <tr>\n",
       "      <th>154</th>\n",
       "      <td>155</td>\n",
       "      <td>Central African Republic</td>\n",
       "      <td>3.083</td>\n",
       "      <td>0.026</td>\n",
       "      <td>0.000</td>\n",
       "      <td>0.105</td>\n",
       "      <td>0.225</td>\n",
       "      <td>0.235</td>\n",
       "      <td>0.035</td>\n",
       "    </tr>\n",
       "    <tr>\n",
       "      <th>155</th>\n",
       "      <td>156</td>\n",
       "      <td>South Sudan</td>\n",
       "      <td>2.853</td>\n",
       "      <td>0.306</td>\n",
       "      <td>0.575</td>\n",
       "      <td>0.295</td>\n",
       "      <td>0.010</td>\n",
       "      <td>0.202</td>\n",
       "      <td>0.091</td>\n",
       "    </tr>\n",
       "  </tbody>\n",
       "</table>\n",
       "</div>"
      ],
      "text/plain": [
       "     Overall rank         Country or region  Score  GDP per capita  \\\n",
       "151           152                    Rwanda  3.334           0.359   \n",
       "152           153                  Tanzania  3.231           0.476   \n",
       "153           154               Afghanistan  3.203           0.350   \n",
       "154           155  Central African Republic  3.083           0.026   \n",
       "155           156               South Sudan  2.853           0.306   \n",
       "\n",
       "     Social support  Healthy life expectancy  Freedom to make life choices  \\\n",
       "151           0.711                    0.614                         0.555   \n",
       "152           0.885                    0.499                         0.417   \n",
       "153           0.517                    0.361                         0.000   \n",
       "154           0.000                    0.105                         0.225   \n",
       "155           0.575                    0.295                         0.010   \n",
       "\n",
       "     Generosity  Perceptions of corruption  \n",
       "151       0.217                      0.411  \n",
       "152       0.276                      0.147  \n",
       "153       0.158                      0.025  \n",
       "154       0.235                      0.035  \n",
       "155       0.202                      0.091  "
      ]
     },
     "execution_count": 4,
     "metadata": {},
     "output_type": "execute_result"
    }
   ],
   "source": [
    "df.tail()"
   ]
  },
  {
   "cell_type": "code",
   "execution_count": 5,
   "id": "5c25ff98",
   "metadata": {
    "execution": {
     "iopub.execute_input": "2023-05-03T00:57:33.978572Z",
     "iopub.status.busy": "2023-05-03T00:57:33.977941Z",
     "iopub.status.idle": "2023-05-03T00:57:33.988159Z",
     "shell.execute_reply": "2023-05-03T00:57:33.987413Z"
    },
    "papermill": {
     "duration": 0.020867,
     "end_time": "2023-05-03T00:57:33.990116",
     "exception": false,
     "start_time": "2023-05-03T00:57:33.969249",
     "status": "completed"
    },
    "tags": []
   },
   "outputs": [
    {
     "name": "stdout",
     "output_type": "stream",
     "text": [
      "Overall rank                    0\n",
      "Country or region               0\n",
      "Score                           0\n",
      "GDP per capita                  0\n",
      "Social support                  0\n",
      "Healthy life expectancy         0\n",
      "Freedom to make life choices    0\n",
      "Generosity                      0\n",
      "Perceptions of corruption       0\n",
      "dtype: int64\n"
     ]
    }
   ],
   "source": [
    "# Check for missing data\n",
    "missing_data = df.isnull().sum()\n",
    "\n",
    "# Print the result\n",
    "print(missing_data)"
   ]
  },
  {
   "cell_type": "code",
   "execution_count": 6,
   "id": "70e0d899",
   "metadata": {
    "execution": {
     "iopub.execute_input": "2023-05-03T00:57:34.006997Z",
     "iopub.status.busy": "2023-05-03T00:57:34.006586Z",
     "iopub.status.idle": "2023-05-03T00:57:34.041582Z",
     "shell.execute_reply": "2023-05-03T00:57:34.040774Z"
    },
    "papermill": {
     "duration": 0.045814,
     "end_time": "2023-05-03T00:57:34.043602",
     "exception": false,
     "start_time": "2023-05-03T00:57:33.997788",
     "status": "completed"
    },
    "tags": []
   },
   "outputs": [
    {
     "data": {
      "text/html": [
       "<div>\n",
       "<style scoped>\n",
       "    .dataframe tbody tr th:only-of-type {\n",
       "        vertical-align: middle;\n",
       "    }\n",
       "\n",
       "    .dataframe tbody tr th {\n",
       "        vertical-align: top;\n",
       "    }\n",
       "\n",
       "    .dataframe thead th {\n",
       "        text-align: right;\n",
       "    }\n",
       "</style>\n",
       "<table border=\"1\" class=\"dataframe\">\n",
       "  <thead>\n",
       "    <tr style=\"text-align: right;\">\n",
       "      <th></th>\n",
       "      <th>Overall rank</th>\n",
       "      <th>Score</th>\n",
       "      <th>GDP per capita</th>\n",
       "      <th>Social support</th>\n",
       "      <th>Healthy life expectancy</th>\n",
       "      <th>Freedom to make life choices</th>\n",
       "      <th>Generosity</th>\n",
       "      <th>Perceptions of corruption</th>\n",
       "    </tr>\n",
       "  </thead>\n",
       "  <tbody>\n",
       "    <tr>\n",
       "      <th>count</th>\n",
       "      <td>156.000000</td>\n",
       "      <td>156.000000</td>\n",
       "      <td>156.000000</td>\n",
       "      <td>156.000000</td>\n",
       "      <td>156.000000</td>\n",
       "      <td>156.000000</td>\n",
       "      <td>156.000000</td>\n",
       "      <td>156.000000</td>\n",
       "    </tr>\n",
       "    <tr>\n",
       "      <th>mean</th>\n",
       "      <td>78.500000</td>\n",
       "      <td>5.407096</td>\n",
       "      <td>0.905147</td>\n",
       "      <td>1.208814</td>\n",
       "      <td>0.725244</td>\n",
       "      <td>0.392571</td>\n",
       "      <td>0.184846</td>\n",
       "      <td>0.110603</td>\n",
       "    </tr>\n",
       "    <tr>\n",
       "      <th>std</th>\n",
       "      <td>45.177428</td>\n",
       "      <td>1.113120</td>\n",
       "      <td>0.398389</td>\n",
       "      <td>0.299191</td>\n",
       "      <td>0.242124</td>\n",
       "      <td>0.143289</td>\n",
       "      <td>0.095254</td>\n",
       "      <td>0.094538</td>\n",
       "    </tr>\n",
       "    <tr>\n",
       "      <th>min</th>\n",
       "      <td>1.000000</td>\n",
       "      <td>2.853000</td>\n",
       "      <td>0.000000</td>\n",
       "      <td>0.000000</td>\n",
       "      <td>0.000000</td>\n",
       "      <td>0.000000</td>\n",
       "      <td>0.000000</td>\n",
       "      <td>0.000000</td>\n",
       "    </tr>\n",
       "    <tr>\n",
       "      <th>25%</th>\n",
       "      <td>39.750000</td>\n",
       "      <td>4.544500</td>\n",
       "      <td>0.602750</td>\n",
       "      <td>1.055750</td>\n",
       "      <td>0.547750</td>\n",
       "      <td>0.308000</td>\n",
       "      <td>0.108750</td>\n",
       "      <td>0.047000</td>\n",
       "    </tr>\n",
       "    <tr>\n",
       "      <th>50%</th>\n",
       "      <td>78.500000</td>\n",
       "      <td>5.379500</td>\n",
       "      <td>0.960000</td>\n",
       "      <td>1.271500</td>\n",
       "      <td>0.789000</td>\n",
       "      <td>0.417000</td>\n",
       "      <td>0.177500</td>\n",
       "      <td>0.085500</td>\n",
       "    </tr>\n",
       "    <tr>\n",
       "      <th>75%</th>\n",
       "      <td>117.250000</td>\n",
       "      <td>6.184500</td>\n",
       "      <td>1.232500</td>\n",
       "      <td>1.452500</td>\n",
       "      <td>0.881750</td>\n",
       "      <td>0.507250</td>\n",
       "      <td>0.248250</td>\n",
       "      <td>0.141250</td>\n",
       "    </tr>\n",
       "    <tr>\n",
       "      <th>max</th>\n",
       "      <td>156.000000</td>\n",
       "      <td>7.769000</td>\n",
       "      <td>1.684000</td>\n",
       "      <td>1.624000</td>\n",
       "      <td>1.141000</td>\n",
       "      <td>0.631000</td>\n",
       "      <td>0.566000</td>\n",
       "      <td>0.453000</td>\n",
       "    </tr>\n",
       "  </tbody>\n",
       "</table>\n",
       "</div>"
      ],
      "text/plain": [
       "       Overall rank       Score  GDP per capita  Social support  \\\n",
       "count    156.000000  156.000000      156.000000      156.000000   \n",
       "mean      78.500000    5.407096        0.905147        1.208814   \n",
       "std       45.177428    1.113120        0.398389        0.299191   \n",
       "min        1.000000    2.853000        0.000000        0.000000   \n",
       "25%       39.750000    4.544500        0.602750        1.055750   \n",
       "50%       78.500000    5.379500        0.960000        1.271500   \n",
       "75%      117.250000    6.184500        1.232500        1.452500   \n",
       "max      156.000000    7.769000        1.684000        1.624000   \n",
       "\n",
       "       Healthy life expectancy  Freedom to make life choices  Generosity  \\\n",
       "count               156.000000                    156.000000  156.000000   \n",
       "mean                  0.725244                      0.392571    0.184846   \n",
       "std                   0.242124                      0.143289    0.095254   \n",
       "min                   0.000000                      0.000000    0.000000   \n",
       "25%                   0.547750                      0.308000    0.108750   \n",
       "50%                   0.789000                      0.417000    0.177500   \n",
       "75%                   0.881750                      0.507250    0.248250   \n",
       "max                   1.141000                      0.631000    0.566000   \n",
       "\n",
       "       Perceptions of corruption  \n",
       "count                 156.000000  \n",
       "mean                    0.110603  \n",
       "std                     0.094538  \n",
       "min                     0.000000  \n",
       "25%                     0.047000  \n",
       "50%                     0.085500  \n",
       "75%                     0.141250  \n",
       "max                     0.453000  "
      ]
     },
     "execution_count": 6,
     "metadata": {},
     "output_type": "execute_result"
    }
   ],
   "source": [
    "df.describe()"
   ]
  },
  {
   "cell_type": "code",
   "execution_count": 7,
   "id": "7cdf273a",
   "metadata": {
    "execution": {
     "iopub.execute_input": "2023-05-03T00:57:34.061518Z",
     "iopub.status.busy": "2023-05-03T00:57:34.060687Z",
     "iopub.status.idle": "2023-05-03T00:57:34.070838Z",
     "shell.execute_reply": "2023-05-03T00:57:34.070035Z"
    },
    "papermill": {
     "duration": 0.021527,
     "end_time": "2023-05-03T00:57:34.073064",
     "exception": false,
     "start_time": "2023-05-03T00:57:34.051537",
     "status": "completed"
    },
    "tags": []
   },
   "outputs": [],
   "source": [
    "# Organizing Contry or Region into Continent Category \n",
    "continent_dict = { \n",
    "    'Asia': ['Afghanistan', 'Bahrain', 'Iran', 'Iraq', 'Israel', 'Jordan', 'Kuwait', 'Lebanon', 'Oman', 'Pakistan', 'Qatar', 'Saudi Arabia', 'Syria', 'Turkey', 'United Arab Emirates', 'Yemen','Taiwan', 'Singapore', 'Uzbekistan', 'Thailand', 'South Korea', 'Japan', 'Philippines', 'Tajikistan', 'Hong Kong', 'Malaysia', 'Mongolia', 'Kyrgyzstan', 'Turkmenistan', 'Azerbaijan', 'Indonesia', 'China', 'Vietnam', 'Bhutan', 'Nepal', 'Laos', 'Cambodia', 'Palestinian Territories', 'Armenia', 'Georgia', 'Bangladesh', 'Sri Lanka', 'Myanmar', 'India'],\n",
    "    'Africa': ['Algeria', 'Angola', 'Benin', 'Botswana', 'Burkina Faso', 'Burundi', 'Cabo Verde', 'Cameroon', 'Central African Republic', 'Chad', 'Comoros', 'Congo (Brazzaville)','Congo (Kinshasa)', 'Democratic Republic of the Congo', 'Republic of the Congo', 'Cote d\\'Ivoire', 'Djibouti', 'Egypt', 'Equatorial Guinea', 'Eritrea', 'Eswatini', 'Ethiopia', 'Gabon', 'Gambia', 'Ghana', 'Guinea', 'Guinea-Bissau','Ivory Coast', 'Kenya', 'Lesotho', 'Liberia', 'Libya', 'Madagascar', 'Malawi', 'Mali', 'Mauritania', 'Mauritius', 'Morocco', 'Mozambique', 'Namibia', 'Niger', 'Nigeria', 'Rwanda', 'Sao Tome and Principe', 'Senegal', 'Seychelles', 'Sierra Leone', 'Somalia', 'South Africa', 'South Sudan', 'Sudan','Swaziland', 'Tanzania', 'Togo', 'Tunisia', 'Uganda', 'Zambia', 'Zimbabwe'],\n",
    "    'North America': ['Antigua and Barbuda', 'Bahamas', 'Barbados', 'Belize', 'Canada', 'Costa Rica', 'Cuba', 'Dominica', 'Dominican Republic', 'El Salvador', 'Grenada', 'Guatemala', 'Haiti', 'Honduras', 'Jamaica', 'Mexico', 'Nicaragua', 'Panama', 'Saint Kitts and Nevis', 'Saint Lucia', 'Saint Vincent and the Grenadines', 'Trinidad and Tobago', 'United States'],\n",
    "    'South America': ['Argentina', 'Bolivia', 'Brazil', 'Chile', 'Colombia', 'Ecuador', 'Guyana', 'Paraguay', 'Peru', 'Suriname', 'Trinidad & Tobago', 'Uruguay', 'Venezuela'],\n",
    "    'Europe': ['Albania', 'Andorra', 'Austria','Azerbaijan', 'Belarus', 'Belgium', 'Bosnia and Herzegovina', 'Bulgaria', 'Croatia', 'Cyprus', 'Czech Republic', 'Denmark', 'Estonia', 'Finland', 'France', 'Germany', 'Greece','Georgia', 'Hungary', 'Iceland', 'Ireland', 'Italy', 'Kazakhstan', 'Kosovo', 'Latvia', 'Liechtenstein', 'Lithuania', 'Luxembourg', 'Malta', 'Moldova', 'Monaco', 'Montenegro', 'Netherlands','Northern Cyprus', 'North Macedonia', 'Norway', 'Poland', 'Portugal', 'Romania', 'Russia', 'San Marino', 'Serbia', 'Slovakia', 'Slovenia', 'Spain', 'Sweden', 'Switzerland', 'Ukraine', 'United Kingdom', 'Vatican City'],\n",
    "    'Oceania': ['Australia', 'Fiji', 'Kiribati', 'Marshall Islands', 'Micronesia', 'Nauru', 'New Zealand', 'Palau', 'Papua New Guinea', 'Samoa', 'Solomon Islands', 'Tonga', 'Tuvalu', 'Vanuatu']\n",
    "    }"
   ]
  },
  {
   "cell_type": "code",
   "execution_count": 8,
   "id": "0b9ad18d",
   "metadata": {
    "execution": {
     "iopub.execute_input": "2023-05-03T00:57:34.090947Z",
     "iopub.status.busy": "2023-05-03T00:57:34.089957Z",
     "iopub.status.idle": "2023-05-03T00:57:34.107885Z",
     "shell.execute_reply": "2023-05-03T00:57:34.106876Z"
    },
    "papermill": {
     "duration": 0.029133,
     "end_time": "2023-05-03T00:57:34.110028",
     "exception": false,
     "start_time": "2023-05-03T00:57:34.080895",
     "status": "completed"
    },
    "tags": []
   },
   "outputs": [
    {
     "data": {
      "text/html": [
       "<div>\n",
       "<style scoped>\n",
       "    .dataframe tbody tr th:only-of-type {\n",
       "        vertical-align: middle;\n",
       "    }\n",
       "\n",
       "    .dataframe tbody tr th {\n",
       "        vertical-align: top;\n",
       "    }\n",
       "\n",
       "    .dataframe thead th {\n",
       "        text-align: right;\n",
       "    }\n",
       "</style>\n",
       "<table border=\"1\" class=\"dataframe\">\n",
       "  <thead>\n",
       "    <tr style=\"text-align: right;\">\n",
       "      <th></th>\n",
       "      <th>Overall rank</th>\n",
       "      <th>Country or region</th>\n",
       "      <th>Score</th>\n",
       "      <th>GDP per capita</th>\n",
       "      <th>Social support</th>\n",
       "      <th>Healthy life expectancy</th>\n",
       "      <th>Freedom to make life choices</th>\n",
       "      <th>Generosity</th>\n",
       "      <th>Perceptions of corruption</th>\n",
       "      <th>Continent</th>\n",
       "    </tr>\n",
       "  </thead>\n",
       "  <tbody>\n",
       "    <tr>\n",
       "      <th>0</th>\n",
       "      <td>1</td>\n",
       "      <td>Finland</td>\n",
       "      <td>7.769</td>\n",
       "      <td>1.340</td>\n",
       "      <td>1.587</td>\n",
       "      <td>0.986</td>\n",
       "      <td>0.596</td>\n",
       "      <td>0.153</td>\n",
       "      <td>0.393</td>\n",
       "      <td>Europe</td>\n",
       "    </tr>\n",
       "    <tr>\n",
       "      <th>1</th>\n",
       "      <td>2</td>\n",
       "      <td>Denmark</td>\n",
       "      <td>7.600</td>\n",
       "      <td>1.383</td>\n",
       "      <td>1.573</td>\n",
       "      <td>0.996</td>\n",
       "      <td>0.592</td>\n",
       "      <td>0.252</td>\n",
       "      <td>0.410</td>\n",
       "      <td>Europe</td>\n",
       "    </tr>\n",
       "    <tr>\n",
       "      <th>2</th>\n",
       "      <td>3</td>\n",
       "      <td>Norway</td>\n",
       "      <td>7.554</td>\n",
       "      <td>1.488</td>\n",
       "      <td>1.582</td>\n",
       "      <td>1.028</td>\n",
       "      <td>0.603</td>\n",
       "      <td>0.271</td>\n",
       "      <td>0.341</td>\n",
       "      <td>Europe</td>\n",
       "    </tr>\n",
       "    <tr>\n",
       "      <th>3</th>\n",
       "      <td>4</td>\n",
       "      <td>Iceland</td>\n",
       "      <td>7.494</td>\n",
       "      <td>1.380</td>\n",
       "      <td>1.624</td>\n",
       "      <td>1.026</td>\n",
       "      <td>0.591</td>\n",
       "      <td>0.354</td>\n",
       "      <td>0.118</td>\n",
       "      <td>Europe</td>\n",
       "    </tr>\n",
       "    <tr>\n",
       "      <th>4</th>\n",
       "      <td>5</td>\n",
       "      <td>Netherlands</td>\n",
       "      <td>7.488</td>\n",
       "      <td>1.396</td>\n",
       "      <td>1.522</td>\n",
       "      <td>0.999</td>\n",
       "      <td>0.557</td>\n",
       "      <td>0.322</td>\n",
       "      <td>0.298</td>\n",
       "      <td>Europe</td>\n",
       "    </tr>\n",
       "  </tbody>\n",
       "</table>\n",
       "</div>"
      ],
      "text/plain": [
       "   Overall rank Country or region  Score  GDP per capita  Social support  \\\n",
       "0             1           Finland  7.769           1.340           1.587   \n",
       "1             2           Denmark  7.600           1.383           1.573   \n",
       "2             3            Norway  7.554           1.488           1.582   \n",
       "3             4           Iceland  7.494           1.380           1.624   \n",
       "4             5       Netherlands  7.488           1.396           1.522   \n",
       "\n",
       "   Healthy life expectancy  Freedom to make life choices  Generosity  \\\n",
       "0                    0.986                         0.596       0.153   \n",
       "1                    0.996                         0.592       0.252   \n",
       "2                    1.028                         0.603       0.271   \n",
       "3                    1.026                         0.591       0.354   \n",
       "4                    0.999                         0.557       0.322   \n",
       "\n",
       "   Perceptions of corruption Continent  \n",
       "0                      0.393    Europe  \n",
       "1                      0.410    Europe  \n",
       "2                      0.341    Europe  \n",
       "3                      0.118    Europe  \n",
       "4                      0.298    Europe  "
      ]
     },
     "execution_count": 8,
     "metadata": {},
     "output_type": "execute_result"
    }
   ],
   "source": [
    "df['Continent'] = df['Country or region'].apply(lambda x: next((k for k in continent_dict if x in continent_dict[k]), None))\n",
    "df.head()"
   ]
  },
  {
   "cell_type": "code",
   "execution_count": 9,
   "id": "bad74382",
   "metadata": {
    "execution": {
     "iopub.execute_input": "2023-05-03T00:57:34.127716Z",
     "iopub.status.busy": "2023-05-03T00:57:34.127324Z",
     "iopub.status.idle": "2023-05-03T00:57:34.142304Z",
     "shell.execute_reply": "2023-05-03T00:57:34.141465Z"
    },
    "papermill": {
     "duration": 0.026386,
     "end_time": "2023-05-03T00:57:34.144435",
     "exception": false,
     "start_time": "2023-05-03T00:57:34.118049",
     "status": "completed"
    },
    "tags": []
   },
   "outputs": [
    {
     "data": {
      "text/html": [
       "<div>\n",
       "<style scoped>\n",
       "    .dataframe tbody tr th:only-of-type {\n",
       "        vertical-align: middle;\n",
       "    }\n",
       "\n",
       "    .dataframe tbody tr th {\n",
       "        vertical-align: top;\n",
       "    }\n",
       "\n",
       "    .dataframe thead th {\n",
       "        text-align: right;\n",
       "    }\n",
       "</style>\n",
       "<table border=\"1\" class=\"dataframe\">\n",
       "  <thead>\n",
       "    <tr style=\"text-align: right;\">\n",
       "      <th></th>\n",
       "      <th>Overall rank</th>\n",
       "      <th>Country or region</th>\n",
       "      <th>Score</th>\n",
       "      <th>GDP per capita</th>\n",
       "      <th>Social support</th>\n",
       "      <th>Healthy life expectancy</th>\n",
       "      <th>Freedom to make life choices</th>\n",
       "      <th>Generosity</th>\n",
       "      <th>Perceptions of corruption</th>\n",
       "      <th>Continent</th>\n",
       "    </tr>\n",
       "  </thead>\n",
       "  <tbody>\n",
       "    <tr>\n",
       "      <th>151</th>\n",
       "      <td>152</td>\n",
       "      <td>Rwanda</td>\n",
       "      <td>3.334</td>\n",
       "      <td>0.359</td>\n",
       "      <td>0.711</td>\n",
       "      <td>0.614</td>\n",
       "      <td>0.555</td>\n",
       "      <td>0.217</td>\n",
       "      <td>0.411</td>\n",
       "      <td>Africa</td>\n",
       "    </tr>\n",
       "    <tr>\n",
       "      <th>152</th>\n",
       "      <td>153</td>\n",
       "      <td>Tanzania</td>\n",
       "      <td>3.231</td>\n",
       "      <td>0.476</td>\n",
       "      <td>0.885</td>\n",
       "      <td>0.499</td>\n",
       "      <td>0.417</td>\n",
       "      <td>0.276</td>\n",
       "      <td>0.147</td>\n",
       "      <td>Africa</td>\n",
       "    </tr>\n",
       "    <tr>\n",
       "      <th>153</th>\n",
       "      <td>154</td>\n",
       "      <td>Afghanistan</td>\n",
       "      <td>3.203</td>\n",
       "      <td>0.350</td>\n",
       "      <td>0.517</td>\n",
       "      <td>0.361</td>\n",
       "      <td>0.000</td>\n",
       "      <td>0.158</td>\n",
       "      <td>0.025</td>\n",
       "      <td>Asia</td>\n",
       "    </tr>\n",
       "    <tr>\n",
       "      <th>154</th>\n",
       "      <td>155</td>\n",
       "      <td>Central African Republic</td>\n",
       "      <td>3.083</td>\n",
       "      <td>0.026</td>\n",
       "      <td>0.000</td>\n",
       "      <td>0.105</td>\n",
       "      <td>0.225</td>\n",
       "      <td>0.235</td>\n",
       "      <td>0.035</td>\n",
       "      <td>Africa</td>\n",
       "    </tr>\n",
       "    <tr>\n",
       "      <th>155</th>\n",
       "      <td>156</td>\n",
       "      <td>South Sudan</td>\n",
       "      <td>2.853</td>\n",
       "      <td>0.306</td>\n",
       "      <td>0.575</td>\n",
       "      <td>0.295</td>\n",
       "      <td>0.010</td>\n",
       "      <td>0.202</td>\n",
       "      <td>0.091</td>\n",
       "      <td>Africa</td>\n",
       "    </tr>\n",
       "  </tbody>\n",
       "</table>\n",
       "</div>"
      ],
      "text/plain": [
       "     Overall rank         Country or region  Score  GDP per capita  \\\n",
       "151           152                    Rwanda  3.334           0.359   \n",
       "152           153                  Tanzania  3.231           0.476   \n",
       "153           154               Afghanistan  3.203           0.350   \n",
       "154           155  Central African Republic  3.083           0.026   \n",
       "155           156               South Sudan  2.853           0.306   \n",
       "\n",
       "     Social support  Healthy life expectancy  Freedom to make life choices  \\\n",
       "151           0.711                    0.614                         0.555   \n",
       "152           0.885                    0.499                         0.417   \n",
       "153           0.517                    0.361                         0.000   \n",
       "154           0.000                    0.105                         0.225   \n",
       "155           0.575                    0.295                         0.010   \n",
       "\n",
       "     Generosity  Perceptions of corruption Continent  \n",
       "151       0.217                      0.411    Africa  \n",
       "152       0.276                      0.147    Africa  \n",
       "153       0.158                      0.025      Asia  \n",
       "154       0.235                      0.035    Africa  \n",
       "155       0.202                      0.091    Africa  "
      ]
     },
     "execution_count": 9,
     "metadata": {},
     "output_type": "execute_result"
    }
   ],
   "source": [
    "df.tail()"
   ]
  },
  {
   "cell_type": "code",
   "execution_count": 10,
   "id": "01bc7104",
   "metadata": {
    "execution": {
     "iopub.execute_input": "2023-05-03T00:57:34.163326Z",
     "iopub.status.busy": "2023-05-03T00:57:34.162594Z",
     "iopub.status.idle": "2023-05-03T00:57:34.170107Z",
     "shell.execute_reply": "2023-05-03T00:57:34.169163Z"
    },
    "papermill": {
     "duration": 0.019293,
     "end_time": "2023-05-03T00:57:34.172240",
     "exception": false,
     "start_time": "2023-05-03T00:57:34.152947",
     "status": "completed"
    },
    "tags": []
   },
   "outputs": [
    {
     "name": "stdout",
     "output_type": "stream",
     "text": [
      "Overall rank                    0\n",
      "Country or region               0\n",
      "Score                           0\n",
      "GDP per capita                  0\n",
      "Social support                  0\n",
      "Healthy life expectancy         0\n",
      "Freedom to make life choices    0\n",
      "Generosity                      0\n",
      "Perceptions of corruption       0\n",
      "Continent                       0\n",
      "dtype: int64\n"
     ]
    }
   ],
   "source": [
    "# Check for missing data\n",
    "missing_data = df.isnull().sum()\n",
    "\n",
    "# Print the result\n",
    "print(missing_data)"
   ]
  },
  {
   "cell_type": "code",
   "execution_count": 11,
   "id": "0eb22548",
   "metadata": {
    "execution": {
     "iopub.execute_input": "2023-05-03T00:57:34.192121Z",
     "iopub.status.busy": "2023-05-03T00:57:34.190964Z",
     "iopub.status.idle": "2023-05-03T00:57:34.211190Z",
     "shell.execute_reply": "2023-05-03T00:57:34.210063Z"
    },
    "papermill": {
     "duration": 0.032392,
     "end_time": "2023-05-03T00:57:34.213450",
     "exception": false,
     "start_time": "2023-05-03T00:57:34.181058",
     "status": "completed"
    },
    "tags": []
   },
   "outputs": [
    {
     "name": "stdout",
     "output_type": "stream",
     "text": [
      "Empty DataFrame\n",
      "Columns: [Overall rank, Country or region, Score, GDP per capita, Social support, Healthy life expectancy, Freedom to make life choices, Generosity, Perceptions of corruption, Continent]\n",
      "Index: []\n"
     ]
    }
   ],
   "source": [
    "# Check for duplicates\n",
    "duplicates = df[df.duplicated()]\n",
    "\n",
    "# Print the duplicates\n",
    "print(duplicates)"
   ]
  },
  {
   "cell_type": "code",
   "execution_count": 12,
   "id": "448caee2",
   "metadata": {
    "execution": {
     "iopub.execute_input": "2023-05-03T00:57:34.231890Z",
     "iopub.status.busy": "2023-05-03T00:57:34.231499Z",
     "iopub.status.idle": "2023-05-03T00:57:34.237616Z",
     "shell.execute_reply": "2023-05-03T00:57:34.236471Z"
    },
    "papermill": {
     "duration": 0.018109,
     "end_time": "2023-05-03T00:57:34.240005",
     "exception": false,
     "start_time": "2023-05-03T00:57:34.221896",
     "status": "completed"
    },
    "tags": []
   },
   "outputs": [],
   "source": [
    "df = df.sort_values('Continent')"
   ]
  },
  {
   "cell_type": "markdown",
   "id": "c5cf3b94",
   "metadata": {
    "papermill": {
     "duration": 0.008106,
     "end_time": "2023-05-03T00:57:34.256948",
     "exception": false,
     "start_time": "2023-05-03T00:57:34.248842",
     "status": "completed"
    },
    "tags": []
   },
   "source": [
    "# Visualization\n",
    "To gain insight into the distribution of happiness scores in different continents and how this score is distributed across continents, we will employ several useful exploratory data analysis techniques, including scatter plots, box plots, and violin plots. These tools will enable us to visualize the data in ways that will allow us to easily identify patterns and trends, as well as detect outliers and anomalies that may require further investigation. Furthermore, we will also calculate the mean and median happiness score for each continent to gain a better understanding of how the score is populated across the globe. By utilizing these methods, we will be able to generate valuable insights that can inform policy decisions, aid research, and help us better understand the factors that impact happiness.\n"
   ]
  },
  {
   "cell_type": "code",
   "execution_count": 13,
   "id": "d214c87f",
   "metadata": {
    "execution": {
     "iopub.execute_input": "2023-05-03T00:57:34.276700Z",
     "iopub.status.busy": "2023-05-03T00:57:34.275928Z",
     "iopub.status.idle": "2023-05-03T00:57:36.396441Z",
     "shell.execute_reply": "2023-05-03T00:57:36.395151Z"
    },
    "papermill": {
     "duration": 2.133488,
     "end_time": "2023-05-03T00:57:36.399050",
     "exception": false,
     "start_time": "2023-05-03T00:57:34.265562",
     "status": "completed"
    },
    "tags": []
   },
   "outputs": [
    {
     "data": {
      "text/html": [
       "        <script type=\"text/javascript\">\n",
       "        window.PlotlyConfig = {MathJaxConfig: 'local'};\n",
       "        if (window.MathJax && window.MathJax.Hub && window.MathJax.Hub.Config) {window.MathJax.Hub.Config({SVG: {font: \"STIX-Web\"}});}\n",
       "        if (typeof require !== 'undefined') {\n",
       "        require.undef(\"plotly\");\n",
       "        requirejs.config({\n",
       "            paths: {\n",
       "                'plotly': ['https://cdn.plot.ly/plotly-2.20.0.min']\n",
       "            }\n",
       "        });\n",
       "        require(['plotly'], function(Plotly) {\n",
       "            window._Plotly = Plotly;\n",
       "        });\n",
       "        }\n",
       "        </script>\n",
       "        "
      ]
     },
     "metadata": {},
     "output_type": "display_data"
    },
    {
     "data": {
      "text/html": [
       "<div>                            <div id=\"2b054c13-e7d4-4a56-be9b-5c646f538a3f\" class=\"plotly-graph-div\" style=\"height:525px; width:100%;\"></div>            <script type=\"text/javascript\">                require([\"plotly\"], function(Plotly) {                    window.PLOTLYENV=window.PLOTLYENV || {};                                    if (document.getElementById(\"2b054c13-e7d4-4a56-be9b-5c646f538a3f\")) {                    Plotly.newPlot(                        \"2b054c13-e7d4-4a56-be9b-5c646f538a3f\",                        [{\"hovertemplate\":\"Continent=%{x}<br>Happiness Score=%{y}<extra></extra>\",\"legendgroup\":\"Africa\",\"marker\":{\"color\":\"#636efa\",\"symbol\":\"circle\"},\"mode\":\"markers\",\"name\":\"Africa\",\"orientation\":\"v\",\"showlegend\":true,\"x\":[\"Africa\",\"Africa\",\"Africa\",\"Africa\",\"Africa\",\"Africa\",\"Africa\",\"Africa\",\"Africa\",\"Africa\",\"Africa\",\"Africa\",\"Africa\",\"Africa\",\"Africa\",\"Africa\",\"Africa\",\"Africa\",\"Africa\",\"Africa\",\"Africa\",\"Africa\",\"Africa\",\"Africa\",\"Africa\",\"Africa\",\"Africa\",\"Africa\",\"Africa\",\"Africa\",\"Africa\",\"Africa\",\"Africa\",\"Africa\",\"Africa\",\"Africa\",\"Africa\",\"Africa\",\"Africa\",\"Africa\",\"Africa\",\"Africa\",\"Africa\",\"Africa\",\"Africa\"],\"xaxis\":\"x\",\"y\":[2.853,4.39,4.418,5.044,4.461,4.466,4.49,5.525,4.509,4.516,4.996,4.534,4.944,4.587,4.628,4.639,4.668,4.681,4.883,5.888,4.812,4.799,3.083,4.35,4.374,3.973,5.208,3.231,3.334,5.211,3.41,3.488,3.663,3.775,3.802,3.933,3.975,5.265,4.085,4.722,4.166,4.189,4.286,4.212,4.107],\"yaxis\":\"y\",\"type\":\"scatter\"},{\"hovertemplate\":\"Continent=%{x}<br>Happiness Score=%{y}<extra></extra>\",\"legendgroup\":\"Asia\",\"marker\":{\"color\":\"#EF553B\",\"symbol\":\"circle\"},\"mode\":\"markers\",\"name\":\"Asia\",\"orientation\":\"v\",\"showlegend\":true,\"x\":[\"Asia\",\"Asia\",\"Asia\",\"Asia\",\"Asia\",\"Asia\",\"Asia\",\"Asia\",\"Asia\",\"Asia\",\"Asia\",\"Asia\",\"Asia\",\"Asia\",\"Asia\",\"Asia\",\"Asia\",\"Asia\",\"Asia\",\"Asia\",\"Asia\",\"Asia\",\"Asia\",\"Asia\",\"Asia\",\"Asia\",\"Asia\",\"Asia\",\"Asia\",\"Asia\",\"Asia\",\"Asia\",\"Asia\",\"Asia\",\"Asia\",\"Asia\",\"Asia\",\"Asia\",\"Asia\",\"Asia\",\"Asia\",\"Asia\",\"Asia\"],\"xaxis\":\"x\",\"y\":[5.175,5.339,5.373,4.796,4.906,5.247,4.913,5.192,5.082,5.631,5.43,5.261,5.191,5.467,5.653,5.285,4.548,4.7,3.203,3.38,3.462,7.139,4.015,6.825,6.446,4.36,6.375,6.374,4.366,4.437,6.262,6.199,6.174,4.519,5.208,4.559,6.021,6.008,5.895,4.696,5.886,4.456,5.197],\"yaxis\":\"y\",\"type\":\"scatter\"},{\"hovertemplate\":\"Continent=%{x}<br>Happiness Score=%{y}<extra></extra>\",\"legendgroup\":\"Europe\",\"marker\":{\"color\":\"#00cc96\",\"symbol\":\"circle\"},\"mode\":\"markers\",\"name\":\"Europe\",\"orientation\":\"v\",\"showlegend\":true,\"x\":[\"Europe\",\"Europe\",\"Europe\",\"Europe\",\"Europe\",\"Europe\",\"Europe\",\"Europe\",\"Europe\",\"Europe\",\"Europe\",\"Europe\",\"Europe\",\"Europe\",\"Europe\",\"Europe\",\"Europe\",\"Europe\",\"Europe\",\"Europe\",\"Europe\",\"Europe\",\"Europe\",\"Europe\",\"Europe\",\"Europe\",\"Europe\",\"Europe\",\"Europe\",\"Europe\",\"Europe\",\"Europe\",\"Europe\",\"Europe\",\"Europe\",\"Europe\",\"Europe\",\"Europe\",\"Europe\",\"Europe\",\"Europe\",\"Europe\",\"Europe\"],\"xaxis\":\"x\",\"y\":[4.719,5.011,4.332,7.769,5.287,6.149,6.182,5.274,6.223,6.354,6.592,6.726,6.852,6.923,6.118,6.985,7.054,7.09,7.246,7.343,7.48,7.488,7.494,7.554,7.6,7.021,6.1,6.198,6.07,5.323,5.432,5.523,5.529,5.603,5.648,5.693,5.718,5.758,5.809,5.386,5.893,6.046,5.94],\"yaxis\":\"y\",\"type\":\"scatter\"},{\"hovertemplate\":\"Continent=%{x}<br>Happiness Score=%{y}<extra></extra>\",\"legendgroup\":\"North America\",\"marker\":{\"color\":\"#ab63fa\",\"symbol\":\"circle\"},\"mode\":\"markers\",\"name\":\"North America\",\"orientation\":\"v\",\"showlegend\":true,\"x\":[\"North America\",\"North America\",\"North America\",\"North America\",\"North America\",\"North America\",\"North America\",\"North America\",\"North America\",\"North America\",\"North America\",\"North America\"],\"xaxis\":\"x\",\"y\":[6.105,5.425,3.597,7.278,7.167,5.89,6.321,6.595,6.892,5.86,6.436,6.253],\"yaxis\":\"y\",\"type\":\"scatter\"},{\"hovertemplate\":\"Continent=%{x}<br>Happiness Score=%{y}<extra></extra>\",\"legendgroup\":\"Oceania\",\"marker\":{\"color\":\"#FFA15A\",\"symbol\":\"circle\"},\"mode\":\"markers\",\"name\":\"Oceania\",\"orientation\":\"v\",\"showlegend\":true,\"x\":[\"Oceania\",\"Oceania\"],\"xaxis\":\"x\",\"y\":[7.228,7.307],\"yaxis\":\"y\",\"type\":\"scatter\"},{\"hovertemplate\":\"Continent=%{x}<br>Happiness Score=%{y}<extra></extra>\",\"legendgroup\":\"South America\",\"marker\":{\"color\":\"#19d3f3\",\"symbol\":\"circle\"},\"mode\":\"markers\",\"name\":\"South America\",\"orientation\":\"v\",\"showlegend\":true,\"x\":[\"South America\",\"South America\",\"South America\",\"South America\",\"South America\",\"South America\",\"South America\",\"South America\",\"South America\",\"South America\",\"South America\"],\"xaxis\":\"x\",\"y\":[6.444,6.125,6.028,5.743,6.293,6.192,6.086,6.3,5.697,4.707,5.779],\"yaxis\":\"y\",\"type\":\"scatter\"}],                        {\"template\":{\"data\":{\"histogram2dcontour\":[{\"type\":\"histogram2dcontour\",\"colorbar\":{\"outlinewidth\":0,\"ticks\":\"\"},\"colorscale\":[[0.0,\"#0d0887\"],[0.1111111111111111,\"#46039f\"],[0.2222222222222222,\"#7201a8\"],[0.3333333333333333,\"#9c179e\"],[0.4444444444444444,\"#bd3786\"],[0.5555555555555556,\"#d8576b\"],[0.6666666666666666,\"#ed7953\"],[0.7777777777777778,\"#fb9f3a\"],[0.8888888888888888,\"#fdca26\"],[1.0,\"#f0f921\"]]}],\"choropleth\":[{\"type\":\"choropleth\",\"colorbar\":{\"outlinewidth\":0,\"ticks\":\"\"}}],\"histogram2d\":[{\"type\":\"histogram2d\",\"colorbar\":{\"outlinewidth\":0,\"ticks\":\"\"},\"colorscale\":[[0.0,\"#0d0887\"],[0.1111111111111111,\"#46039f\"],[0.2222222222222222,\"#7201a8\"],[0.3333333333333333,\"#9c179e\"],[0.4444444444444444,\"#bd3786\"],[0.5555555555555556,\"#d8576b\"],[0.6666666666666666,\"#ed7953\"],[0.7777777777777778,\"#fb9f3a\"],[0.8888888888888888,\"#fdca26\"],[1.0,\"#f0f921\"]]}],\"heatmap\":[{\"type\":\"heatmap\",\"colorbar\":{\"outlinewidth\":0,\"ticks\":\"\"},\"colorscale\":[[0.0,\"#0d0887\"],[0.1111111111111111,\"#46039f\"],[0.2222222222222222,\"#7201a8\"],[0.3333333333333333,\"#9c179e\"],[0.4444444444444444,\"#bd3786\"],[0.5555555555555556,\"#d8576b\"],[0.6666666666666666,\"#ed7953\"],[0.7777777777777778,\"#fb9f3a\"],[0.8888888888888888,\"#fdca26\"],[1.0,\"#f0f921\"]]}],\"heatmapgl\":[{\"type\":\"heatmapgl\",\"colorbar\":{\"outlinewidth\":0,\"ticks\":\"\"},\"colorscale\":[[0.0,\"#0d0887\"],[0.1111111111111111,\"#46039f\"],[0.2222222222222222,\"#7201a8\"],[0.3333333333333333,\"#9c179e\"],[0.4444444444444444,\"#bd3786\"],[0.5555555555555556,\"#d8576b\"],[0.6666666666666666,\"#ed7953\"],[0.7777777777777778,\"#fb9f3a\"],[0.8888888888888888,\"#fdca26\"],[1.0,\"#f0f921\"]]}],\"contourcarpet\":[{\"type\":\"contourcarpet\",\"colorbar\":{\"outlinewidth\":0,\"ticks\":\"\"}}],\"contour\":[{\"type\":\"contour\",\"colorbar\":{\"outlinewidth\":0,\"ticks\":\"\"},\"colorscale\":[[0.0,\"#0d0887\"],[0.1111111111111111,\"#46039f\"],[0.2222222222222222,\"#7201a8\"],[0.3333333333333333,\"#9c179e\"],[0.4444444444444444,\"#bd3786\"],[0.5555555555555556,\"#d8576b\"],[0.6666666666666666,\"#ed7953\"],[0.7777777777777778,\"#fb9f3a\"],[0.8888888888888888,\"#fdca26\"],[1.0,\"#f0f921\"]]}],\"surface\":[{\"type\":\"surface\",\"colorbar\":{\"outlinewidth\":0,\"ticks\":\"\"},\"colorscale\":[[0.0,\"#0d0887\"],[0.1111111111111111,\"#46039f\"],[0.2222222222222222,\"#7201a8\"],[0.3333333333333333,\"#9c179e\"],[0.4444444444444444,\"#bd3786\"],[0.5555555555555556,\"#d8576b\"],[0.6666666666666666,\"#ed7953\"],[0.7777777777777778,\"#fb9f3a\"],[0.8888888888888888,\"#fdca26\"],[1.0,\"#f0f921\"]]}],\"mesh3d\":[{\"type\":\"mesh3d\",\"colorbar\":{\"outlinewidth\":0,\"ticks\":\"\"}}],\"scatter\":[{\"fillpattern\":{\"fillmode\":\"overlay\",\"size\":10,\"solidity\":0.2},\"type\":\"scatter\"}],\"parcoords\":[{\"type\":\"parcoords\",\"line\":{\"colorbar\":{\"outlinewidth\":0,\"ticks\":\"\"}}}],\"scatterpolargl\":[{\"type\":\"scatterpolargl\",\"marker\":{\"colorbar\":{\"outlinewidth\":0,\"ticks\":\"\"}}}],\"bar\":[{\"error_x\":{\"color\":\"#2a3f5f\"},\"error_y\":{\"color\":\"#2a3f5f\"},\"marker\":{\"line\":{\"color\":\"#E5ECF6\",\"width\":0.5},\"pattern\":{\"fillmode\":\"overlay\",\"size\":10,\"solidity\":0.2}},\"type\":\"bar\"}],\"scattergeo\":[{\"type\":\"scattergeo\",\"marker\":{\"colorbar\":{\"outlinewidth\":0,\"ticks\":\"\"}}}],\"scatterpolar\":[{\"type\":\"scatterpolar\",\"marker\":{\"colorbar\":{\"outlinewidth\":0,\"ticks\":\"\"}}}],\"histogram\":[{\"marker\":{\"pattern\":{\"fillmode\":\"overlay\",\"size\":10,\"solidity\":0.2}},\"type\":\"histogram\"}],\"scattergl\":[{\"type\":\"scattergl\",\"marker\":{\"colorbar\":{\"outlinewidth\":0,\"ticks\":\"\"}}}],\"scatter3d\":[{\"type\":\"scatter3d\",\"line\":{\"colorbar\":{\"outlinewidth\":0,\"ticks\":\"\"}},\"marker\":{\"colorbar\":{\"outlinewidth\":0,\"ticks\":\"\"}}}],\"scattermapbox\":[{\"type\":\"scattermapbox\",\"marker\":{\"colorbar\":{\"outlinewidth\":0,\"ticks\":\"\"}}}],\"scatterternary\":[{\"type\":\"scatterternary\",\"marker\":{\"colorbar\":{\"outlinewidth\":0,\"ticks\":\"\"}}}],\"scattercarpet\":[{\"type\":\"scattercarpet\",\"marker\":{\"colorbar\":{\"outlinewidth\":0,\"ticks\":\"\"}}}],\"carpet\":[{\"aaxis\":{\"endlinecolor\":\"#2a3f5f\",\"gridcolor\":\"white\",\"linecolor\":\"white\",\"minorgridcolor\":\"white\",\"startlinecolor\":\"#2a3f5f\"},\"baxis\":{\"endlinecolor\":\"#2a3f5f\",\"gridcolor\":\"white\",\"linecolor\":\"white\",\"minorgridcolor\":\"white\",\"startlinecolor\":\"#2a3f5f\"},\"type\":\"carpet\"}],\"table\":[{\"cells\":{\"fill\":{\"color\":\"#EBF0F8\"},\"line\":{\"color\":\"white\"}},\"header\":{\"fill\":{\"color\":\"#C8D4E3\"},\"line\":{\"color\":\"white\"}},\"type\":\"table\"}],\"barpolar\":[{\"marker\":{\"line\":{\"color\":\"#E5ECF6\",\"width\":0.5},\"pattern\":{\"fillmode\":\"overlay\",\"size\":10,\"solidity\":0.2}},\"type\":\"barpolar\"}],\"pie\":[{\"automargin\":true,\"type\":\"pie\"}]},\"layout\":{\"autotypenumbers\":\"strict\",\"colorway\":[\"#636efa\",\"#EF553B\",\"#00cc96\",\"#ab63fa\",\"#FFA15A\",\"#19d3f3\",\"#FF6692\",\"#B6E880\",\"#FF97FF\",\"#FECB52\"],\"font\":{\"color\":\"#2a3f5f\"},\"hovermode\":\"closest\",\"hoverlabel\":{\"align\":\"left\"},\"paper_bgcolor\":\"white\",\"plot_bgcolor\":\"#E5ECF6\",\"polar\":{\"bgcolor\":\"#E5ECF6\",\"angularaxis\":{\"gridcolor\":\"white\",\"linecolor\":\"white\",\"ticks\":\"\"},\"radialaxis\":{\"gridcolor\":\"white\",\"linecolor\":\"white\",\"ticks\":\"\"}},\"ternary\":{\"bgcolor\":\"#E5ECF6\",\"aaxis\":{\"gridcolor\":\"white\",\"linecolor\":\"white\",\"ticks\":\"\"},\"baxis\":{\"gridcolor\":\"white\",\"linecolor\":\"white\",\"ticks\":\"\"},\"caxis\":{\"gridcolor\":\"white\",\"linecolor\":\"white\",\"ticks\":\"\"}},\"coloraxis\":{\"colorbar\":{\"outlinewidth\":0,\"ticks\":\"\"}},\"colorscale\":{\"sequential\":[[0.0,\"#0d0887\"],[0.1111111111111111,\"#46039f\"],[0.2222222222222222,\"#7201a8\"],[0.3333333333333333,\"#9c179e\"],[0.4444444444444444,\"#bd3786\"],[0.5555555555555556,\"#d8576b\"],[0.6666666666666666,\"#ed7953\"],[0.7777777777777778,\"#fb9f3a\"],[0.8888888888888888,\"#fdca26\"],[1.0,\"#f0f921\"]],\"sequentialminus\":[[0.0,\"#0d0887\"],[0.1111111111111111,\"#46039f\"],[0.2222222222222222,\"#7201a8\"],[0.3333333333333333,\"#9c179e\"],[0.4444444444444444,\"#bd3786\"],[0.5555555555555556,\"#d8576b\"],[0.6666666666666666,\"#ed7953\"],[0.7777777777777778,\"#fb9f3a\"],[0.8888888888888888,\"#fdca26\"],[1.0,\"#f0f921\"]],\"diverging\":[[0,\"#8e0152\"],[0.1,\"#c51b7d\"],[0.2,\"#de77ae\"],[0.3,\"#f1b6da\"],[0.4,\"#fde0ef\"],[0.5,\"#f7f7f7\"],[0.6,\"#e6f5d0\"],[0.7,\"#b8e186\"],[0.8,\"#7fbc41\"],[0.9,\"#4d9221\"],[1,\"#276419\"]]},\"xaxis\":{\"gridcolor\":\"white\",\"linecolor\":\"white\",\"ticks\":\"\",\"title\":{\"standoff\":15},\"zerolinecolor\":\"white\",\"automargin\":true,\"zerolinewidth\":2},\"yaxis\":{\"gridcolor\":\"white\",\"linecolor\":\"white\",\"ticks\":\"\",\"title\":{\"standoff\":15},\"zerolinecolor\":\"white\",\"automargin\":true,\"zerolinewidth\":2},\"scene\":{\"xaxis\":{\"backgroundcolor\":\"#E5ECF6\",\"gridcolor\":\"white\",\"linecolor\":\"white\",\"showbackground\":true,\"ticks\":\"\",\"zerolinecolor\":\"white\",\"gridwidth\":2},\"yaxis\":{\"backgroundcolor\":\"#E5ECF6\",\"gridcolor\":\"white\",\"linecolor\":\"white\",\"showbackground\":true,\"ticks\":\"\",\"zerolinecolor\":\"white\",\"gridwidth\":2},\"zaxis\":{\"backgroundcolor\":\"#E5ECF6\",\"gridcolor\":\"white\",\"linecolor\":\"white\",\"showbackground\":true,\"ticks\":\"\",\"zerolinecolor\":\"white\",\"gridwidth\":2}},\"shapedefaults\":{\"line\":{\"color\":\"#2a3f5f\"}},\"annotationdefaults\":{\"arrowcolor\":\"#2a3f5f\",\"arrowhead\":0,\"arrowwidth\":1},\"geo\":{\"bgcolor\":\"white\",\"landcolor\":\"#E5ECF6\",\"subunitcolor\":\"white\",\"showland\":true,\"showlakes\":true,\"lakecolor\":\"white\"},\"title\":{\"x\":0.05},\"mapbox\":{\"style\":\"light\"}}},\"xaxis\":{\"anchor\":\"y\",\"domain\":[0.0,1.0],\"title\":{\"text\":\"Continent\"},\"categoryorder\":\"array\",\"categoryarray\":[\"Africa\",\"Asia\",\"Europe\",\"North America\",\"Oceania\",\"South America\"]},\"yaxis\":{\"anchor\":\"x\",\"domain\":[0.0,1.0],\"title\":{\"text\":\"Happiness Score\"}},\"legend\":{\"title\":{\"text\":\"Continent\"},\"tracegroupgap\":0},\"title\":{\"text\":\"Happiness Scores by Continent (Scatter Plot)\"}},                        {\"responsive\": true}                    ).then(function(){\n",
       "                            \n",
       "var gd = document.getElementById('2b054c13-e7d4-4a56-be9b-5c646f538a3f');\n",
       "var x = new MutationObserver(function (mutations, observer) {{\n",
       "        var display = window.getComputedStyle(gd).display;\n",
       "        if (!display || display === 'none') {{\n",
       "            console.log([gd, 'removed!']);\n",
       "            Plotly.purge(gd);\n",
       "            observer.disconnect();\n",
       "        }}\n",
       "}});\n",
       "\n",
       "// Listen for the removal of the full notebook cells\n",
       "var notebookContainer = gd.closest('#notebook-container');\n",
       "if (notebookContainer) {{\n",
       "    x.observe(notebookContainer, {childList: true});\n",
       "}}\n",
       "\n",
       "// Listen for the clearing of the current output cell\n",
       "var outputEl = gd.closest('.output');\n",
       "if (outputEl) {{\n",
       "    x.observe(outputEl, {childList: true});\n",
       "}}\n",
       "\n",
       "                        })                };                });            </script>        </div>"
      ]
     },
     "metadata": {},
     "output_type": "display_data"
    },
    {
     "data": {
      "text/html": [
       "<div>                            <div id=\"c2e68814-2bb3-4a0b-b3e7-87dcd2282d73\" class=\"plotly-graph-div\" style=\"height:525px; width:100%;\"></div>            <script type=\"text/javascript\">                require([\"plotly\"], function(Plotly) {                    window.PLOTLYENV=window.PLOTLYENV || {};                                    if (document.getElementById(\"c2e68814-2bb3-4a0b-b3e7-87dcd2282d73\")) {                    Plotly.newPlot(                        \"c2e68814-2bb3-4a0b-b3e7-87dcd2282d73\",                        [{\"alignmentgroup\":\"True\",\"hovertemplate\":\"Continent=%{x}<br>Happiness Score=%{y}<extra></extra>\",\"legendgroup\":\"Africa\",\"marker\":{\"color\":\"#636efa\"},\"name\":\"Africa\",\"notched\":false,\"offsetgroup\":\"Africa\",\"orientation\":\"v\",\"showlegend\":true,\"x\":[\"Africa\",\"Africa\",\"Africa\",\"Africa\",\"Africa\",\"Africa\",\"Africa\",\"Africa\",\"Africa\",\"Africa\",\"Africa\",\"Africa\",\"Africa\",\"Africa\",\"Africa\",\"Africa\",\"Africa\",\"Africa\",\"Africa\",\"Africa\",\"Africa\",\"Africa\",\"Africa\",\"Africa\",\"Africa\",\"Africa\",\"Africa\",\"Africa\",\"Africa\",\"Africa\",\"Africa\",\"Africa\",\"Africa\",\"Africa\",\"Africa\",\"Africa\",\"Africa\",\"Africa\",\"Africa\",\"Africa\",\"Africa\",\"Africa\",\"Africa\",\"Africa\",\"Africa\"],\"x0\":\" \",\"xaxis\":\"x\",\"y\":[2.853,4.39,4.418,5.044,4.461,4.466,4.49,5.525,4.509,4.516,4.996,4.534,4.944,4.587,4.628,4.639,4.668,4.681,4.883,5.888,4.812,4.799,3.083,4.35,4.374,3.973,5.208,3.231,3.334,5.211,3.41,3.488,3.663,3.775,3.802,3.933,3.975,5.265,4.085,4.722,4.166,4.189,4.286,4.212,4.107],\"y0\":\" \",\"yaxis\":\"y\",\"type\":\"box\"},{\"alignmentgroup\":\"True\",\"hovertemplate\":\"Continent=%{x}<br>Happiness Score=%{y}<extra></extra>\",\"legendgroup\":\"Asia\",\"marker\":{\"color\":\"#EF553B\"},\"name\":\"Asia\",\"notched\":false,\"offsetgroup\":\"Asia\",\"orientation\":\"v\",\"showlegend\":true,\"x\":[\"Asia\",\"Asia\",\"Asia\",\"Asia\",\"Asia\",\"Asia\",\"Asia\",\"Asia\",\"Asia\",\"Asia\",\"Asia\",\"Asia\",\"Asia\",\"Asia\",\"Asia\",\"Asia\",\"Asia\",\"Asia\",\"Asia\",\"Asia\",\"Asia\",\"Asia\",\"Asia\",\"Asia\",\"Asia\",\"Asia\",\"Asia\",\"Asia\",\"Asia\",\"Asia\",\"Asia\",\"Asia\",\"Asia\",\"Asia\",\"Asia\",\"Asia\",\"Asia\",\"Asia\",\"Asia\",\"Asia\",\"Asia\",\"Asia\",\"Asia\"],\"x0\":\" \",\"xaxis\":\"x\",\"y\":[5.175,5.339,5.373,4.796,4.906,5.247,4.913,5.192,5.082,5.631,5.43,5.261,5.191,5.467,5.653,5.285,4.548,4.7,3.203,3.38,3.462,7.139,4.015,6.825,6.446,4.36,6.375,6.374,4.366,4.437,6.262,6.199,6.174,4.519,5.208,4.559,6.021,6.008,5.895,4.696,5.886,4.456,5.197],\"y0\":\" \",\"yaxis\":\"y\",\"type\":\"box\"},{\"alignmentgroup\":\"True\",\"hovertemplate\":\"Continent=%{x}<br>Happiness Score=%{y}<extra></extra>\",\"legendgroup\":\"Europe\",\"marker\":{\"color\":\"#00cc96\"},\"name\":\"Europe\",\"notched\":false,\"offsetgroup\":\"Europe\",\"orientation\":\"v\",\"showlegend\":true,\"x\":[\"Europe\",\"Europe\",\"Europe\",\"Europe\",\"Europe\",\"Europe\",\"Europe\",\"Europe\",\"Europe\",\"Europe\",\"Europe\",\"Europe\",\"Europe\",\"Europe\",\"Europe\",\"Europe\",\"Europe\",\"Europe\",\"Europe\",\"Europe\",\"Europe\",\"Europe\",\"Europe\",\"Europe\",\"Europe\",\"Europe\",\"Europe\",\"Europe\",\"Europe\",\"Europe\",\"Europe\",\"Europe\",\"Europe\",\"Europe\",\"Europe\",\"Europe\",\"Europe\",\"Europe\",\"Europe\",\"Europe\",\"Europe\",\"Europe\",\"Europe\"],\"x0\":\" \",\"xaxis\":\"x\",\"y\":[4.719,5.011,4.332,7.769,5.287,6.149,6.182,5.274,6.223,6.354,6.592,6.726,6.852,6.923,6.118,6.985,7.054,7.09,7.246,7.343,7.48,7.488,7.494,7.554,7.6,7.021,6.1,6.198,6.07,5.323,5.432,5.523,5.529,5.603,5.648,5.693,5.718,5.758,5.809,5.386,5.893,6.046,5.94],\"y0\":\" \",\"yaxis\":\"y\",\"type\":\"box\"},{\"alignmentgroup\":\"True\",\"hovertemplate\":\"Continent=%{x}<br>Happiness Score=%{y}<extra></extra>\",\"legendgroup\":\"North America\",\"marker\":{\"color\":\"#ab63fa\"},\"name\":\"North America\",\"notched\":false,\"offsetgroup\":\"North America\",\"orientation\":\"v\",\"showlegend\":true,\"x\":[\"North America\",\"North America\",\"North America\",\"North America\",\"North America\",\"North America\",\"North America\",\"North America\",\"North America\",\"North America\",\"North America\",\"North America\"],\"x0\":\" \",\"xaxis\":\"x\",\"y\":[6.105,5.425,3.597,7.278,7.167,5.89,6.321,6.595,6.892,5.86,6.436,6.253],\"y0\":\" \",\"yaxis\":\"y\",\"type\":\"box\"},{\"alignmentgroup\":\"True\",\"hovertemplate\":\"Continent=%{x}<br>Happiness Score=%{y}<extra></extra>\",\"legendgroup\":\"Oceania\",\"marker\":{\"color\":\"#FFA15A\"},\"name\":\"Oceania\",\"notched\":false,\"offsetgroup\":\"Oceania\",\"orientation\":\"v\",\"showlegend\":true,\"x\":[\"Oceania\",\"Oceania\"],\"x0\":\" \",\"xaxis\":\"x\",\"y\":[7.228,7.307],\"y0\":\" \",\"yaxis\":\"y\",\"type\":\"box\"},{\"alignmentgroup\":\"True\",\"hovertemplate\":\"Continent=%{x}<br>Happiness Score=%{y}<extra></extra>\",\"legendgroup\":\"South America\",\"marker\":{\"color\":\"#19d3f3\"},\"name\":\"South America\",\"notched\":false,\"offsetgroup\":\"South America\",\"orientation\":\"v\",\"showlegend\":true,\"x\":[\"South America\",\"South America\",\"South America\",\"South America\",\"South America\",\"South America\",\"South America\",\"South America\",\"South America\",\"South America\",\"South America\"],\"x0\":\" \",\"xaxis\":\"x\",\"y\":[6.444,6.125,6.028,5.743,6.293,6.192,6.086,6.3,5.697,4.707,5.779],\"y0\":\" \",\"yaxis\":\"y\",\"type\":\"box\"}],                        {\"template\":{\"data\":{\"histogram2dcontour\":[{\"type\":\"histogram2dcontour\",\"colorbar\":{\"outlinewidth\":0,\"ticks\":\"\"},\"colorscale\":[[0.0,\"#0d0887\"],[0.1111111111111111,\"#46039f\"],[0.2222222222222222,\"#7201a8\"],[0.3333333333333333,\"#9c179e\"],[0.4444444444444444,\"#bd3786\"],[0.5555555555555556,\"#d8576b\"],[0.6666666666666666,\"#ed7953\"],[0.7777777777777778,\"#fb9f3a\"],[0.8888888888888888,\"#fdca26\"],[1.0,\"#f0f921\"]]}],\"choropleth\":[{\"type\":\"choropleth\",\"colorbar\":{\"outlinewidth\":0,\"ticks\":\"\"}}],\"histogram2d\":[{\"type\":\"histogram2d\",\"colorbar\":{\"outlinewidth\":0,\"ticks\":\"\"},\"colorscale\":[[0.0,\"#0d0887\"],[0.1111111111111111,\"#46039f\"],[0.2222222222222222,\"#7201a8\"],[0.3333333333333333,\"#9c179e\"],[0.4444444444444444,\"#bd3786\"],[0.5555555555555556,\"#d8576b\"],[0.6666666666666666,\"#ed7953\"],[0.7777777777777778,\"#fb9f3a\"],[0.8888888888888888,\"#fdca26\"],[1.0,\"#f0f921\"]]}],\"heatmap\":[{\"type\":\"heatmap\",\"colorbar\":{\"outlinewidth\":0,\"ticks\":\"\"},\"colorscale\":[[0.0,\"#0d0887\"],[0.1111111111111111,\"#46039f\"],[0.2222222222222222,\"#7201a8\"],[0.3333333333333333,\"#9c179e\"],[0.4444444444444444,\"#bd3786\"],[0.5555555555555556,\"#d8576b\"],[0.6666666666666666,\"#ed7953\"],[0.7777777777777778,\"#fb9f3a\"],[0.8888888888888888,\"#fdca26\"],[1.0,\"#f0f921\"]]}],\"heatmapgl\":[{\"type\":\"heatmapgl\",\"colorbar\":{\"outlinewidth\":0,\"ticks\":\"\"},\"colorscale\":[[0.0,\"#0d0887\"],[0.1111111111111111,\"#46039f\"],[0.2222222222222222,\"#7201a8\"],[0.3333333333333333,\"#9c179e\"],[0.4444444444444444,\"#bd3786\"],[0.5555555555555556,\"#d8576b\"],[0.6666666666666666,\"#ed7953\"],[0.7777777777777778,\"#fb9f3a\"],[0.8888888888888888,\"#fdca26\"],[1.0,\"#f0f921\"]]}],\"contourcarpet\":[{\"type\":\"contourcarpet\",\"colorbar\":{\"outlinewidth\":0,\"ticks\":\"\"}}],\"contour\":[{\"type\":\"contour\",\"colorbar\":{\"outlinewidth\":0,\"ticks\":\"\"},\"colorscale\":[[0.0,\"#0d0887\"],[0.1111111111111111,\"#46039f\"],[0.2222222222222222,\"#7201a8\"],[0.3333333333333333,\"#9c179e\"],[0.4444444444444444,\"#bd3786\"],[0.5555555555555556,\"#d8576b\"],[0.6666666666666666,\"#ed7953\"],[0.7777777777777778,\"#fb9f3a\"],[0.8888888888888888,\"#fdca26\"],[1.0,\"#f0f921\"]]}],\"surface\":[{\"type\":\"surface\",\"colorbar\":{\"outlinewidth\":0,\"ticks\":\"\"},\"colorscale\":[[0.0,\"#0d0887\"],[0.1111111111111111,\"#46039f\"],[0.2222222222222222,\"#7201a8\"],[0.3333333333333333,\"#9c179e\"],[0.4444444444444444,\"#bd3786\"],[0.5555555555555556,\"#d8576b\"],[0.6666666666666666,\"#ed7953\"],[0.7777777777777778,\"#fb9f3a\"],[0.8888888888888888,\"#fdca26\"],[1.0,\"#f0f921\"]]}],\"mesh3d\":[{\"type\":\"mesh3d\",\"colorbar\":{\"outlinewidth\":0,\"ticks\":\"\"}}],\"scatter\":[{\"fillpattern\":{\"fillmode\":\"overlay\",\"size\":10,\"solidity\":0.2},\"type\":\"scatter\"}],\"parcoords\":[{\"type\":\"parcoords\",\"line\":{\"colorbar\":{\"outlinewidth\":0,\"ticks\":\"\"}}}],\"scatterpolargl\":[{\"type\":\"scatterpolargl\",\"marker\":{\"colorbar\":{\"outlinewidth\":0,\"ticks\":\"\"}}}],\"bar\":[{\"error_x\":{\"color\":\"#2a3f5f\"},\"error_y\":{\"color\":\"#2a3f5f\"},\"marker\":{\"line\":{\"color\":\"#E5ECF6\",\"width\":0.5},\"pattern\":{\"fillmode\":\"overlay\",\"size\":10,\"solidity\":0.2}},\"type\":\"bar\"}],\"scattergeo\":[{\"type\":\"scattergeo\",\"marker\":{\"colorbar\":{\"outlinewidth\":0,\"ticks\":\"\"}}}],\"scatterpolar\":[{\"type\":\"scatterpolar\",\"marker\":{\"colorbar\":{\"outlinewidth\":0,\"ticks\":\"\"}}}],\"histogram\":[{\"marker\":{\"pattern\":{\"fillmode\":\"overlay\",\"size\":10,\"solidity\":0.2}},\"type\":\"histogram\"}],\"scattergl\":[{\"type\":\"scattergl\",\"marker\":{\"colorbar\":{\"outlinewidth\":0,\"ticks\":\"\"}}}],\"scatter3d\":[{\"type\":\"scatter3d\",\"line\":{\"colorbar\":{\"outlinewidth\":0,\"ticks\":\"\"}},\"marker\":{\"colorbar\":{\"outlinewidth\":0,\"ticks\":\"\"}}}],\"scattermapbox\":[{\"type\":\"scattermapbox\",\"marker\":{\"colorbar\":{\"outlinewidth\":0,\"ticks\":\"\"}}}],\"scatterternary\":[{\"type\":\"scatterternary\",\"marker\":{\"colorbar\":{\"outlinewidth\":0,\"ticks\":\"\"}}}],\"scattercarpet\":[{\"type\":\"scattercarpet\",\"marker\":{\"colorbar\":{\"outlinewidth\":0,\"ticks\":\"\"}}}],\"carpet\":[{\"aaxis\":{\"endlinecolor\":\"#2a3f5f\",\"gridcolor\":\"white\",\"linecolor\":\"white\",\"minorgridcolor\":\"white\",\"startlinecolor\":\"#2a3f5f\"},\"baxis\":{\"endlinecolor\":\"#2a3f5f\",\"gridcolor\":\"white\",\"linecolor\":\"white\",\"minorgridcolor\":\"white\",\"startlinecolor\":\"#2a3f5f\"},\"type\":\"carpet\"}],\"table\":[{\"cells\":{\"fill\":{\"color\":\"#EBF0F8\"},\"line\":{\"color\":\"white\"}},\"header\":{\"fill\":{\"color\":\"#C8D4E3\"},\"line\":{\"color\":\"white\"}},\"type\":\"table\"}],\"barpolar\":[{\"marker\":{\"line\":{\"color\":\"#E5ECF6\",\"width\":0.5},\"pattern\":{\"fillmode\":\"overlay\",\"size\":10,\"solidity\":0.2}},\"type\":\"barpolar\"}],\"pie\":[{\"automargin\":true,\"type\":\"pie\"}]},\"layout\":{\"autotypenumbers\":\"strict\",\"colorway\":[\"#636efa\",\"#EF553B\",\"#00cc96\",\"#ab63fa\",\"#FFA15A\",\"#19d3f3\",\"#FF6692\",\"#B6E880\",\"#FF97FF\",\"#FECB52\"],\"font\":{\"color\":\"#2a3f5f\"},\"hovermode\":\"closest\",\"hoverlabel\":{\"align\":\"left\"},\"paper_bgcolor\":\"white\",\"plot_bgcolor\":\"#E5ECF6\",\"polar\":{\"bgcolor\":\"#E5ECF6\",\"angularaxis\":{\"gridcolor\":\"white\",\"linecolor\":\"white\",\"ticks\":\"\"},\"radialaxis\":{\"gridcolor\":\"white\",\"linecolor\":\"white\",\"ticks\":\"\"}},\"ternary\":{\"bgcolor\":\"#E5ECF6\",\"aaxis\":{\"gridcolor\":\"white\",\"linecolor\":\"white\",\"ticks\":\"\"},\"baxis\":{\"gridcolor\":\"white\",\"linecolor\":\"white\",\"ticks\":\"\"},\"caxis\":{\"gridcolor\":\"white\",\"linecolor\":\"white\",\"ticks\":\"\"}},\"coloraxis\":{\"colorbar\":{\"outlinewidth\":0,\"ticks\":\"\"}},\"colorscale\":{\"sequential\":[[0.0,\"#0d0887\"],[0.1111111111111111,\"#46039f\"],[0.2222222222222222,\"#7201a8\"],[0.3333333333333333,\"#9c179e\"],[0.4444444444444444,\"#bd3786\"],[0.5555555555555556,\"#d8576b\"],[0.6666666666666666,\"#ed7953\"],[0.7777777777777778,\"#fb9f3a\"],[0.8888888888888888,\"#fdca26\"],[1.0,\"#f0f921\"]],\"sequentialminus\":[[0.0,\"#0d0887\"],[0.1111111111111111,\"#46039f\"],[0.2222222222222222,\"#7201a8\"],[0.3333333333333333,\"#9c179e\"],[0.4444444444444444,\"#bd3786\"],[0.5555555555555556,\"#d8576b\"],[0.6666666666666666,\"#ed7953\"],[0.7777777777777778,\"#fb9f3a\"],[0.8888888888888888,\"#fdca26\"],[1.0,\"#f0f921\"]],\"diverging\":[[0,\"#8e0152\"],[0.1,\"#c51b7d\"],[0.2,\"#de77ae\"],[0.3,\"#f1b6da\"],[0.4,\"#fde0ef\"],[0.5,\"#f7f7f7\"],[0.6,\"#e6f5d0\"],[0.7,\"#b8e186\"],[0.8,\"#7fbc41\"],[0.9,\"#4d9221\"],[1,\"#276419\"]]},\"xaxis\":{\"gridcolor\":\"white\",\"linecolor\":\"white\",\"ticks\":\"\",\"title\":{\"standoff\":15},\"zerolinecolor\":\"white\",\"automargin\":true,\"zerolinewidth\":2},\"yaxis\":{\"gridcolor\":\"white\",\"linecolor\":\"white\",\"ticks\":\"\",\"title\":{\"standoff\":15},\"zerolinecolor\":\"white\",\"automargin\":true,\"zerolinewidth\":2},\"scene\":{\"xaxis\":{\"backgroundcolor\":\"#E5ECF6\",\"gridcolor\":\"white\",\"linecolor\":\"white\",\"showbackground\":true,\"ticks\":\"\",\"zerolinecolor\":\"white\",\"gridwidth\":2},\"yaxis\":{\"backgroundcolor\":\"#E5ECF6\",\"gridcolor\":\"white\",\"linecolor\":\"white\",\"showbackground\":true,\"ticks\":\"\",\"zerolinecolor\":\"white\",\"gridwidth\":2},\"zaxis\":{\"backgroundcolor\":\"#E5ECF6\",\"gridcolor\":\"white\",\"linecolor\":\"white\",\"showbackground\":true,\"ticks\":\"\",\"zerolinecolor\":\"white\",\"gridwidth\":2}},\"shapedefaults\":{\"line\":{\"color\":\"#2a3f5f\"}},\"annotationdefaults\":{\"arrowcolor\":\"#2a3f5f\",\"arrowhead\":0,\"arrowwidth\":1},\"geo\":{\"bgcolor\":\"white\",\"landcolor\":\"#E5ECF6\",\"subunitcolor\":\"white\",\"showland\":true,\"showlakes\":true,\"lakecolor\":\"white\"},\"title\":{\"x\":0.05},\"mapbox\":{\"style\":\"light\"}}},\"xaxis\":{\"anchor\":\"y\",\"domain\":[0.0,1.0],\"title\":{\"text\":\"Continent\"},\"categoryorder\":\"array\",\"categoryarray\":[\"Africa\",\"Asia\",\"Europe\",\"North America\",\"Oceania\",\"South America\"]},\"yaxis\":{\"anchor\":\"x\",\"domain\":[0.0,1.0],\"title\":{\"text\":\"Happiness Score\"}},\"legend\":{\"title\":{\"text\":\"Continent\"},\"tracegroupgap\":0},\"title\":{\"text\":\"Happiness Scores by Continent (Box Plot)\"},\"boxmode\":\"overlay\"},                        {\"responsive\": true}                    ).then(function(){\n",
       "                            \n",
       "var gd = document.getElementById('c2e68814-2bb3-4a0b-b3e7-87dcd2282d73');\n",
       "var x = new MutationObserver(function (mutations, observer) {{\n",
       "        var display = window.getComputedStyle(gd).display;\n",
       "        if (!display || display === 'none') {{\n",
       "            console.log([gd, 'removed!']);\n",
       "            Plotly.purge(gd);\n",
       "            observer.disconnect();\n",
       "        }}\n",
       "}});\n",
       "\n",
       "// Listen for the removal of the full notebook cells\n",
       "var notebookContainer = gd.closest('#notebook-container');\n",
       "if (notebookContainer) {{\n",
       "    x.observe(notebookContainer, {childList: true});\n",
       "}}\n",
       "\n",
       "// Listen for the clearing of the current output cell\n",
       "var outputEl = gd.closest('.output');\n",
       "if (outputEl) {{\n",
       "    x.observe(outputEl, {childList: true});\n",
       "}}\n",
       "\n",
       "                        })                };                });            </script>        </div>"
      ]
     },
     "metadata": {},
     "output_type": "display_data"
    },
    {
     "data": {
      "text/html": [
       "<div>                            <div id=\"ebfc6100-acac-4a82-8e14-656ab65af6cf\" class=\"plotly-graph-div\" style=\"height:525px; width:100%;\"></div>            <script type=\"text/javascript\">                require([\"plotly\"], function(Plotly) {                    window.PLOTLYENV=window.PLOTLYENV || {};                                    if (document.getElementById(\"ebfc6100-acac-4a82-8e14-656ab65af6cf\")) {                    Plotly.newPlot(                        \"ebfc6100-acac-4a82-8e14-656ab65af6cf\",                        [{\"alignmentgroup\":\"True\",\"box\":{\"visible\":false},\"hovertemplate\":\"Continent=%{x}<br>Happiness Score=%{y}<extra></extra>\",\"legendgroup\":\"Africa\",\"marker\":{\"color\":\"#636efa\"},\"name\":\"Africa\",\"offsetgroup\":\"Africa\",\"orientation\":\"v\",\"scalegroup\":\"True\",\"showlegend\":true,\"x\":[\"Africa\",\"Africa\",\"Africa\",\"Africa\",\"Africa\",\"Africa\",\"Africa\",\"Africa\",\"Africa\",\"Africa\",\"Africa\",\"Africa\",\"Africa\",\"Africa\",\"Africa\",\"Africa\",\"Africa\",\"Africa\",\"Africa\",\"Africa\",\"Africa\",\"Africa\",\"Africa\",\"Africa\",\"Africa\",\"Africa\",\"Africa\",\"Africa\",\"Africa\",\"Africa\",\"Africa\",\"Africa\",\"Africa\",\"Africa\",\"Africa\",\"Africa\",\"Africa\",\"Africa\",\"Africa\",\"Africa\",\"Africa\",\"Africa\",\"Africa\",\"Africa\",\"Africa\"],\"x0\":\" \",\"xaxis\":\"x\",\"y\":[2.853,4.39,4.418,5.044,4.461,4.466,4.49,5.525,4.509,4.516,4.996,4.534,4.944,4.587,4.628,4.639,4.668,4.681,4.883,5.888,4.812,4.799,3.083,4.35,4.374,3.973,5.208,3.231,3.334,5.211,3.41,3.488,3.663,3.775,3.802,3.933,3.975,5.265,4.085,4.722,4.166,4.189,4.286,4.212,4.107],\"y0\":\" \",\"yaxis\":\"y\",\"type\":\"violin\"},{\"alignmentgroup\":\"True\",\"box\":{\"visible\":false},\"hovertemplate\":\"Continent=%{x}<br>Happiness Score=%{y}<extra></extra>\",\"legendgroup\":\"Asia\",\"marker\":{\"color\":\"#EF553B\"},\"name\":\"Asia\",\"offsetgroup\":\"Asia\",\"orientation\":\"v\",\"scalegroup\":\"True\",\"showlegend\":true,\"x\":[\"Asia\",\"Asia\",\"Asia\",\"Asia\",\"Asia\",\"Asia\",\"Asia\",\"Asia\",\"Asia\",\"Asia\",\"Asia\",\"Asia\",\"Asia\",\"Asia\",\"Asia\",\"Asia\",\"Asia\",\"Asia\",\"Asia\",\"Asia\",\"Asia\",\"Asia\",\"Asia\",\"Asia\",\"Asia\",\"Asia\",\"Asia\",\"Asia\",\"Asia\",\"Asia\",\"Asia\",\"Asia\",\"Asia\",\"Asia\",\"Asia\",\"Asia\",\"Asia\",\"Asia\",\"Asia\",\"Asia\",\"Asia\",\"Asia\",\"Asia\"],\"x0\":\" \",\"xaxis\":\"x\",\"y\":[5.175,5.339,5.373,4.796,4.906,5.247,4.913,5.192,5.082,5.631,5.43,5.261,5.191,5.467,5.653,5.285,4.548,4.7,3.203,3.38,3.462,7.139,4.015,6.825,6.446,4.36,6.375,6.374,4.366,4.437,6.262,6.199,6.174,4.519,5.208,4.559,6.021,6.008,5.895,4.696,5.886,4.456,5.197],\"y0\":\" \",\"yaxis\":\"y\",\"type\":\"violin\"},{\"alignmentgroup\":\"True\",\"box\":{\"visible\":false},\"hovertemplate\":\"Continent=%{x}<br>Happiness Score=%{y}<extra></extra>\",\"legendgroup\":\"Europe\",\"marker\":{\"color\":\"#00cc96\"},\"name\":\"Europe\",\"offsetgroup\":\"Europe\",\"orientation\":\"v\",\"scalegroup\":\"True\",\"showlegend\":true,\"x\":[\"Europe\",\"Europe\",\"Europe\",\"Europe\",\"Europe\",\"Europe\",\"Europe\",\"Europe\",\"Europe\",\"Europe\",\"Europe\",\"Europe\",\"Europe\",\"Europe\",\"Europe\",\"Europe\",\"Europe\",\"Europe\",\"Europe\",\"Europe\",\"Europe\",\"Europe\",\"Europe\",\"Europe\",\"Europe\",\"Europe\",\"Europe\",\"Europe\",\"Europe\",\"Europe\",\"Europe\",\"Europe\",\"Europe\",\"Europe\",\"Europe\",\"Europe\",\"Europe\",\"Europe\",\"Europe\",\"Europe\",\"Europe\",\"Europe\",\"Europe\"],\"x0\":\" \",\"xaxis\":\"x\",\"y\":[4.719,5.011,4.332,7.769,5.287,6.149,6.182,5.274,6.223,6.354,6.592,6.726,6.852,6.923,6.118,6.985,7.054,7.09,7.246,7.343,7.48,7.488,7.494,7.554,7.6,7.021,6.1,6.198,6.07,5.323,5.432,5.523,5.529,5.603,5.648,5.693,5.718,5.758,5.809,5.386,5.893,6.046,5.94],\"y0\":\" \",\"yaxis\":\"y\",\"type\":\"violin\"},{\"alignmentgroup\":\"True\",\"box\":{\"visible\":false},\"hovertemplate\":\"Continent=%{x}<br>Happiness Score=%{y}<extra></extra>\",\"legendgroup\":\"North America\",\"marker\":{\"color\":\"#ab63fa\"},\"name\":\"North America\",\"offsetgroup\":\"North America\",\"orientation\":\"v\",\"scalegroup\":\"True\",\"showlegend\":true,\"x\":[\"North America\",\"North America\",\"North America\",\"North America\",\"North America\",\"North America\",\"North America\",\"North America\",\"North America\",\"North America\",\"North America\",\"North America\"],\"x0\":\" \",\"xaxis\":\"x\",\"y\":[6.105,5.425,3.597,7.278,7.167,5.89,6.321,6.595,6.892,5.86,6.436,6.253],\"y0\":\" \",\"yaxis\":\"y\",\"type\":\"violin\"},{\"alignmentgroup\":\"True\",\"box\":{\"visible\":false},\"hovertemplate\":\"Continent=%{x}<br>Happiness Score=%{y}<extra></extra>\",\"legendgroup\":\"Oceania\",\"marker\":{\"color\":\"#FFA15A\"},\"name\":\"Oceania\",\"offsetgroup\":\"Oceania\",\"orientation\":\"v\",\"scalegroup\":\"True\",\"showlegend\":true,\"x\":[\"Oceania\",\"Oceania\"],\"x0\":\" \",\"xaxis\":\"x\",\"y\":[7.228,7.307],\"y0\":\" \",\"yaxis\":\"y\",\"type\":\"violin\"},{\"alignmentgroup\":\"True\",\"box\":{\"visible\":false},\"hovertemplate\":\"Continent=%{x}<br>Happiness Score=%{y}<extra></extra>\",\"legendgroup\":\"South America\",\"marker\":{\"color\":\"#19d3f3\"},\"name\":\"South America\",\"offsetgroup\":\"South America\",\"orientation\":\"v\",\"scalegroup\":\"True\",\"showlegend\":true,\"x\":[\"South America\",\"South America\",\"South America\",\"South America\",\"South America\",\"South America\",\"South America\",\"South America\",\"South America\",\"South America\",\"South America\"],\"x0\":\" \",\"xaxis\":\"x\",\"y\":[6.444,6.125,6.028,5.743,6.293,6.192,6.086,6.3,5.697,4.707,5.779],\"y0\":\" \",\"yaxis\":\"y\",\"type\":\"violin\"}],                        {\"template\":{\"data\":{\"histogram2dcontour\":[{\"type\":\"histogram2dcontour\",\"colorbar\":{\"outlinewidth\":0,\"ticks\":\"\"},\"colorscale\":[[0.0,\"#0d0887\"],[0.1111111111111111,\"#46039f\"],[0.2222222222222222,\"#7201a8\"],[0.3333333333333333,\"#9c179e\"],[0.4444444444444444,\"#bd3786\"],[0.5555555555555556,\"#d8576b\"],[0.6666666666666666,\"#ed7953\"],[0.7777777777777778,\"#fb9f3a\"],[0.8888888888888888,\"#fdca26\"],[1.0,\"#f0f921\"]]}],\"choropleth\":[{\"type\":\"choropleth\",\"colorbar\":{\"outlinewidth\":0,\"ticks\":\"\"}}],\"histogram2d\":[{\"type\":\"histogram2d\",\"colorbar\":{\"outlinewidth\":0,\"ticks\":\"\"},\"colorscale\":[[0.0,\"#0d0887\"],[0.1111111111111111,\"#46039f\"],[0.2222222222222222,\"#7201a8\"],[0.3333333333333333,\"#9c179e\"],[0.4444444444444444,\"#bd3786\"],[0.5555555555555556,\"#d8576b\"],[0.6666666666666666,\"#ed7953\"],[0.7777777777777778,\"#fb9f3a\"],[0.8888888888888888,\"#fdca26\"],[1.0,\"#f0f921\"]]}],\"heatmap\":[{\"type\":\"heatmap\",\"colorbar\":{\"outlinewidth\":0,\"ticks\":\"\"},\"colorscale\":[[0.0,\"#0d0887\"],[0.1111111111111111,\"#46039f\"],[0.2222222222222222,\"#7201a8\"],[0.3333333333333333,\"#9c179e\"],[0.4444444444444444,\"#bd3786\"],[0.5555555555555556,\"#d8576b\"],[0.6666666666666666,\"#ed7953\"],[0.7777777777777778,\"#fb9f3a\"],[0.8888888888888888,\"#fdca26\"],[1.0,\"#f0f921\"]]}],\"heatmapgl\":[{\"type\":\"heatmapgl\",\"colorbar\":{\"outlinewidth\":0,\"ticks\":\"\"},\"colorscale\":[[0.0,\"#0d0887\"],[0.1111111111111111,\"#46039f\"],[0.2222222222222222,\"#7201a8\"],[0.3333333333333333,\"#9c179e\"],[0.4444444444444444,\"#bd3786\"],[0.5555555555555556,\"#d8576b\"],[0.6666666666666666,\"#ed7953\"],[0.7777777777777778,\"#fb9f3a\"],[0.8888888888888888,\"#fdca26\"],[1.0,\"#f0f921\"]]}],\"contourcarpet\":[{\"type\":\"contourcarpet\",\"colorbar\":{\"outlinewidth\":0,\"ticks\":\"\"}}],\"contour\":[{\"type\":\"contour\",\"colorbar\":{\"outlinewidth\":0,\"ticks\":\"\"},\"colorscale\":[[0.0,\"#0d0887\"],[0.1111111111111111,\"#46039f\"],[0.2222222222222222,\"#7201a8\"],[0.3333333333333333,\"#9c179e\"],[0.4444444444444444,\"#bd3786\"],[0.5555555555555556,\"#d8576b\"],[0.6666666666666666,\"#ed7953\"],[0.7777777777777778,\"#fb9f3a\"],[0.8888888888888888,\"#fdca26\"],[1.0,\"#f0f921\"]]}],\"surface\":[{\"type\":\"surface\",\"colorbar\":{\"outlinewidth\":0,\"ticks\":\"\"},\"colorscale\":[[0.0,\"#0d0887\"],[0.1111111111111111,\"#46039f\"],[0.2222222222222222,\"#7201a8\"],[0.3333333333333333,\"#9c179e\"],[0.4444444444444444,\"#bd3786\"],[0.5555555555555556,\"#d8576b\"],[0.6666666666666666,\"#ed7953\"],[0.7777777777777778,\"#fb9f3a\"],[0.8888888888888888,\"#fdca26\"],[1.0,\"#f0f921\"]]}],\"mesh3d\":[{\"type\":\"mesh3d\",\"colorbar\":{\"outlinewidth\":0,\"ticks\":\"\"}}],\"scatter\":[{\"fillpattern\":{\"fillmode\":\"overlay\",\"size\":10,\"solidity\":0.2},\"type\":\"scatter\"}],\"parcoords\":[{\"type\":\"parcoords\",\"line\":{\"colorbar\":{\"outlinewidth\":0,\"ticks\":\"\"}}}],\"scatterpolargl\":[{\"type\":\"scatterpolargl\",\"marker\":{\"colorbar\":{\"outlinewidth\":0,\"ticks\":\"\"}}}],\"bar\":[{\"error_x\":{\"color\":\"#2a3f5f\"},\"error_y\":{\"color\":\"#2a3f5f\"},\"marker\":{\"line\":{\"color\":\"#E5ECF6\",\"width\":0.5},\"pattern\":{\"fillmode\":\"overlay\",\"size\":10,\"solidity\":0.2}},\"type\":\"bar\"}],\"scattergeo\":[{\"type\":\"scattergeo\",\"marker\":{\"colorbar\":{\"outlinewidth\":0,\"ticks\":\"\"}}}],\"scatterpolar\":[{\"type\":\"scatterpolar\",\"marker\":{\"colorbar\":{\"outlinewidth\":0,\"ticks\":\"\"}}}],\"histogram\":[{\"marker\":{\"pattern\":{\"fillmode\":\"overlay\",\"size\":10,\"solidity\":0.2}},\"type\":\"histogram\"}],\"scattergl\":[{\"type\":\"scattergl\",\"marker\":{\"colorbar\":{\"outlinewidth\":0,\"ticks\":\"\"}}}],\"scatter3d\":[{\"type\":\"scatter3d\",\"line\":{\"colorbar\":{\"outlinewidth\":0,\"ticks\":\"\"}},\"marker\":{\"colorbar\":{\"outlinewidth\":0,\"ticks\":\"\"}}}],\"scattermapbox\":[{\"type\":\"scattermapbox\",\"marker\":{\"colorbar\":{\"outlinewidth\":0,\"ticks\":\"\"}}}],\"scatterternary\":[{\"type\":\"scatterternary\",\"marker\":{\"colorbar\":{\"outlinewidth\":0,\"ticks\":\"\"}}}],\"scattercarpet\":[{\"type\":\"scattercarpet\",\"marker\":{\"colorbar\":{\"outlinewidth\":0,\"ticks\":\"\"}}}],\"carpet\":[{\"aaxis\":{\"endlinecolor\":\"#2a3f5f\",\"gridcolor\":\"white\",\"linecolor\":\"white\",\"minorgridcolor\":\"white\",\"startlinecolor\":\"#2a3f5f\"},\"baxis\":{\"endlinecolor\":\"#2a3f5f\",\"gridcolor\":\"white\",\"linecolor\":\"white\",\"minorgridcolor\":\"white\",\"startlinecolor\":\"#2a3f5f\"},\"type\":\"carpet\"}],\"table\":[{\"cells\":{\"fill\":{\"color\":\"#EBF0F8\"},\"line\":{\"color\":\"white\"}},\"header\":{\"fill\":{\"color\":\"#C8D4E3\"},\"line\":{\"color\":\"white\"}},\"type\":\"table\"}],\"barpolar\":[{\"marker\":{\"line\":{\"color\":\"#E5ECF6\",\"width\":0.5},\"pattern\":{\"fillmode\":\"overlay\",\"size\":10,\"solidity\":0.2}},\"type\":\"barpolar\"}],\"pie\":[{\"automargin\":true,\"type\":\"pie\"}]},\"layout\":{\"autotypenumbers\":\"strict\",\"colorway\":[\"#636efa\",\"#EF553B\",\"#00cc96\",\"#ab63fa\",\"#FFA15A\",\"#19d3f3\",\"#FF6692\",\"#B6E880\",\"#FF97FF\",\"#FECB52\"],\"font\":{\"color\":\"#2a3f5f\"},\"hovermode\":\"closest\",\"hoverlabel\":{\"align\":\"left\"},\"paper_bgcolor\":\"white\",\"plot_bgcolor\":\"#E5ECF6\",\"polar\":{\"bgcolor\":\"#E5ECF6\",\"angularaxis\":{\"gridcolor\":\"white\",\"linecolor\":\"white\",\"ticks\":\"\"},\"radialaxis\":{\"gridcolor\":\"white\",\"linecolor\":\"white\",\"ticks\":\"\"}},\"ternary\":{\"bgcolor\":\"#E5ECF6\",\"aaxis\":{\"gridcolor\":\"white\",\"linecolor\":\"white\",\"ticks\":\"\"},\"baxis\":{\"gridcolor\":\"white\",\"linecolor\":\"white\",\"ticks\":\"\"},\"caxis\":{\"gridcolor\":\"white\",\"linecolor\":\"white\",\"ticks\":\"\"}},\"coloraxis\":{\"colorbar\":{\"outlinewidth\":0,\"ticks\":\"\"}},\"colorscale\":{\"sequential\":[[0.0,\"#0d0887\"],[0.1111111111111111,\"#46039f\"],[0.2222222222222222,\"#7201a8\"],[0.3333333333333333,\"#9c179e\"],[0.4444444444444444,\"#bd3786\"],[0.5555555555555556,\"#d8576b\"],[0.6666666666666666,\"#ed7953\"],[0.7777777777777778,\"#fb9f3a\"],[0.8888888888888888,\"#fdca26\"],[1.0,\"#f0f921\"]],\"sequentialminus\":[[0.0,\"#0d0887\"],[0.1111111111111111,\"#46039f\"],[0.2222222222222222,\"#7201a8\"],[0.3333333333333333,\"#9c179e\"],[0.4444444444444444,\"#bd3786\"],[0.5555555555555556,\"#d8576b\"],[0.6666666666666666,\"#ed7953\"],[0.7777777777777778,\"#fb9f3a\"],[0.8888888888888888,\"#fdca26\"],[1.0,\"#f0f921\"]],\"diverging\":[[0,\"#8e0152\"],[0.1,\"#c51b7d\"],[0.2,\"#de77ae\"],[0.3,\"#f1b6da\"],[0.4,\"#fde0ef\"],[0.5,\"#f7f7f7\"],[0.6,\"#e6f5d0\"],[0.7,\"#b8e186\"],[0.8,\"#7fbc41\"],[0.9,\"#4d9221\"],[1,\"#276419\"]]},\"xaxis\":{\"gridcolor\":\"white\",\"linecolor\":\"white\",\"ticks\":\"\",\"title\":{\"standoff\":15},\"zerolinecolor\":\"white\",\"automargin\":true,\"zerolinewidth\":2},\"yaxis\":{\"gridcolor\":\"white\",\"linecolor\":\"white\",\"ticks\":\"\",\"title\":{\"standoff\":15},\"zerolinecolor\":\"white\",\"automargin\":true,\"zerolinewidth\":2},\"scene\":{\"xaxis\":{\"backgroundcolor\":\"#E5ECF6\",\"gridcolor\":\"white\",\"linecolor\":\"white\",\"showbackground\":true,\"ticks\":\"\",\"zerolinecolor\":\"white\",\"gridwidth\":2},\"yaxis\":{\"backgroundcolor\":\"#E5ECF6\",\"gridcolor\":\"white\",\"linecolor\":\"white\",\"showbackground\":true,\"ticks\":\"\",\"zerolinecolor\":\"white\",\"gridwidth\":2},\"zaxis\":{\"backgroundcolor\":\"#E5ECF6\",\"gridcolor\":\"white\",\"linecolor\":\"white\",\"showbackground\":true,\"ticks\":\"\",\"zerolinecolor\":\"white\",\"gridwidth\":2}},\"shapedefaults\":{\"line\":{\"color\":\"#2a3f5f\"}},\"annotationdefaults\":{\"arrowcolor\":\"#2a3f5f\",\"arrowhead\":0,\"arrowwidth\":1},\"geo\":{\"bgcolor\":\"white\",\"landcolor\":\"#E5ECF6\",\"subunitcolor\":\"white\",\"showland\":true,\"showlakes\":true,\"lakecolor\":\"white\"},\"title\":{\"x\":0.05},\"mapbox\":{\"style\":\"light\"}}},\"xaxis\":{\"anchor\":\"y\",\"domain\":[0.0,1.0],\"title\":{\"text\":\"Continent\"},\"categoryorder\":\"array\",\"categoryarray\":[\"Africa\",\"Asia\",\"Europe\",\"North America\",\"Oceania\",\"South America\"]},\"yaxis\":{\"anchor\":\"x\",\"domain\":[0.0,1.0],\"title\":{\"text\":\"Happiness Score\"}},\"legend\":{\"title\":{\"text\":\"Continent\"},\"tracegroupgap\":0},\"title\":{\"text\":\"Happiness Scores by Continent (Violin Plot)\"},\"violinmode\":\"overlay\"},                        {\"responsive\": true}                    ).then(function(){\n",
       "                            \n",
       "var gd = document.getElementById('ebfc6100-acac-4a82-8e14-656ab65af6cf');\n",
       "var x = new MutationObserver(function (mutations, observer) {{\n",
       "        var display = window.getComputedStyle(gd).display;\n",
       "        if (!display || display === 'none') {{\n",
       "            console.log([gd, 'removed!']);\n",
       "            Plotly.purge(gd);\n",
       "            observer.disconnect();\n",
       "        }}\n",
       "}});\n",
       "\n",
       "// Listen for the removal of the full notebook cells\n",
       "var notebookContainer = gd.closest('#notebook-container');\n",
       "if (notebookContainer) {{\n",
       "    x.observe(notebookContainer, {childList: true});\n",
       "}}\n",
       "\n",
       "// Listen for the clearing of the current output cell\n",
       "var outputEl = gd.closest('.output');\n",
       "if (outputEl) {{\n",
       "    x.observe(outputEl, {childList: true});\n",
       "}}\n",
       "\n",
       "                        })                };                });            </script>        </div>"
      ]
     },
     "metadata": {},
     "output_type": "display_data"
    }
   ],
   "source": [
    "# Create a Scatter plot\n",
    "fig_box = px.scatter(df, x='Continent', y='Score', color='Continent',\n",
    "                 title='Happiness Scores by Continent (Scatter Plot)',\n",
    "                 labels={'Continent': 'Continent', 'Score': 'Happiness Score'})\n",
    "fig_box.show()\n",
    "# Create a box plot\n",
    "fig_box = px.box(df, x='Continent', y='Score', color='Continent',\n",
    "                 title='Happiness Scores by Continent (Box Plot)',\n",
    "                 labels={'Continent': 'Continent', 'Score': 'Happiness Score'})\n",
    "fig_box.show()\n",
    "\n",
    "# Create a violin plot\n",
    "fig_violin = px.violin(df, x='Continent', y='Score', color='Continent',\n",
    "                       title='Happiness Scores by Continent (Violin Plot)',\n",
    "                       labels={'Continent': 'Continent', 'Score': 'Happiness Score'})\n",
    "fig_violin.show()"
   ]
  },
  {
   "cell_type": "code",
   "execution_count": 14,
   "id": "0d0760d4",
   "metadata": {
    "execution": {
     "iopub.execute_input": "2023-05-03T00:57:36.421046Z",
     "iopub.status.busy": "2023-05-03T00:57:36.420666Z",
     "iopub.status.idle": "2023-05-03T00:57:36.436914Z",
     "shell.execute_reply": "2023-05-03T00:57:36.435449Z"
    },
    "papermill": {
     "duration": 0.030468,
     "end_time": "2023-05-03T00:57:36.439163",
     "exception": false,
     "start_time": "2023-05-03T00:57:36.408695",
     "status": "completed"
    },
    "tags": []
   },
   "outputs": [
    {
     "name": "stdout",
     "output_type": "stream",
     "text": [
      "Mean scores by continent:\n",
      "Continent\n",
      "Africa           4.368289\n",
      "Asia             5.224442\n",
      "Europe           6.245000\n",
      "North America    6.151583\n",
      "Oceania          7.267500\n",
      "South America    5.944909\n",
      "Name: Score, dtype: float64\n",
      "\n",
      "Median scores by continent:\n",
      "Continent\n",
      "Africa           4.4610\n",
      "Asia             5.2080\n",
      "Europe           6.1180\n",
      "North America    6.2870\n",
      "Oceania          7.2675\n",
      "South America    6.0860\n",
      "Name: Score, dtype: float64\n"
     ]
    }
   ],
   "source": [
    "# Group the data by continent and calculate the mean and median scores\n",
    "grouped = df.groupby('Continent')['Score']\n",
    "mean_scores = grouped.mean()\n",
    "median_scores = grouped.median()\n",
    "\n",
    "# Print the results\n",
    "print('Mean scores by continent:')\n",
    "print(mean_scores)\n",
    "print('\\nMedian scores by continent:')\n",
    "print(median_scores)"
   ]
  },
  {
   "cell_type": "markdown",
   "id": "3bdcee58",
   "metadata": {
    "papermill": {
     "duration": 0.009393,
     "end_time": "2023-05-03T00:57:36.458253",
     "exception": false,
     "start_time": "2023-05-03T00:57:36.448860",
     "status": "completed"
    },
    "tags": []
   },
   "source": [
    "***Mean and Median***\n",
    "\n",
    "Highest: Oceania has the highest mean happiness score among all continents in the dataset, it means that on average, countries in Oceania tend to have higher happiness scores than countries in other continents.\n",
    "\n",
    "Lowest: Africa has the lowest mean happiness score among all continents in the dataset, it means that on average, countries in Africa tend to have Lower happiness scores than countries in other continents.\n",
    "\n",
    "    However, it's important to note that the mean happiness score for a continent does not provide a complete picture of the happiness level of individual countries within that continent. There may be some countries that have lower happiness scores than the mean, and conversely, there may be some countries in other continents that have higher happiness scores than their respective means. Therefore, it's important to analyze the data at the country level as well to get a more accurate understanding of the happiness levels within each continent.\n",
    "\n",
    "    The median can be a useful statistic to consider alongside the mean because it is not as sensitive to outliers as the mean. In other words, if there are a few countries with very high or very low happiness scores, the median may be a more representative measure of central tendency than the mean.\n",
    "\n",
    "***Distribution Skews***\n",
    "* Africa : Negatively skewed \n",
    "* Asian : Positively skewed \n",
    "* Europe : Positively skewed \n",
    "* North America : Negatively skewed \n",
    "* Oceania : Evenly skewed \n",
    "* South America : Negatively skewed"
   ]
  },
  {
   "cell_type": "markdown",
   "id": "30e13a0e",
   "metadata": {
    "papermill": {
     "duration": 0.009468,
     "end_time": "2023-05-03T00:57:36.477069",
     "exception": false,
     "start_time": "2023-05-03T00:57:36.467601",
     "status": "completed"
    },
    "tags": []
   },
   "source": [
    "***Scatter Plots***\n",
    "\n",
    "A scatter plot is a powerful exploratory data analysis tool that allows us to visually examine the relationship between two variables in a dataset. In the context of a dataset containing happiness scores and other factors for different countries, a scatter plot can be used to investigate the correlation between happiness scores and other variables for each continent separately.\n",
    "\n",
    "Each point on the scatter plot represents a country, with the horizontal axis representing the value of one variable (e.g. GDP per capita) and the vertical axis representing the value of the happiness score. By plotting the values of these two variables for each country in a continent, we can visually identify any patterns or relationships between them.\n",
    "\n",
    "A strong positive correlation between two variables would result in a clear upward trend in the scatter plot, indicating that as the value of one variable increases, the value of the other variable also tends to increase. A strong negative correlation would result in a clear downward trend, indicating that as the value of one variable increases, the value of the other variable tends to decrease.\n",
    "\n",
    "In addition, scatter plots can help us identify any outliers or anomalies in the data that may require further investigation. For example, if there is a country with a very high GDP per capita but a low happiness score, this may suggest that there are other factors that are more important in determining happiness than just income.\n",
    "\n",
    "Overall, by using scatter plots to examine the relationship between happiness scores and other variables for each continent separately, we can gain valuable insights into the factors that contribute to happiness in different parts of the world.\n"
   ]
  },
  {
   "cell_type": "code",
   "execution_count": 15,
   "id": "efe91426",
   "metadata": {
    "execution": {
     "iopub.execute_input": "2023-05-03T00:57:36.497734Z",
     "iopub.status.busy": "2023-05-03T00:57:36.496978Z",
     "iopub.status.idle": "2023-05-03T00:57:39.038723Z",
     "shell.execute_reply": "2023-05-03T00:57:39.037618Z"
    },
    "papermill": {
     "duration": 2.554428,
     "end_time": "2023-05-03T00:57:39.040899",
     "exception": false,
     "start_time": "2023-05-03T00:57:36.486471",
     "status": "completed"
    },
    "tags": []
   },
   "outputs": [
    {
     "data": {
      "text/html": [
       "<div>                            <div id=\"f17b152f-f7d2-43c5-9071-5f099edf4a32\" class=\"plotly-graph-div\" style=\"height:525px; width:100%;\"></div>            <script type=\"text/javascript\">                require([\"plotly\"], function(Plotly) {                    window.PLOTLYENV=window.PLOTLYENV || {};                                    if (document.getElementById(\"f17b152f-f7d2-43c5-9071-5f099edf4a32\")) {                    Plotly.newPlot(                        \"f17b152f-f7d2-43c5-9071-5f099edf4a32\",                        [{\"hovertemplate\":\"Continent=Africa<br>Score=%{x}<br>GDP per capita=%{y}<extra></extra>\",\"legendgroup\":\"Africa\",\"marker\":{\"color\":\"#636efa\",\"symbol\":\"circle\"},\"mode\":\"markers\",\"name\":\"Africa\",\"orientation\":\"v\",\"showlegend\":true,\"x\":[2.853,4.39,4.418,5.044,4.461,4.466,4.49,5.525,4.509,4.516,4.996,4.534,4.944,4.587,4.628,4.639,4.668,4.681,4.883,5.888,4.812,4.799,3.083,4.35,4.374,3.973,5.208,3.231,3.334,5.211,3.41,3.488,3.663,3.775,3.802,3.933,3.975,5.265,4.085,4.722,4.166,4.189,4.286,4.212,4.107],\"xaxis\":\"x\",\"y\":[0.306,0.385,0.094,0.549,0.921,0.204,0.57,1.044,0.512,0.308,0.611,0.38,0.569,0.331,0.138,0.879,0.0,0.45,0.393,1.12,0.673,1.057,0.026,0.35,0.268,0.274,0.801,0.476,0.359,1.002,0.191,1.041,0.366,0.046,0.489,0.274,0.073,0.696,0.275,0.96,0.913,0.332,0.336,0.811,0.578],\"yaxis\":\"y\",\"type\":\"scatter\"},{\"hovertemplate\":\"<b>OLS trendline</b><br>GDP per capita = 0.237157 * Score + -0.537505<br>R<sup>2</sup>=0.236585<br><br>Continent=Africa<br>Score=%{x}<br>GDP per capita=%{y} <b>(trend)</b><extra></extra>\",\"legendgroup\":\"Africa\",\"marker\":{\"color\":\"#636efa\",\"symbol\":\"circle\"},\"mode\":\"lines\",\"name\":\"Africa\",\"showlegend\":false,\"x\":[2.853,3.083,3.231,3.334,3.41,3.488,3.663,3.775,3.802,3.933,3.973,3.975,4.085,4.107,4.166,4.189,4.212,4.286,4.35,4.374,4.39,4.418,4.461,4.466,4.49,4.509,4.516,4.534,4.587,4.628,4.639,4.668,4.681,4.722,4.799,4.812,4.883,4.944,4.996,5.044,5.208,5.211,5.265,5.525,5.888],\"xaxis\":\"x\",\"y\":[0.13910497533265753,0.19365113455872374,0.22875040223462717,0.2531775952793438,0.2712015435453483,0.2896998062394055,0.33120231869402106,0.35776392666497503,0.36416717144368715,0.3952347664811422,0.40472105504219724,0.40519536947025003,0.4312826630131512,0.43650012172173147,0.4504923973492877,0.45594701327189424,0.4614016291945008,0.4789512630324525,0.4941293247301405,0.49982109786677353,0.5036156132911954,0.510256015283934,0.5204537754870683,0.5216395615572001,0.527331334693833,0.5318373217603342,0.5334974222585188,0.5377662521109935,0.5503355844543912,0.5600590302294727,0.5626677595837629,0.5695453187905278,0.5726283625728706,0.5823518083479521,0.6006129138279829,0.6036959576103257,0.6205341198061983,0.635000709861807,0.6473328849911787,0.6587164312644446,0.6976102143647701,0.6983216860068492,0.7111281755642734,0.772789051211131,0.8588771199027049],\"yaxis\":\"y\",\"type\":\"scatter\"},{\"hovertemplate\":\"Continent=Asia<br>Score=%{x}<br>GDP per capita=%{y}<extra></extra>\",\"legendgroup\":\"Asia\",\"marker\":{\"color\":\"#EF553B\",\"symbol\":\"circle\"},\"mode\":\"markers\",\"name\":\"Asia\",\"orientation\":\"v\",\"showlegend\":true,\"x\":[5.175,5.339,5.373,4.796,4.906,5.247,4.913,5.192,5.082,5.631,5.43,5.261,5.191,5.467,5.653,5.285,4.548,4.7,3.203,3.38,3.462,7.139,4.015,6.825,6.446,4.36,6.375,6.374,4.366,4.437,6.262,6.199,6.174,4.519,5.208,4.559,6.021,6.008,5.895,4.696,5.886,4.456,5.197],\"xaxis\":\"x2\",\"y\":[0.741,1.221,1.183,0.764,0.837,1.052,0.446,0.931,0.813,0.807,1.438,0.551,1.029,0.493,0.677,0.948,1.1,0.574,0.35,0.287,0.619,1.276,0.755,1.503,1.368,0.71,1.403,1.684,0.949,1.043,1.572,1.362,0.745,0.886,1.043,0.85,1.5,1.05,1.301,0.657,1.327,0.562,0.987],\"yaxis\":\"y2\",\"type\":\"scatter\"},{\"hovertemplate\":\"<b>OLS trendline</b><br>GDP per capita = 0.28622 * Score + -0.532688<br>R<sup>2</sup>=0.525649<br><br>Continent=Asia<br>Score=%{x}<br>GDP per capita=%{y} <b>(trend)</b><extra></extra>\",\"legendgroup\":\"Asia\",\"marker\":{\"color\":\"#EF553B\",\"symbol\":\"circle\"},\"mode\":\"lines\",\"name\":\"Asia\",\"showlegend\":false,\"x\":[3.203,3.38,3.462,4.015,4.36,4.366,4.437,4.456,4.519,4.548,4.559,4.696,4.7,4.796,4.906,4.913,5.082,5.175,5.191,5.192,5.197,5.208,5.247,5.261,5.285,5.339,5.373,5.43,5.467,5.631,5.653,5.886,5.895,6.008,6.021,6.174,6.199,6.262,6.374,6.375,6.446,6.825,7.139],\"xaxis\":\"x2\",\"y\":[0.38407422106255895,0.43473514814077696,0.45820518215441475,0.6164848017829714,0.7152306765964473,0.7169479961584206,0.7372696109751071,0.7427077895880232,0.7607396449887449,0.7690400228716168,0.7721884420685681,0.8114005720669628,0.8125454517749453,0.8400225647665212,0.8715067567360348,0.8735102962250041,0.9218814638872574,0.9484999170978465,0.9530794359297758,0.9533656558567716,0.9547967554917494,0.9579451746887009,0.9691077518415283,0.9731148308194666,0.9799841090673607,0.9954399851251221,1.0051714626429717,1.02148599848172,1.0320761357805563,1.079016203807832,1.0853130422017345,1.1520022851917053,1.1545782645346654,1.1869211162851663,1.1906419753361088,1.2344336241664329,1.2415891223413225,1.259620977742044,1.2916776095655491,1.2919638294925448,1.312285444309231,1.4207627966405567,1.5106358537171696],\"yaxis\":\"y2\",\"type\":\"scatter\"},{\"hovertemplate\":\"Continent=Europe<br>Score=%{x}<br>GDP per capita=%{y}<extra></extra>\",\"legendgroup\":\"Europe\",\"marker\":{\"color\":\"#00cc96\",\"symbol\":\"circle\"},\"mode\":\"markers\",\"name\":\"Europe\",\"orientation\":\"v\",\"showlegend\":true,\"x\":[4.719,5.011,4.332,7.769,5.287,6.149,6.182,5.274,6.223,6.354,6.592,6.726,6.852,6.923,6.118,6.985,7.054,7.09,7.246,7.343,7.48,7.488,7.494,7.554,7.6,7.021,6.1,6.198,6.07,5.323,5.432,5.523,5.529,5.603,5.648,5.693,5.718,5.758,5.809,5.386,5.893,6.046,5.94],\"xaxis\":\"x3\",\"y\":[0.947,1.092,0.82,1.34,1.181,1.238,1.206,0.983,1.294,1.286,1.324,1.3,1.269,1.356,1.258,1.373,1.333,1.609,1.376,1.387,1.452,1.396,1.38,1.488,1.383,1.499,0.882,1.246,1.162,1.067,1.155,1.051,0.685,1.004,1.183,1.221,1.263,1.201,1.173,0.945,1.237,1.263,1.187],\"yaxis\":\"y3\",\"type\":\"scatter\"},{\"hovertemplate\":\"<b>OLS trendline</b><br>GDP per capita = 0.1766 * Score + 0.117948<br>R<sup>2</sup>=0.652363<br><br>Continent=Europe<br>Score=%{x}<br>GDP per capita=%{y} <b>(trend)</b><extra></extra>\",\"legendgroup\":\"Europe\",\"marker\":{\"color\":\"#00cc96\",\"symbol\":\"circle\"},\"mode\":\"lines\",\"name\":\"Europe\",\"showlegend\":false,\"x\":[4.332,4.719,5.011,5.274,5.287,5.323,5.386,5.432,5.523,5.529,5.603,5.648,5.693,5.718,5.758,5.809,5.893,5.94,6.046,6.07,6.1,6.118,6.149,6.182,6.198,6.223,6.354,6.592,6.726,6.852,6.923,6.985,7.021,7.054,7.09,7.246,7.343,7.48,7.488,7.494,7.554,7.6,7.769],\"xaxis\":\"x3\",\"y\":[0.8829783862646594,0.9513225391740046,1.002889703643071,1.0493354716408945,1.051631270059038,1.057988865678512,1.0691146580125914,1.0772382524152526,1.093308841342256,1.0943684406121683,1.1074368316077536,1.115383826132096,1.1233308206564385,1.1277458176144066,1.1348098127471555,1.1438164065414103,1.1586507963201829,1.1669509906011628,1.1856705777029473,1.1899089747825966,1.195206971132158,1.198385768941895,1.2038603651697755,1.2096881611542933,1.212513759207393,1.2169287561653608,1.2400633402251133,1.2820941112649689,1.3057584949596774,1.3280100796278362,1.3405486709884655,1.3514978634442263,1.3578554590637002,1.3636832550482179,1.3700408506676918,1.3975904316854124,1.4147206198823283,1.4389148032119932,1.440327602238543,1.441387201508455,1.4519831942075785,1.4601067886102395,1.4899521680461034],\"yaxis\":\"y3\",\"type\":\"scatter\"},{\"hovertemplate\":\"Continent=North America<br>Score=%{x}<br>GDP per capita=%{y}<extra></extra>\",\"legendgroup\":\"North America\",\"marker\":{\"color\":\"#ab63fa\",\"symbol\":\"circle\"},\"mode\":\"markers\",\"name\":\"North America\",\"orientation\":\"v\",\"showlegend\":true,\"x\":[6.105,5.425,3.597,7.278,7.167,5.89,6.321,6.595,6.892,5.86,6.436,6.253],\"xaxis\":\"x4\",\"y\":[0.694,1.015,0.323,1.365,1.034,0.831,1.149,1.07,1.433,0.642,0.8,0.794],\"yaxis\":\"y4\",\"type\":\"scatter\"},{\"hovertemplate\":\"<b>OLS trendline</b><br>GDP per capita = 0.253149 * Score + -0.6281<br>R<sup>2</sup>=0.615504<br><br>Continent=North America<br>Score=%{x}<br>GDP per capita=%{y} <b>(trend)</b><extra></extra>\",\"legendgroup\":\"North America\",\"marker\":{\"color\":\"#ab63fa\",\"symbol\":\"circle\"},\"mode\":\"lines\",\"name\":\"North America\",\"showlegend\":false,\"x\":[3.597,5.425,5.86,5.89,6.105,6.253,6.321,6.436,6.595,6.892,7.167,7.278],\"xaxis\":\"x4\",\"y\":[0.2824765090442981,0.7452328390917388,0.8553526441084985,0.862947113419999,0.917374143485754,0.954840192089157,0.9720543225285586,1.001166454889311,1.0414171422402645,1.1166023884241212,1.1862183571128773,1.2143178935654295],\"yaxis\":\"y4\",\"type\":\"scatter\"},{\"hovertemplate\":\"Continent=Oceania<br>Score=%{x}<br>GDP per capita=%{y}<extra></extra>\",\"legendgroup\":\"Oceania\",\"marker\":{\"color\":\"#FFA15A\",\"symbol\":\"circle\"},\"mode\":\"markers\",\"name\":\"Oceania\",\"orientation\":\"v\",\"showlegend\":true,\"x\":[7.228,7.307],\"xaxis\":\"x5\",\"y\":[1.372,1.303],\"yaxis\":\"y5\",\"type\":\"scatter\"},{\"hovertemplate\":\"<b>OLS trendline</b><br>GDP per capita = -0.873418 * Score + 7.68506<br>R<sup>2</sup>=1.000000<br><br>Continent=Oceania<br>Score=%{x}<br>GDP per capita=%{y} <b>(trend)</b><extra></extra>\",\"legendgroup\":\"Oceania\",\"marker\":{\"color\":\"#FFA15A\",\"symbol\":\"circle\"},\"mode\":\"lines\",\"name\":\"Oceania\",\"showlegend\":false,\"x\":[7.228,7.307],\"xaxis\":\"x5\",\"y\":[1.3720000000000008,1.303],\"yaxis\":\"y5\",\"type\":\"scatter\"},{\"hovertemplate\":\"Continent=South America<br>Score=%{x}<br>GDP per capita=%{y}<extra></extra>\",\"legendgroup\":\"South America\",\"marker\":{\"color\":\"#19d3f3\",\"symbol\":\"circle\"},\"mode\":\"markers\",\"name\":\"South America\",\"orientation\":\"v\",\"showlegend\":true,\"x\":[6.444,6.125,6.028,5.743,6.293,6.192,6.086,6.3,5.697,4.707,5.779],\"xaxis\":\"x6\",\"y\":[1.159,0.985,0.912,0.855,1.124,1.231,1.092,1.004,0.96,0.96,0.776],\"yaxis\":\"y6\",\"type\":\"scatter\"},{\"hovertemplate\":\"<b>OLS trendline</b><br>GDP per capita = 0.135973 * Score + 0.196926<br>R<sup>2</sup>=0.228282<br><br>Continent=South America<br>Score=%{x}<br>GDP per capita=%{y} <b>(trend)</b><extra></extra>\",\"legendgroup\":\"South America\",\"marker\":{\"color\":\"#19d3f3\",\"symbol\":\"circle\"},\"mode\":\"lines\",\"name\":\"South America\",\"showlegend\":false,\"x\":[4.707,5.697,5.743,5.779,6.028,6.086,6.125,6.192,6.293,6.3,6.444],\"xaxis\":\"x6\",\"y\":[0.8369506767985581,0.9715638169662669,0.9778185689336555,0.9827135922124812,1.0165708365576926,1.0244572629513566,1.0297602048367511,1.0388703870501215,1.052603646804605,1.0535554568865986,1.073135550001902],\"yaxis\":\"y6\",\"type\":\"scatter\"}],                        {\"template\":{\"data\":{\"histogram2dcontour\":[{\"type\":\"histogram2dcontour\",\"colorbar\":{\"outlinewidth\":0,\"ticks\":\"\"},\"colorscale\":[[0.0,\"#0d0887\"],[0.1111111111111111,\"#46039f\"],[0.2222222222222222,\"#7201a8\"],[0.3333333333333333,\"#9c179e\"],[0.4444444444444444,\"#bd3786\"],[0.5555555555555556,\"#d8576b\"],[0.6666666666666666,\"#ed7953\"],[0.7777777777777778,\"#fb9f3a\"],[0.8888888888888888,\"#fdca26\"],[1.0,\"#f0f921\"]]}],\"choropleth\":[{\"type\":\"choropleth\",\"colorbar\":{\"outlinewidth\":0,\"ticks\":\"\"}}],\"histogram2d\":[{\"type\":\"histogram2d\",\"colorbar\":{\"outlinewidth\":0,\"ticks\":\"\"},\"colorscale\":[[0.0,\"#0d0887\"],[0.1111111111111111,\"#46039f\"],[0.2222222222222222,\"#7201a8\"],[0.3333333333333333,\"#9c179e\"],[0.4444444444444444,\"#bd3786\"],[0.5555555555555556,\"#d8576b\"],[0.6666666666666666,\"#ed7953\"],[0.7777777777777778,\"#fb9f3a\"],[0.8888888888888888,\"#fdca26\"],[1.0,\"#f0f921\"]]}],\"heatmap\":[{\"type\":\"heatmap\",\"colorbar\":{\"outlinewidth\":0,\"ticks\":\"\"},\"colorscale\":[[0.0,\"#0d0887\"],[0.1111111111111111,\"#46039f\"],[0.2222222222222222,\"#7201a8\"],[0.3333333333333333,\"#9c179e\"],[0.4444444444444444,\"#bd3786\"],[0.5555555555555556,\"#d8576b\"],[0.6666666666666666,\"#ed7953\"],[0.7777777777777778,\"#fb9f3a\"],[0.8888888888888888,\"#fdca26\"],[1.0,\"#f0f921\"]]}],\"heatmapgl\":[{\"type\":\"heatmapgl\",\"colorbar\":{\"outlinewidth\":0,\"ticks\":\"\"},\"colorscale\":[[0.0,\"#0d0887\"],[0.1111111111111111,\"#46039f\"],[0.2222222222222222,\"#7201a8\"],[0.3333333333333333,\"#9c179e\"],[0.4444444444444444,\"#bd3786\"],[0.5555555555555556,\"#d8576b\"],[0.6666666666666666,\"#ed7953\"],[0.7777777777777778,\"#fb9f3a\"],[0.8888888888888888,\"#fdca26\"],[1.0,\"#f0f921\"]]}],\"contourcarpet\":[{\"type\":\"contourcarpet\",\"colorbar\":{\"outlinewidth\":0,\"ticks\":\"\"}}],\"contour\":[{\"type\":\"contour\",\"colorbar\":{\"outlinewidth\":0,\"ticks\":\"\"},\"colorscale\":[[0.0,\"#0d0887\"],[0.1111111111111111,\"#46039f\"],[0.2222222222222222,\"#7201a8\"],[0.3333333333333333,\"#9c179e\"],[0.4444444444444444,\"#bd3786\"],[0.5555555555555556,\"#d8576b\"],[0.6666666666666666,\"#ed7953\"],[0.7777777777777778,\"#fb9f3a\"],[0.8888888888888888,\"#fdca26\"],[1.0,\"#f0f921\"]]}],\"surface\":[{\"type\":\"surface\",\"colorbar\":{\"outlinewidth\":0,\"ticks\":\"\"},\"colorscale\":[[0.0,\"#0d0887\"],[0.1111111111111111,\"#46039f\"],[0.2222222222222222,\"#7201a8\"],[0.3333333333333333,\"#9c179e\"],[0.4444444444444444,\"#bd3786\"],[0.5555555555555556,\"#d8576b\"],[0.6666666666666666,\"#ed7953\"],[0.7777777777777778,\"#fb9f3a\"],[0.8888888888888888,\"#fdca26\"],[1.0,\"#f0f921\"]]}],\"mesh3d\":[{\"type\":\"mesh3d\",\"colorbar\":{\"outlinewidth\":0,\"ticks\":\"\"}}],\"scatter\":[{\"fillpattern\":{\"fillmode\":\"overlay\",\"size\":10,\"solidity\":0.2},\"type\":\"scatter\"}],\"parcoords\":[{\"type\":\"parcoords\",\"line\":{\"colorbar\":{\"outlinewidth\":0,\"ticks\":\"\"}}}],\"scatterpolargl\":[{\"type\":\"scatterpolargl\",\"marker\":{\"colorbar\":{\"outlinewidth\":0,\"ticks\":\"\"}}}],\"bar\":[{\"error_x\":{\"color\":\"#2a3f5f\"},\"error_y\":{\"color\":\"#2a3f5f\"},\"marker\":{\"line\":{\"color\":\"#E5ECF6\",\"width\":0.5},\"pattern\":{\"fillmode\":\"overlay\",\"size\":10,\"solidity\":0.2}},\"type\":\"bar\"}],\"scattergeo\":[{\"type\":\"scattergeo\",\"marker\":{\"colorbar\":{\"outlinewidth\":0,\"ticks\":\"\"}}}],\"scatterpolar\":[{\"type\":\"scatterpolar\",\"marker\":{\"colorbar\":{\"outlinewidth\":0,\"ticks\":\"\"}}}],\"histogram\":[{\"marker\":{\"pattern\":{\"fillmode\":\"overlay\",\"size\":10,\"solidity\":0.2}},\"type\":\"histogram\"}],\"scattergl\":[{\"type\":\"scattergl\",\"marker\":{\"colorbar\":{\"outlinewidth\":0,\"ticks\":\"\"}}}],\"scatter3d\":[{\"type\":\"scatter3d\",\"line\":{\"colorbar\":{\"outlinewidth\":0,\"ticks\":\"\"}},\"marker\":{\"colorbar\":{\"outlinewidth\":0,\"ticks\":\"\"}}}],\"scattermapbox\":[{\"type\":\"scattermapbox\",\"marker\":{\"colorbar\":{\"outlinewidth\":0,\"ticks\":\"\"}}}],\"scatterternary\":[{\"type\":\"scatterternary\",\"marker\":{\"colorbar\":{\"outlinewidth\":0,\"ticks\":\"\"}}}],\"scattercarpet\":[{\"type\":\"scattercarpet\",\"marker\":{\"colorbar\":{\"outlinewidth\":0,\"ticks\":\"\"}}}],\"carpet\":[{\"aaxis\":{\"endlinecolor\":\"#2a3f5f\",\"gridcolor\":\"white\",\"linecolor\":\"white\",\"minorgridcolor\":\"white\",\"startlinecolor\":\"#2a3f5f\"},\"baxis\":{\"endlinecolor\":\"#2a3f5f\",\"gridcolor\":\"white\",\"linecolor\":\"white\",\"minorgridcolor\":\"white\",\"startlinecolor\":\"#2a3f5f\"},\"type\":\"carpet\"}],\"table\":[{\"cells\":{\"fill\":{\"color\":\"#EBF0F8\"},\"line\":{\"color\":\"white\"}},\"header\":{\"fill\":{\"color\":\"#C8D4E3\"},\"line\":{\"color\":\"white\"}},\"type\":\"table\"}],\"barpolar\":[{\"marker\":{\"line\":{\"color\":\"#E5ECF6\",\"width\":0.5},\"pattern\":{\"fillmode\":\"overlay\",\"size\":10,\"solidity\":0.2}},\"type\":\"barpolar\"}],\"pie\":[{\"automargin\":true,\"type\":\"pie\"}]},\"layout\":{\"autotypenumbers\":\"strict\",\"colorway\":[\"#636efa\",\"#EF553B\",\"#00cc96\",\"#ab63fa\",\"#FFA15A\",\"#19d3f3\",\"#FF6692\",\"#B6E880\",\"#FF97FF\",\"#FECB52\"],\"font\":{\"color\":\"#2a3f5f\"},\"hovermode\":\"closest\",\"hoverlabel\":{\"align\":\"left\"},\"paper_bgcolor\":\"white\",\"plot_bgcolor\":\"#E5ECF6\",\"polar\":{\"bgcolor\":\"#E5ECF6\",\"angularaxis\":{\"gridcolor\":\"white\",\"linecolor\":\"white\",\"ticks\":\"\"},\"radialaxis\":{\"gridcolor\":\"white\",\"linecolor\":\"white\",\"ticks\":\"\"}},\"ternary\":{\"bgcolor\":\"#E5ECF6\",\"aaxis\":{\"gridcolor\":\"white\",\"linecolor\":\"white\",\"ticks\":\"\"},\"baxis\":{\"gridcolor\":\"white\",\"linecolor\":\"white\",\"ticks\":\"\"},\"caxis\":{\"gridcolor\":\"white\",\"linecolor\":\"white\",\"ticks\":\"\"}},\"coloraxis\":{\"colorbar\":{\"outlinewidth\":0,\"ticks\":\"\"}},\"colorscale\":{\"sequential\":[[0.0,\"#0d0887\"],[0.1111111111111111,\"#46039f\"],[0.2222222222222222,\"#7201a8\"],[0.3333333333333333,\"#9c179e\"],[0.4444444444444444,\"#bd3786\"],[0.5555555555555556,\"#d8576b\"],[0.6666666666666666,\"#ed7953\"],[0.7777777777777778,\"#fb9f3a\"],[0.8888888888888888,\"#fdca26\"],[1.0,\"#f0f921\"]],\"sequentialminus\":[[0.0,\"#0d0887\"],[0.1111111111111111,\"#46039f\"],[0.2222222222222222,\"#7201a8\"],[0.3333333333333333,\"#9c179e\"],[0.4444444444444444,\"#bd3786\"],[0.5555555555555556,\"#d8576b\"],[0.6666666666666666,\"#ed7953\"],[0.7777777777777778,\"#fb9f3a\"],[0.8888888888888888,\"#fdca26\"],[1.0,\"#f0f921\"]],\"diverging\":[[0,\"#8e0152\"],[0.1,\"#c51b7d\"],[0.2,\"#de77ae\"],[0.3,\"#f1b6da\"],[0.4,\"#fde0ef\"],[0.5,\"#f7f7f7\"],[0.6,\"#e6f5d0\"],[0.7,\"#b8e186\"],[0.8,\"#7fbc41\"],[0.9,\"#4d9221\"],[1,\"#276419\"]]},\"xaxis\":{\"gridcolor\":\"white\",\"linecolor\":\"white\",\"ticks\":\"\",\"title\":{\"standoff\":15},\"zerolinecolor\":\"white\",\"automargin\":true,\"zerolinewidth\":2},\"yaxis\":{\"gridcolor\":\"white\",\"linecolor\":\"white\",\"ticks\":\"\",\"title\":{\"standoff\":15},\"zerolinecolor\":\"white\",\"automargin\":true,\"zerolinewidth\":2},\"scene\":{\"xaxis\":{\"backgroundcolor\":\"#E5ECF6\",\"gridcolor\":\"white\",\"linecolor\":\"white\",\"showbackground\":true,\"ticks\":\"\",\"zerolinecolor\":\"white\",\"gridwidth\":2},\"yaxis\":{\"backgroundcolor\":\"#E5ECF6\",\"gridcolor\":\"white\",\"linecolor\":\"white\",\"showbackground\":true,\"ticks\":\"\",\"zerolinecolor\":\"white\",\"gridwidth\":2},\"zaxis\":{\"backgroundcolor\":\"#E5ECF6\",\"gridcolor\":\"white\",\"linecolor\":\"white\",\"showbackground\":true,\"ticks\":\"\",\"zerolinecolor\":\"white\",\"gridwidth\":2}},\"shapedefaults\":{\"line\":{\"color\":\"#2a3f5f\"}},\"annotationdefaults\":{\"arrowcolor\":\"#2a3f5f\",\"arrowhead\":0,\"arrowwidth\":1},\"geo\":{\"bgcolor\":\"white\",\"landcolor\":\"#E5ECF6\",\"subunitcolor\":\"white\",\"showland\":true,\"showlakes\":true,\"lakecolor\":\"white\"},\"title\":{\"x\":0.05},\"mapbox\":{\"style\":\"light\"}}},\"xaxis\":{\"anchor\":\"y\",\"domain\":[0.0,0.15],\"title\":{\"text\":\"Happiness Score\"}},\"yaxis\":{\"anchor\":\"x\",\"domain\":[0.0,1.0],\"title\":{\"text\":\"GDP per capita\"}},\"xaxis2\":{\"anchor\":\"y2\",\"domain\":[0.16999999999999998,0.31999999999999995],\"matches\":\"x\",\"title\":{\"text\":\"Happiness Score\"}},\"yaxis2\":{\"anchor\":\"x2\",\"domain\":[0.0,1.0],\"matches\":\"y\",\"showticklabels\":false},\"xaxis3\":{\"anchor\":\"y3\",\"domain\":[0.33999999999999997,0.49],\"matches\":\"x\",\"title\":{\"text\":\"Happiness Score\"}},\"yaxis3\":{\"anchor\":\"x3\",\"domain\":[0.0,1.0],\"matches\":\"y\",\"showticklabels\":false},\"xaxis4\":{\"anchor\":\"y4\",\"domain\":[0.51,0.66],\"matches\":\"x\",\"title\":{\"text\":\"Happiness Score\"}},\"yaxis4\":{\"anchor\":\"x4\",\"domain\":[0.0,1.0],\"matches\":\"y\",\"showticklabels\":false},\"xaxis5\":{\"anchor\":\"y5\",\"domain\":[0.6799999999999999,0.83],\"matches\":\"x\",\"title\":{\"text\":\"Happiness Score\"}},\"yaxis5\":{\"anchor\":\"x5\",\"domain\":[0.0,1.0],\"matches\":\"y\",\"showticklabels\":false},\"xaxis6\":{\"anchor\":\"y6\",\"domain\":[0.85,1.0],\"matches\":\"x\",\"title\":{\"text\":\"Happiness Score\"}},\"yaxis6\":{\"anchor\":\"x6\",\"domain\":[0.0,1.0],\"matches\":\"y\",\"showticklabels\":false},\"annotations\":[{\"font\":{},\"showarrow\":false,\"text\":\"Africa\",\"x\":0.075,\"xanchor\":\"center\",\"xref\":\"paper\",\"y\":1.0,\"yanchor\":\"bottom\",\"yref\":\"paper\"},{\"font\":{},\"showarrow\":false,\"text\":\"Asia\",\"x\":0.24499999999999997,\"xanchor\":\"center\",\"xref\":\"paper\",\"y\":1.0,\"yanchor\":\"bottom\",\"yref\":\"paper\"},{\"font\":{},\"showarrow\":false,\"text\":\"Europe\",\"x\":0.415,\"xanchor\":\"center\",\"xref\":\"paper\",\"y\":1.0,\"yanchor\":\"bottom\",\"yref\":\"paper\"},{\"font\":{},\"showarrow\":false,\"text\":\"North America\",\"x\":0.585,\"xanchor\":\"center\",\"xref\":\"paper\",\"y\":1.0,\"yanchor\":\"bottom\",\"yref\":\"paper\"},{\"font\":{},\"showarrow\":false,\"text\":\"Oceania\",\"x\":0.7549999999999999,\"xanchor\":\"center\",\"xref\":\"paper\",\"y\":1.0,\"yanchor\":\"bottom\",\"yref\":\"paper\"},{\"font\":{},\"showarrow\":false,\"text\":\"South America\",\"x\":0.925,\"xanchor\":\"center\",\"xref\":\"paper\",\"y\":1.0,\"yanchor\":\"bottom\",\"yref\":\"paper\"}],\"legend\":{\"title\":{\"text\":\"Continent\"},\"tracegroupgap\":0},\"margin\":{\"t\":60},\"title\":{\"text\":\"GDP per capita vs. Happiness Score\"}},                        {\"responsive\": true}                    ).then(function(){\n",
       "                            \n",
       "var gd = document.getElementById('f17b152f-f7d2-43c5-9071-5f099edf4a32');\n",
       "var x = new MutationObserver(function (mutations, observer) {{\n",
       "        var display = window.getComputedStyle(gd).display;\n",
       "        if (!display || display === 'none') {{\n",
       "            console.log([gd, 'removed!']);\n",
       "            Plotly.purge(gd);\n",
       "            observer.disconnect();\n",
       "        }}\n",
       "}});\n",
       "\n",
       "// Listen for the removal of the full notebook cells\n",
       "var notebookContainer = gd.closest('#notebook-container');\n",
       "if (notebookContainer) {{\n",
       "    x.observe(notebookContainer, {childList: true});\n",
       "}}\n",
       "\n",
       "// Listen for the clearing of the current output cell\n",
       "var outputEl = gd.closest('.output');\n",
       "if (outputEl) {{\n",
       "    x.observe(outputEl, {childList: true});\n",
       "}}\n",
       "\n",
       "                        })                };                });            </script>        </div>"
      ]
     },
     "metadata": {},
     "output_type": "display_data"
    },
    {
     "data": {
      "text/html": [
       "<div>                            <div id=\"8a2f1d02-3cf1-4850-9447-04fa02af8183\" class=\"plotly-graph-div\" style=\"height:525px; width:100%;\"></div>            <script type=\"text/javascript\">                require([\"plotly\"], function(Plotly) {                    window.PLOTLYENV=window.PLOTLYENV || {};                                    if (document.getElementById(\"8a2f1d02-3cf1-4850-9447-04fa02af8183\")) {                    Plotly.newPlot(                        \"8a2f1d02-3cf1-4850-9447-04fa02af8183\",                        [{\"hovertemplate\":\"Continent=Africa<br>Score=%{x}<br>Social support=%{y}<extra></extra>\",\"legendgroup\":\"Africa\",\"marker\":{\"color\":\"#636efa\",\"symbol\":\"circle\"},\"mode\":\"markers\",\"name\":\"Africa\",\"orientation\":\"v\",\"showlegend\":true,\"x\":[2.853,4.39,4.418,5.044,4.461,4.466,4.49,5.525,4.509,4.516,4.996,4.534,4.944,4.587,4.628,4.639,4.668,4.681,4.883,5.888,4.812,4.799,3.083,4.35,4.374,3.973,5.208,3.231,3.334,5.211,3.41,3.488,3.663,3.775,3.802,3.933,3.975,5.265,4.085,4.722,4.166,4.189,4.286,4.212,4.107],\"xaxis\":\"x\",\"y\":[0.575,1.105,1.125,0.91,1.0,0.986,1.167,1.303,0.983,0.939,0.868,0.829,0.808,1.056,0.774,1.313,0.698,1.134,0.437,1.402,0.799,1.183,0.0,0.766,0.841,0.757,0.782,0.885,0.711,1.16,0.56,1.145,1.114,0.447,1.169,0.916,0.922,1.111,0.572,1.351,1.039,1.069,1.033,1.149,1.058],\"yaxis\":\"y\",\"type\":\"scatter\"},{\"hovertemplate\":\"<b>OLS trendline</b><br>Social support = 0.196996 * Score + 0.0717071<br>R<sup>2</sup>=0.216638<br><br>Continent=Africa<br>Score=%{x}<br>Social support=%{y} <b>(trend)</b><extra></extra>\",\"legendgroup\":\"Africa\",\"marker\":{\"color\":\"#636efa\",\"symbol\":\"circle\"},\"mode\":\"lines\",\"name\":\"Africa\",\"showlegend\":false,\"x\":[2.853,3.083,3.231,3.334,3.41,3.488,3.663,3.775,3.802,3.933,3.973,3.975,4.085,4.107,4.166,4.189,4.212,4.286,4.35,4.374,4.39,4.418,4.461,4.466,4.49,4.509,4.516,4.534,4.587,4.628,4.639,4.668,4.681,4.722,4.799,4.812,4.883,4.944,4.996,5.044,5.208,5.211,5.265,5.525,5.888],\"xaxis\":\"x\",\"y\":[0.6337379249198016,0.6790471065511745,0.7082025799487536,0.7284932134619336,0.7434649430444742,0.7588306655107658,0.7933050428389843,0.8153686443290442,0.8206875482596836,0.8464940821453786,0.8543739398203999,0.8547679327041511,0.8764375413104598,0.8807714630317216,0.8923942531023782,0.8969251712655154,0.9014560894286526,0.9160338261274421,0.9286415984074763,0.9333695130124892,0.9365214560824977,0.9420373564550127,0.9505082034556607,0.9514931856650384,0.9562211002700511,0.9599640326656864,0.9613430077588151,0.9648889437125746,0.975329755131978,0.9834066092488749,0.9855735701095057,0.9912864669238963,0.9938474206682782,1.001924274785175,1.0170930008095913,1.0196539545539731,1.033640701927136,1.0456574848815436,1.0559012998590716,1.065357129069097,1.0976645455366847,1.0982555348623113,1.10889334272359,1.1601124176112292,1.231622126012048],\"yaxis\":\"y\",\"type\":\"scatter\"},{\"hovertemplate\":\"Continent=Asia<br>Score=%{x}<br>Social support=%{y}<extra></extra>\",\"legendgroup\":\"Asia\",\"marker\":{\"color\":\"#EF553B\",\"symbol\":\"circle\"},\"mode\":\"markers\",\"name\":\"Asia\",\"orientation\":\"v\",\"showlegend\":true,\"x\":[5.175,5.339,5.373,4.796,4.906,5.247,4.913,5.192,5.082,5.631,5.43,5.261,5.191,5.467,5.653,5.285,4.548,4.7,3.203,3.38,3.462,7.139,4.015,6.825,6.446,4.36,6.375,6.374,4.366,4.437,6.262,6.199,6.174,4.519,5.208,4.559,6.021,6.008,5.895,4.696,5.886,4.456,5.197],\"xaxis\":\"x2\",\"y\":[1.346,1.171,1.36,1.03,1.225,1.538,1.226,1.203,1.321,1.293,1.277,1.438,1.125,1.098,0.886,1.531,0.842,1.122,0.517,1.163,0.378,1.455,0.765,1.31,1.43,1.181,1.357,1.313,1.265,0.98,1.463,1.368,1.529,0.666,1.147,1.055,1.319,1.409,1.219,1.247,1.419,0.928,1.224],\"yaxis\":\"y2\",\"type\":\"scatter\"},{\"hovertemplate\":\"<b>OLS trendline</b><br>Social support = 0.209046 * Score + 0.0971298<br>R<sup>2</sup>=0.500805<br><br>Continent=Asia<br>Score=%{x}<br>Social support=%{y} <b>(trend)</b><extra></extra>\",\"legendgroup\":\"Asia\",\"marker\":{\"color\":\"#EF553B\",\"symbol\":\"circle\"},\"mode\":\"lines\",\"name\":\"Asia\",\"showlegend\":false,\"x\":[3.203,3.38,3.462,4.015,4.36,4.366,4.437,4.456,4.519,4.548,4.559,4.696,4.7,4.796,4.906,4.913,5.082,5.175,5.191,5.192,5.197,5.208,5.247,5.261,5.285,5.339,5.373,5.43,5.467,5.631,5.653,5.886,5.895,6.008,6.021,6.174,6.199,6.262,6.374,6.375,6.446,6.825,7.139],\"xaxis\":\"x2\",\"y\":[0.7667044921353243,0.8037056553662446,0.8208474372020382,0.9364499415336703,1.0085708529159727,1.0098251296356646,1.0246674041520227,1.028639280431048,1.0418091859878162,1.0478715234663287,1.0501710307857643,1.0788103492187364,1.0796465336985313,1.0997149612136066,1.1227100344079637,1.1241733572476047,1.1595021515189354,1.1789434406741646,1.182288178593344,1.1824972247132925,1.1835424553130363,1.1858419626324719,1.193994761310471,1.1969214069897531,1.2019385138685221,1.213227004345752,1.2203345724240076,1.2322502012610839,1.2399849076991858,1.2742684713707728,1.278867486009644,1.3275752319576917,1.32945664703723,1.3530788585914335,1.3557964581507664,1.3877805145029183,1.3930066675016355,1.4061765730584037,1.4295897384926581,1.4297987846126072,1.4446410591289647,1.5238695385895231,1.5895100202534156],\"yaxis\":\"y2\",\"type\":\"scatter\"},{\"hovertemplate\":\"Continent=Europe<br>Score=%{x}<br>Social support=%{y}<extra></extra>\",\"legendgroup\":\"Europe\",\"marker\":{\"color\":\"#00cc96\",\"symbol\":\"circle\"},\"mode\":\"markers\",\"name\":\"Europe\",\"orientation\":\"v\",\"showlegend\":true,\"x\":[4.719,5.011,4.332,7.769,5.287,6.149,6.182,5.274,6.223,6.354,6.592,6.726,6.852,6.923,6.118,6.985,7.054,7.09,7.246,7.343,7.48,7.488,7.494,7.554,7.6,7.021,6.1,6.198,6.07,5.323,5.432,5.523,5.529,5.603,5.648,5.693,5.718,5.758,5.809,5.386,5.893,6.046,5.94],\"xaxis\":\"x3\",\"y\":[0.848,1.513,1.39,1.587,1.156,1.515,1.438,1.294,1.488,1.484,1.472,1.52,1.487,1.504,1.523,1.454,1.538,1.479,1.475,1.487,1.526,1.522,1.624,1.582,1.573,1.553,1.232,1.504,1.232,1.465,1.266,1.361,1.328,1.383,1.452,1.431,1.252,1.41,1.508,1.212,1.528,1.223,1.465],\"yaxis\":\"y3\",\"type\":\"scatter\"},{\"hovertemplate\":\"<b>OLS trendline</b><br>Social support = 0.10879 * Score + 0.745814<br>R<sup>2</sup>=0.406405<br><br>Continent=Europe<br>Score=%{x}<br>Social support=%{y} <b>(trend)</b><extra></extra>\",\"legendgroup\":\"Europe\",\"marker\":{\"color\":\"#00cc96\",\"symbol\":\"circle\"},\"mode\":\"lines\",\"name\":\"Europe\",\"showlegend\":false,\"x\":[4.332,4.719,5.011,5.274,5.287,5.323,5.386,5.432,5.523,5.529,5.603,5.648,5.693,5.718,5.758,5.809,5.893,5.94,6.046,6.07,6.1,6.118,6.149,6.182,6.198,6.223,6.354,6.592,6.726,6.852,6.923,6.985,7.021,7.054,7.09,7.246,7.343,7.48,7.488,7.494,7.554,7.6,7.769],\"xaxis\":\"x3\",\"y\":[1.217093527666641,1.2591953597591712,1.2909621167902274,1.319573956170939,1.3209882296004039,1.3249046790973833,1.3317584657170976,1.3367628178521271,1.3466627318583808,1.3473154734412107,1.3553659529627797,1.3602615148340043,1.3651570767052286,1.3678768333003533,1.3722284438525527,1.3777767473066072,1.3869151294662259,1.3920282718650605,1.4035600398283892,1.4061710061597088,1.4094347140738583,1.411392938822348,1.4147654370003027,1.4183555157058674,1.4200961599267472,1.4228159165218717,1.437067441080325,1.462959523865912,1.4775374192157802,1.4912449924552087,1.4989691011853628,1.5057140975412722,1.5096305470382516,1.513220625743816,1.5171370752407958,1.5341083563943738,1.5446610119834574,1.5595652781247407,1.5604356002351807,1.5610883418180106,1.5676157576463097,1.572620109781339,1.591005664364382],\"yaxis\":\"y3\",\"type\":\"scatter\"},{\"hovertemplate\":\"Continent=North America<br>Score=%{x}<br>Social support=%{y}<extra></extra>\",\"legendgroup\":\"North America\",\"marker\":{\"color\":\"#ab63fa\",\"symbol\":\"circle\"},\"mode\":\"markers\",\"name\":\"North America\",\"orientation\":\"v\",\"showlegend\":true,\"x\":[6.105,5.425,3.597,7.278,7.167,5.89,6.321,6.595,6.892,5.86,6.436,6.253],\"xaxis\":\"x4\",\"y\":[1.325,1.401,0.688,1.505,1.441,1.478,1.442,1.323,1.457,1.236,1.269,1.242],\"yaxis\":\"y4\",\"type\":\"scatter\"},{\"hovertemplate\":\"<b>OLS trendline</b><br>Social support = 0.189979 * Score + 0.14858<br>R<sup>2</sup>=0.707582<br><br>Continent=North America<br>Score=%{x}<br>Social support=%{y} <b>(trend)</b><extra></extra>\",\"legendgroup\":\"North America\",\"marker\":{\"color\":\"#ab63fa\",\"symbol\":\"circle\"},\"mode\":\"lines\",\"name\":\"North America\",\"showlegend\":false,\"x\":[3.597,5.425,5.86,5.89,6.105,6.253,6.321,6.436,6.595,6.892,7.167,7.278],\"xaxis\":\"x4\",\"y\":[0.8319335293477814,1.1792146286864562,1.2618553716910097,1.2675547332775308,1.3084001579809308,1.3365170084744338,1.3494355614038813,1.3712831141522113,1.4014897305607725,1.4579134102673295,1.5101575581437712,1.5312451960138986],\"yaxis\":\"y4\",\"type\":\"scatter\"},{\"hovertemplate\":\"Continent=Oceania<br>Score=%{x}<br>Social support=%{y}<extra></extra>\",\"legendgroup\":\"Oceania\",\"marker\":{\"color\":\"#FFA15A\",\"symbol\":\"circle\"},\"mode\":\"markers\",\"name\":\"Oceania\",\"orientation\":\"v\",\"showlegend\":true,\"x\":[7.228,7.307],\"xaxis\":\"x5\",\"y\":[1.548,1.557],\"yaxis\":\"y5\",\"type\":\"scatter\"},{\"hovertemplate\":\"<b>OLS trendline</b><br>Social support = 0.113924 * Score + 0.724557<br>R<sup>2</sup>=1.000000<br><br>Continent=Oceania<br>Score=%{x}<br>Social support=%{y} <b>(trend)</b><extra></extra>\",\"legendgroup\":\"Oceania\",\"marker\":{\"color\":\"#FFA15A\",\"symbol\":\"circle\"},\"mode\":\"lines\",\"name\":\"Oceania\",\"showlegend\":false,\"x\":[7.228,7.307],\"xaxis\":\"x5\",\"y\":[1.5479999999999985,1.5569999999999986],\"yaxis\":\"y5\",\"type\":\"scatter\"},{\"hovertemplate\":\"Continent=South America<br>Score=%{x}<br>Social support=%{y}<extra></extra>\",\"legendgroup\":\"South America\",\"marker\":{\"color\":\"#19d3f3\",\"symbol\":\"circle\"},\"mode\":\"markers\",\"name\":\"South America\",\"orientation\":\"v\",\"showlegend\":true,\"x\":[6.444,6.125,6.028,5.743,6.293,6.192,6.086,6.3,5.697,4.707,5.779],\"xaxis\":\"x6\",\"y\":[1.369,1.41,1.312,1.475,1.465,1.477,1.432,1.439,1.274,1.427,1.209],\"yaxis\":\"y6\",\"type\":\"scatter\"},{\"hovertemplate\":\"<b>OLS trendline</b><br>Social support = 0.0234292 * Score + 1.25062<br>R<sup>2</sup>=0.015815<br><br>Continent=South America<br>Score=%{x}<br>Social support=%{y} <b>(trend)</b><extra></extra>\",\"legendgroup\":\"South America\",\"marker\":{\"color\":\"#19d3f3\",\"symbol\":\"circle\"},\"mode\":\"lines\",\"name\":\"South America\",\"showlegend\":false,\"x\":[4.707,5.697,5.743,5.779,6.028,6.086,6.125,6.192,6.293,6.3,6.444],\"xaxis\":\"x6\",\"y\":[1.3609058430080103,1.3841007735832298,1.3851785178321794,1.3860219698530964,1.3918558463311062,1.3932147412536948,1.3941284809430217,1.3956982388708397,1.3980645903739681,1.3982285949335909,1.4016024030172591],\"yaxis\":\"y6\",\"type\":\"scatter\"}],                        {\"template\":{\"data\":{\"histogram2dcontour\":[{\"type\":\"histogram2dcontour\",\"colorbar\":{\"outlinewidth\":0,\"ticks\":\"\"},\"colorscale\":[[0.0,\"#0d0887\"],[0.1111111111111111,\"#46039f\"],[0.2222222222222222,\"#7201a8\"],[0.3333333333333333,\"#9c179e\"],[0.4444444444444444,\"#bd3786\"],[0.5555555555555556,\"#d8576b\"],[0.6666666666666666,\"#ed7953\"],[0.7777777777777778,\"#fb9f3a\"],[0.8888888888888888,\"#fdca26\"],[1.0,\"#f0f921\"]]}],\"choropleth\":[{\"type\":\"choropleth\",\"colorbar\":{\"outlinewidth\":0,\"ticks\":\"\"}}],\"histogram2d\":[{\"type\":\"histogram2d\",\"colorbar\":{\"outlinewidth\":0,\"ticks\":\"\"},\"colorscale\":[[0.0,\"#0d0887\"],[0.1111111111111111,\"#46039f\"],[0.2222222222222222,\"#7201a8\"],[0.3333333333333333,\"#9c179e\"],[0.4444444444444444,\"#bd3786\"],[0.5555555555555556,\"#d8576b\"],[0.6666666666666666,\"#ed7953\"],[0.7777777777777778,\"#fb9f3a\"],[0.8888888888888888,\"#fdca26\"],[1.0,\"#f0f921\"]]}],\"heatmap\":[{\"type\":\"heatmap\",\"colorbar\":{\"outlinewidth\":0,\"ticks\":\"\"},\"colorscale\":[[0.0,\"#0d0887\"],[0.1111111111111111,\"#46039f\"],[0.2222222222222222,\"#7201a8\"],[0.3333333333333333,\"#9c179e\"],[0.4444444444444444,\"#bd3786\"],[0.5555555555555556,\"#d8576b\"],[0.6666666666666666,\"#ed7953\"],[0.7777777777777778,\"#fb9f3a\"],[0.8888888888888888,\"#fdca26\"],[1.0,\"#f0f921\"]]}],\"heatmapgl\":[{\"type\":\"heatmapgl\",\"colorbar\":{\"outlinewidth\":0,\"ticks\":\"\"},\"colorscale\":[[0.0,\"#0d0887\"],[0.1111111111111111,\"#46039f\"],[0.2222222222222222,\"#7201a8\"],[0.3333333333333333,\"#9c179e\"],[0.4444444444444444,\"#bd3786\"],[0.5555555555555556,\"#d8576b\"],[0.6666666666666666,\"#ed7953\"],[0.7777777777777778,\"#fb9f3a\"],[0.8888888888888888,\"#fdca26\"],[1.0,\"#f0f921\"]]}],\"contourcarpet\":[{\"type\":\"contourcarpet\",\"colorbar\":{\"outlinewidth\":0,\"ticks\":\"\"}}],\"contour\":[{\"type\":\"contour\",\"colorbar\":{\"outlinewidth\":0,\"ticks\":\"\"},\"colorscale\":[[0.0,\"#0d0887\"],[0.1111111111111111,\"#46039f\"],[0.2222222222222222,\"#7201a8\"],[0.3333333333333333,\"#9c179e\"],[0.4444444444444444,\"#bd3786\"],[0.5555555555555556,\"#d8576b\"],[0.6666666666666666,\"#ed7953\"],[0.7777777777777778,\"#fb9f3a\"],[0.8888888888888888,\"#fdca26\"],[1.0,\"#f0f921\"]]}],\"surface\":[{\"type\":\"surface\",\"colorbar\":{\"outlinewidth\":0,\"ticks\":\"\"},\"colorscale\":[[0.0,\"#0d0887\"],[0.1111111111111111,\"#46039f\"],[0.2222222222222222,\"#7201a8\"],[0.3333333333333333,\"#9c179e\"],[0.4444444444444444,\"#bd3786\"],[0.5555555555555556,\"#d8576b\"],[0.6666666666666666,\"#ed7953\"],[0.7777777777777778,\"#fb9f3a\"],[0.8888888888888888,\"#fdca26\"],[1.0,\"#f0f921\"]]}],\"mesh3d\":[{\"type\":\"mesh3d\",\"colorbar\":{\"outlinewidth\":0,\"ticks\":\"\"}}],\"scatter\":[{\"fillpattern\":{\"fillmode\":\"overlay\",\"size\":10,\"solidity\":0.2},\"type\":\"scatter\"}],\"parcoords\":[{\"type\":\"parcoords\",\"line\":{\"colorbar\":{\"outlinewidth\":0,\"ticks\":\"\"}}}],\"scatterpolargl\":[{\"type\":\"scatterpolargl\",\"marker\":{\"colorbar\":{\"outlinewidth\":0,\"ticks\":\"\"}}}],\"bar\":[{\"error_x\":{\"color\":\"#2a3f5f\"},\"error_y\":{\"color\":\"#2a3f5f\"},\"marker\":{\"line\":{\"color\":\"#E5ECF6\",\"width\":0.5},\"pattern\":{\"fillmode\":\"overlay\",\"size\":10,\"solidity\":0.2}},\"type\":\"bar\"}],\"scattergeo\":[{\"type\":\"scattergeo\",\"marker\":{\"colorbar\":{\"outlinewidth\":0,\"ticks\":\"\"}}}],\"scatterpolar\":[{\"type\":\"scatterpolar\",\"marker\":{\"colorbar\":{\"outlinewidth\":0,\"ticks\":\"\"}}}],\"histogram\":[{\"marker\":{\"pattern\":{\"fillmode\":\"overlay\",\"size\":10,\"solidity\":0.2}},\"type\":\"histogram\"}],\"scattergl\":[{\"type\":\"scattergl\",\"marker\":{\"colorbar\":{\"outlinewidth\":0,\"ticks\":\"\"}}}],\"scatter3d\":[{\"type\":\"scatter3d\",\"line\":{\"colorbar\":{\"outlinewidth\":0,\"ticks\":\"\"}},\"marker\":{\"colorbar\":{\"outlinewidth\":0,\"ticks\":\"\"}}}],\"scattermapbox\":[{\"type\":\"scattermapbox\",\"marker\":{\"colorbar\":{\"outlinewidth\":0,\"ticks\":\"\"}}}],\"scatterternary\":[{\"type\":\"scatterternary\",\"marker\":{\"colorbar\":{\"outlinewidth\":0,\"ticks\":\"\"}}}],\"scattercarpet\":[{\"type\":\"scattercarpet\",\"marker\":{\"colorbar\":{\"outlinewidth\":0,\"ticks\":\"\"}}}],\"carpet\":[{\"aaxis\":{\"endlinecolor\":\"#2a3f5f\",\"gridcolor\":\"white\",\"linecolor\":\"white\",\"minorgridcolor\":\"white\",\"startlinecolor\":\"#2a3f5f\"},\"baxis\":{\"endlinecolor\":\"#2a3f5f\",\"gridcolor\":\"white\",\"linecolor\":\"white\",\"minorgridcolor\":\"white\",\"startlinecolor\":\"#2a3f5f\"},\"type\":\"carpet\"}],\"table\":[{\"cells\":{\"fill\":{\"color\":\"#EBF0F8\"},\"line\":{\"color\":\"white\"}},\"header\":{\"fill\":{\"color\":\"#C8D4E3\"},\"line\":{\"color\":\"white\"}},\"type\":\"table\"}],\"barpolar\":[{\"marker\":{\"line\":{\"color\":\"#E5ECF6\",\"width\":0.5},\"pattern\":{\"fillmode\":\"overlay\",\"size\":10,\"solidity\":0.2}},\"type\":\"barpolar\"}],\"pie\":[{\"automargin\":true,\"type\":\"pie\"}]},\"layout\":{\"autotypenumbers\":\"strict\",\"colorway\":[\"#636efa\",\"#EF553B\",\"#00cc96\",\"#ab63fa\",\"#FFA15A\",\"#19d3f3\",\"#FF6692\",\"#B6E880\",\"#FF97FF\",\"#FECB52\"],\"font\":{\"color\":\"#2a3f5f\"},\"hovermode\":\"closest\",\"hoverlabel\":{\"align\":\"left\"},\"paper_bgcolor\":\"white\",\"plot_bgcolor\":\"#E5ECF6\",\"polar\":{\"bgcolor\":\"#E5ECF6\",\"angularaxis\":{\"gridcolor\":\"white\",\"linecolor\":\"white\",\"ticks\":\"\"},\"radialaxis\":{\"gridcolor\":\"white\",\"linecolor\":\"white\",\"ticks\":\"\"}},\"ternary\":{\"bgcolor\":\"#E5ECF6\",\"aaxis\":{\"gridcolor\":\"white\",\"linecolor\":\"white\",\"ticks\":\"\"},\"baxis\":{\"gridcolor\":\"white\",\"linecolor\":\"white\",\"ticks\":\"\"},\"caxis\":{\"gridcolor\":\"white\",\"linecolor\":\"white\",\"ticks\":\"\"}},\"coloraxis\":{\"colorbar\":{\"outlinewidth\":0,\"ticks\":\"\"}},\"colorscale\":{\"sequential\":[[0.0,\"#0d0887\"],[0.1111111111111111,\"#46039f\"],[0.2222222222222222,\"#7201a8\"],[0.3333333333333333,\"#9c179e\"],[0.4444444444444444,\"#bd3786\"],[0.5555555555555556,\"#d8576b\"],[0.6666666666666666,\"#ed7953\"],[0.7777777777777778,\"#fb9f3a\"],[0.8888888888888888,\"#fdca26\"],[1.0,\"#f0f921\"]],\"sequentialminus\":[[0.0,\"#0d0887\"],[0.1111111111111111,\"#46039f\"],[0.2222222222222222,\"#7201a8\"],[0.3333333333333333,\"#9c179e\"],[0.4444444444444444,\"#bd3786\"],[0.5555555555555556,\"#d8576b\"],[0.6666666666666666,\"#ed7953\"],[0.7777777777777778,\"#fb9f3a\"],[0.8888888888888888,\"#fdca26\"],[1.0,\"#f0f921\"]],\"diverging\":[[0,\"#8e0152\"],[0.1,\"#c51b7d\"],[0.2,\"#de77ae\"],[0.3,\"#f1b6da\"],[0.4,\"#fde0ef\"],[0.5,\"#f7f7f7\"],[0.6,\"#e6f5d0\"],[0.7,\"#b8e186\"],[0.8,\"#7fbc41\"],[0.9,\"#4d9221\"],[1,\"#276419\"]]},\"xaxis\":{\"gridcolor\":\"white\",\"linecolor\":\"white\",\"ticks\":\"\",\"title\":{\"standoff\":15},\"zerolinecolor\":\"white\",\"automargin\":true,\"zerolinewidth\":2},\"yaxis\":{\"gridcolor\":\"white\",\"linecolor\":\"white\",\"ticks\":\"\",\"title\":{\"standoff\":15},\"zerolinecolor\":\"white\",\"automargin\":true,\"zerolinewidth\":2},\"scene\":{\"xaxis\":{\"backgroundcolor\":\"#E5ECF6\",\"gridcolor\":\"white\",\"linecolor\":\"white\",\"showbackground\":true,\"ticks\":\"\",\"zerolinecolor\":\"white\",\"gridwidth\":2},\"yaxis\":{\"backgroundcolor\":\"#E5ECF6\",\"gridcolor\":\"white\",\"linecolor\":\"white\",\"showbackground\":true,\"ticks\":\"\",\"zerolinecolor\":\"white\",\"gridwidth\":2},\"zaxis\":{\"backgroundcolor\":\"#E5ECF6\",\"gridcolor\":\"white\",\"linecolor\":\"white\",\"showbackground\":true,\"ticks\":\"\",\"zerolinecolor\":\"white\",\"gridwidth\":2}},\"shapedefaults\":{\"line\":{\"color\":\"#2a3f5f\"}},\"annotationdefaults\":{\"arrowcolor\":\"#2a3f5f\",\"arrowhead\":0,\"arrowwidth\":1},\"geo\":{\"bgcolor\":\"white\",\"landcolor\":\"#E5ECF6\",\"subunitcolor\":\"white\",\"showland\":true,\"showlakes\":true,\"lakecolor\":\"white\"},\"title\":{\"x\":0.05},\"mapbox\":{\"style\":\"light\"}}},\"xaxis\":{\"anchor\":\"y\",\"domain\":[0.0,0.15],\"title\":{\"text\":\"Happiness Score\"}},\"yaxis\":{\"anchor\":\"x\",\"domain\":[0.0,1.0],\"title\":{\"text\":\"Social support\"}},\"xaxis2\":{\"anchor\":\"y2\",\"domain\":[0.16999999999999998,0.31999999999999995],\"matches\":\"x\",\"title\":{\"text\":\"Happiness Score\"}},\"yaxis2\":{\"anchor\":\"x2\",\"domain\":[0.0,1.0],\"matches\":\"y\",\"showticklabels\":false},\"xaxis3\":{\"anchor\":\"y3\",\"domain\":[0.33999999999999997,0.49],\"matches\":\"x\",\"title\":{\"text\":\"Happiness Score\"}},\"yaxis3\":{\"anchor\":\"x3\",\"domain\":[0.0,1.0],\"matches\":\"y\",\"showticklabels\":false},\"xaxis4\":{\"anchor\":\"y4\",\"domain\":[0.51,0.66],\"matches\":\"x\",\"title\":{\"text\":\"Happiness Score\"}},\"yaxis4\":{\"anchor\":\"x4\",\"domain\":[0.0,1.0],\"matches\":\"y\",\"showticklabels\":false},\"xaxis5\":{\"anchor\":\"y5\",\"domain\":[0.6799999999999999,0.83],\"matches\":\"x\",\"title\":{\"text\":\"Happiness Score\"}},\"yaxis5\":{\"anchor\":\"x5\",\"domain\":[0.0,1.0],\"matches\":\"y\",\"showticklabels\":false},\"xaxis6\":{\"anchor\":\"y6\",\"domain\":[0.85,1.0],\"matches\":\"x\",\"title\":{\"text\":\"Happiness Score\"}},\"yaxis6\":{\"anchor\":\"x6\",\"domain\":[0.0,1.0],\"matches\":\"y\",\"showticklabels\":false},\"annotations\":[{\"font\":{},\"showarrow\":false,\"text\":\"Africa\",\"x\":0.075,\"xanchor\":\"center\",\"xref\":\"paper\",\"y\":1.0,\"yanchor\":\"bottom\",\"yref\":\"paper\"},{\"font\":{},\"showarrow\":false,\"text\":\"Asia\",\"x\":0.24499999999999997,\"xanchor\":\"center\",\"xref\":\"paper\",\"y\":1.0,\"yanchor\":\"bottom\",\"yref\":\"paper\"},{\"font\":{},\"showarrow\":false,\"text\":\"Europe\",\"x\":0.415,\"xanchor\":\"center\",\"xref\":\"paper\",\"y\":1.0,\"yanchor\":\"bottom\",\"yref\":\"paper\"},{\"font\":{},\"showarrow\":false,\"text\":\"North America\",\"x\":0.585,\"xanchor\":\"center\",\"xref\":\"paper\",\"y\":1.0,\"yanchor\":\"bottom\",\"yref\":\"paper\"},{\"font\":{},\"showarrow\":false,\"text\":\"Oceania\",\"x\":0.7549999999999999,\"xanchor\":\"center\",\"xref\":\"paper\",\"y\":1.0,\"yanchor\":\"bottom\",\"yref\":\"paper\"},{\"font\":{},\"showarrow\":false,\"text\":\"South America\",\"x\":0.925,\"xanchor\":\"center\",\"xref\":\"paper\",\"y\":1.0,\"yanchor\":\"bottom\",\"yref\":\"paper\"}],\"legend\":{\"title\":{\"text\":\"Continent\"},\"tracegroupgap\":0},\"margin\":{\"t\":60},\"title\":{\"text\":\"Social support vs. Happiness Score\"}},                        {\"responsive\": true}                    ).then(function(){\n",
       "                            \n",
       "var gd = document.getElementById('8a2f1d02-3cf1-4850-9447-04fa02af8183');\n",
       "var x = new MutationObserver(function (mutations, observer) {{\n",
       "        var display = window.getComputedStyle(gd).display;\n",
       "        if (!display || display === 'none') {{\n",
       "            console.log([gd, 'removed!']);\n",
       "            Plotly.purge(gd);\n",
       "            observer.disconnect();\n",
       "        }}\n",
       "}});\n",
       "\n",
       "// Listen for the removal of the full notebook cells\n",
       "var notebookContainer = gd.closest('#notebook-container');\n",
       "if (notebookContainer) {{\n",
       "    x.observe(notebookContainer, {childList: true});\n",
       "}}\n",
       "\n",
       "// Listen for the clearing of the current output cell\n",
       "var outputEl = gd.closest('.output');\n",
       "if (outputEl) {{\n",
       "    x.observe(outputEl, {childList: true});\n",
       "}}\n",
       "\n",
       "                        })                };                });            </script>        </div>"
      ]
     },
     "metadata": {},
     "output_type": "display_data"
    },
    {
     "data": {
      "text/html": [
       "<div>                            <div id=\"6a0f6a64-b2c9-460d-aa56-f2fc2b764cce\" class=\"plotly-graph-div\" style=\"height:525px; width:100%;\"></div>            <script type=\"text/javascript\">                require([\"plotly\"], function(Plotly) {                    window.PLOTLYENV=window.PLOTLYENV || {};                                    if (document.getElementById(\"6a0f6a64-b2c9-460d-aa56-f2fc2b764cce\")) {                    Plotly.newPlot(                        \"6a0f6a64-b2c9-460d-aa56-f2fc2b764cce\",                        [{\"hovertemplate\":\"Continent=Africa<br>Score=%{x}<br>Healthy life expectancy=%{y}<extra></extra>\",\"legendgroup\":\"Africa\",\"marker\":{\"color\":\"#636efa\",\"symbol\":\"circle\"},\"mode\":\"markers\",\"name\":\"Africa\",\"orientation\":\"v\",\"showlegend\":true,\"x\":[2.853,4.39,4.418,5.044,4.461,4.466,4.49,5.525,4.509,4.516,4.996,4.534,4.944,4.587,4.628,4.639,4.668,4.681,4.883,5.888,4.812,4.799,3.083,4.35,4.374,3.973,5.208,3.231,3.334,5.211,3.41,3.488,3.663,3.775,3.802,3.933,3.975,5.265,4.085,4.722,4.166,4.189,4.286,4.212,4.107],\"xaxis\":\"x\",\"y\":[0.295,0.308,0.357,0.331,0.815,0.39,0.489,0.673,0.581,0.428,0.486,0.375,0.232,0.38,0.366,0.477,0.268,0.571,0.397,0.798,0.508,0.571,0.105,0.192,0.242,0.505,0.782,0.499,0.614,0.785,0.495,0.538,0.433,0.38,0.168,0.555,0.443,0.245,0.41,0.469,0.644,0.443,0.532,0.0,0.426],\"yaxis\":\"y\",\"type\":\"scatter\"},{\"hovertemplate\":\"<b>OLS trendline</b><br>Healthy life expectancy = 0.0848514 * Score + 0.0738111<br>R<sup>2</sup>=0.093169<br><br>Continent=Africa<br>Score=%{x}<br>Healthy life expectancy=%{y} <b>(trend)</b><extra></extra>\",\"legendgroup\":\"Africa\",\"marker\":{\"color\":\"#636efa\",\"symbol\":\"circle\"},\"mode\":\"lines\",\"name\":\"Africa\",\"showlegend\":false,\"x\":[2.853,3.083,3.231,3.334,3.41,3.488,3.663,3.775,3.802,3.933,3.973,3.975,4.085,4.107,4.166,4.189,4.212,4.286,4.35,4.374,4.39,4.418,4.461,4.466,4.49,4.509,4.516,4.534,4.587,4.628,4.639,4.668,4.681,4.722,4.799,4.812,4.883,4.944,4.996,5.044,5.208,5.211,5.265,5.525,5.888],\"xaxis\":\"x\",\"y\":[0.31589224292512585,0.3354080710140117,0.3479660821320773,0.35670577905883927,0.3631544874708189,0.3697728987357454,0.38462189836859334,0.394125258133616,0.39641624664839825,0.40753178351641584,0.4109258405753525,0.41109554342829935,0.4204292003403752,0.42229593172279034,0.4273021658847219,0.4292537486936105,0.43120533150249907,0.4374843370615319,0.4429148283558305,0.44495126259119255,0.4463088854147672,0.4486847253560229,0.45233333669437986,0.4527575938267469,0.4547940280621089,0.45640620516510383,0.45700016515041775,0.4585274908269392,0.4630246164300303,0.4665035249154404,0.467436890606648,0.4698975819743771,0.47100065051853146,0.4744795590039416,0.48101311884239467,0.4821161873865491,0.48814063866616164,0.49331657568104004,0.49772884985765775,0.5018017183283817,0.5157173522700221,0.5159719065494424,0.5205538835790068,0.5426152544620951,0.5734163222719454],\"yaxis\":\"y\",\"type\":\"scatter\"},{\"hovertemplate\":\"Continent=Asia<br>Score=%{x}<br>Healthy life expectancy=%{y}<extra></extra>\",\"legendgroup\":\"Asia\",\"marker\":{\"color\":\"#EF553B\",\"symbol\":\"circle\"},\"mode\":\"markers\",\"name\":\"Asia\",\"orientation\":\"v\",\"showlegend\":true,\"x\":[5.175,5.339,5.373,4.796,4.906,5.247,4.913,5.192,5.082,5.631,5.43,5.261,5.191,5.467,5.653,5.285,4.548,4.7,3.203,3.38,3.462,7.139,4.015,6.825,6.446,4.36,6.375,6.374,4.366,4.437,6.262,6.199,6.174,4.519,5.208,4.559,6.021,6.008,5.895,4.696,5.886,4.456,5.197],\"xaxis\":\"x2\",\"y\":[0.851,0.828,0.808,0.551,0.815,0.657,0.677,0.66,0.604,0.657,1.122,0.723,0.893,0.718,0.535,0.667,0.785,0.637,0.361,0.463,0.44,1.029,0.588,0.825,0.914,0.555,0.795,0.871,0.831,0.574,1.141,0.871,0.756,0.752,0.769,0.815,0.808,0.828,1.036,0.672,1.088,0.723,0.815],\"yaxis\":\"y2\",\"type\":\"scatter\"},{\"hovertemplate\":\"<b>OLS trendline</b><br>Healthy life expectancy = 0.13603 * Score + 0.0453206<br>R<sup>2</sup>=0.474192<br><br>Continent=Asia<br>Score=%{x}<br>Healthy life expectancy=%{y} <b>(trend)</b><extra></extra>\",\"legendgroup\":\"Asia\",\"marker\":{\"color\":\"#EF553B\",\"symbol\":\"circle\"},\"mode\":\"lines\",\"name\":\"Asia\",\"showlegend\":false,\"x\":[3.203,3.38,3.462,4.015,4.36,4.366,4.437,4.456,4.519,4.548,4.559,4.696,4.7,4.796,4.906,4.913,5.082,5.175,5.191,5.192,5.197,5.208,5.247,5.261,5.285,5.339,5.373,5.43,5.467,5.631,5.653,5.886,5.895,6.008,6.021,6.174,6.199,6.262,6.374,6.375,6.446,6.825,7.139],\"xaxis\":\"x2\",\"y\":[0.481023807613079,0.5051010699891962,0.5162555079261544,0.5914799491351532,0.638410206308941,0.6392263846945719,0.6488844955912066,0.6514690604790384,0.6600389335281649,0.6639837957253818,0.6654801227657055,0.684116195904282,0.6846603148280361,0.6977191689981336,0.7126824394013701,0.7136346475179398,0.7366236720465488,0.7492744370238307,0.7514509127188469,0.7515869424497855,0.7522670911044781,0.7537634181448017,0.7590685776514038,0.760972993884543,0.7642377074270674,0.7715833128977473,0.7762083237496568,0.783962018413152,0.7889951184578771,0.8113039943317936,0.8142966484124409,0.8459915757211149,0.8472158432995615,0.8625872028956137,0.8643555893978144,0.8851681382314073,0.8885688815048701,0.8971387545539965,0.9123740844191103,0.9125101141500488,0.9221682250466833,0.9737234930723806,1.0164368285870742],\"yaxis\":\"y2\",\"type\":\"scatter\"},{\"hovertemplate\":\"Continent=Europe<br>Score=%{x}<br>Healthy life expectancy=%{y}<extra></extra>\",\"legendgroup\":\"Europe\",\"marker\":{\"color\":\"#00cc96\",\"symbol\":\"circle\"},\"mode\":\"markers\",\"name\":\"Europe\",\"orientation\":\"v\",\"showlegend\":true,\"x\":[4.719,5.011,4.332,7.769,5.287,6.149,6.182,5.274,6.223,6.354,6.592,6.726,6.852,6.923,6.118,6.985,7.054,7.09,7.246,7.343,7.48,7.488,7.494,7.554,7.6,7.021,6.1,6.198,6.07,5.323,5.432,5.523,5.529,5.603,5.648,5.693,5.718,5.758,5.809,5.386,5.893,6.046,5.94],\"xaxis\":\"x3\",\"y\":[0.874,0.815,0.739,0.986,0.999,0.818,0.884,0.838,1.039,1.062,1.045,0.999,0.92,0.986,0.953,0.987,0.996,1.012,1.016,1.009,1.052,0.999,1.026,1.028,0.996,0.999,0.758,0.881,0.825,0.789,0.914,0.871,0.739,0.854,0.726,0.999,1.042,0.828,0.729,0.845,0.874,1.042,0.812],\"yaxis\":\"y3\",\"type\":\"scatter\"},{\"hovertemplate\":\"<b>OLS trendline</b><br>Healthy life expectancy = 0.0794895 * Score + 0.424635<br>R<sup>2</sup>=0.426188<br><br>Continent=Europe<br>Score=%{x}<br>Healthy life expectancy=%{y} <b>(trend)</b><extra></extra>\",\"legendgroup\":\"Europe\",\"marker\":{\"color\":\"#00cc96\",\"symbol\":\"circle\"},\"mode\":\"lines\",\"name\":\"Europe\",\"showlegend\":false,\"x\":[4.332,4.719,5.011,5.274,5.287,5.323,5.386,5.432,5.523,5.529,5.603,5.648,5.693,5.718,5.758,5.809,5.893,5.94,6.046,6.07,6.1,6.118,6.149,6.182,6.198,6.223,6.354,6.592,6.726,6.852,6.923,6.985,7.021,7.054,7.09,7.246,7.343,7.48,7.488,7.494,7.554,7.6,7.769],\"xaxis\":\"x3\",\"y\":[0.7689831760669352,0.7997455967998657,0.8229565189032655,0.8438622466881769,0.8448956096585338,0.8477572301918297,0.8527650661250974,0.8564215812509754,0.8636551220434734,0.8641320587990227,0.8700142787841307,0.8735913044507506,0.8771683301173705,0.879155566598826,0.8823351449691547,0.8863891073913238,0.8930662219690142,0.8968022265541504,0.9052281092355217,0.9071358562577189,0.9095205400354653,0.9109513503021134,0.9134155235391181,0.9160386756946393,0.9173105070427708,0.9192977435242262,0.9297108626870529,0.9486293539905089,0.9592809415311101,0.9692966133976457,0.9749403650049792,0.9798687114789888,0.9827303320122845,0.9853534841678058,0.9882151047011016,1.0006154603453838,1.008325937893431,1.019215993811807,1.0198519094858727,1.020328846241422,1.0250982137969151,1.028754728922793,1.042188447537432],\"yaxis\":\"y3\",\"type\":\"scatter\"},{\"hovertemplate\":\"Continent=North America<br>Score=%{x}<br>Healthy life expectancy=%{y}<extra></extra>\",\"legendgroup\":\"North America\",\"marker\":{\"color\":\"#ab63fa\",\"symbol\":\"circle\"},\"mode\":\"markers\",\"name\":\"North America\",\"orientation\":\"v\",\"showlegend\":true,\"x\":[6.105,5.425,3.597,7.278,7.167,5.89,6.321,6.595,6.892,5.86,6.436,6.253],\"xaxis\":\"x4\",\"y\":[0.835,0.779,0.449,1.039,0.963,0.831,0.91,0.861,0.874,0.828,0.746,0.789],\"yaxis\":\"y4\",\"type\":\"scatter\"},{\"hovertemplate\":\"<b>OLS trendline</b><br>Healthy life expectancy = 0.13618 * Score + -0.0123918<br>R<sup>2</sup>=0.847767<br><br>Continent=North America<br>Score=%{x}<br>Healthy life expectancy=%{y} <b>(trend)</b><extra></extra>\",\"legendgroup\":\"North America\",\"marker\":{\"color\":\"#ab63fa\",\"symbol\":\"circle\"},\"mode\":\"lines\",\"name\":\"North America\",\"showlegend\":false,\"x\":[3.597,5.425,5.86,5.89,6.105,6.253,6.321,6.436,6.595,6.892,7.167,7.278],\"xaxis\":\"x4\",\"y\":[0.47744911136851514,0.7263869124782933,0.7856253935957735,0.7897108060866342,0.8189895956044693,0.8391442972260486,0.8484045655386663,0.8640653134202989,0.8857179996218605,0.9261635832813815,0.9636131977809377,0.9787292239971224],\"yaxis\":\"y4\",\"type\":\"scatter\"},{\"hovertemplate\":\"Continent=Oceania<br>Score=%{x}<br>Healthy life expectancy=%{y}<extra></extra>\",\"legendgroup\":\"Oceania\",\"marker\":{\"color\":\"#FFA15A\",\"symbol\":\"circle\"},\"mode\":\"markers\",\"name\":\"Oceania\",\"orientation\":\"v\",\"showlegend\":true,\"x\":[7.228,7.307],\"xaxis\":\"x5\",\"y\":[1.036,1.026],\"yaxis\":\"y5\",\"type\":\"scatter\"},{\"hovertemplate\":\"<b>OLS trendline</b><br>Healthy life expectancy = -0.126582 * Score + 1.95094<br>R<sup>2</sup>=1.000000<br><br>Continent=Oceania<br>Score=%{x}<br>Healthy life expectancy=%{y} <b>(trend)</b><extra></extra>\",\"legendgroup\":\"Oceania\",\"marker\":{\"color\":\"#FFA15A\",\"symbol\":\"circle\"},\"mode\":\"lines\",\"name\":\"Oceania\",\"showlegend\":false,\"x\":[7.228,7.307],\"xaxis\":\"x5\",\"y\":[1.0360000000000014,1.0260000000000014],\"yaxis\":\"y5\",\"type\":\"scatter\"},{\"hovertemplate\":\"Continent=South America<br>Score=%{x}<br>Healthy life expectancy=%{y}<extra></extra>\",\"legendgroup\":\"South America\",\"marker\":{\"color\":\"#19d3f3\",\"symbol\":\"circle\"},\"mode\":\"markers\",\"name\":\"South America\",\"orientation\":\"v\",\"showlegend\":true,\"x\":[6.444,6.125,6.028,5.743,6.293,6.192,6.086,6.3,5.697,4.707,5.779],\"xaxis\":\"x6\",\"y\":[0.92,0.841,0.868,0.777,0.891,0.713,0.881,0.802,0.854,0.805,0.706],\"yaxis\":\"y6\",\"type\":\"scatter\"},{\"hovertemplate\":\"<b>OLS trendline</b><br>Healthy life expectancy = 0.0420856 * Score + 0.573259<br>R<sup>2</sup>=0.081747<br><br>Continent=South America<br>Score=%{x}<br>Healthy life expectancy=%{y} <b>(trend)</b><extra></extra>\",\"legendgroup\":\"South America\",\"marker\":{\"color\":\"#19d3f3\",\"symbol\":\"circle\"},\"mode\":\"lines\",\"name\":\"South America\",\"showlegend\":false,\"x\":[4.707,5.697,5.743,5.779,6.028,6.086,6.125,6.192,6.293,6.3,6.444],\"xaxis\":\"x6\",\"y\":[0.7713563564442889,0.8130211341722534,0.8149570733394114,0.8164721561658828,0.8269514790489769,0.8293924458249586,0.831033785553636,0.8338535230362356,0.8381041720771694,0.83839877151565,0.8444591028215357],\"yaxis\":\"y6\",\"type\":\"scatter\"}],                        {\"template\":{\"data\":{\"histogram2dcontour\":[{\"type\":\"histogram2dcontour\",\"colorbar\":{\"outlinewidth\":0,\"ticks\":\"\"},\"colorscale\":[[0.0,\"#0d0887\"],[0.1111111111111111,\"#46039f\"],[0.2222222222222222,\"#7201a8\"],[0.3333333333333333,\"#9c179e\"],[0.4444444444444444,\"#bd3786\"],[0.5555555555555556,\"#d8576b\"],[0.6666666666666666,\"#ed7953\"],[0.7777777777777778,\"#fb9f3a\"],[0.8888888888888888,\"#fdca26\"],[1.0,\"#f0f921\"]]}],\"choropleth\":[{\"type\":\"choropleth\",\"colorbar\":{\"outlinewidth\":0,\"ticks\":\"\"}}],\"histogram2d\":[{\"type\":\"histogram2d\",\"colorbar\":{\"outlinewidth\":0,\"ticks\":\"\"},\"colorscale\":[[0.0,\"#0d0887\"],[0.1111111111111111,\"#46039f\"],[0.2222222222222222,\"#7201a8\"],[0.3333333333333333,\"#9c179e\"],[0.4444444444444444,\"#bd3786\"],[0.5555555555555556,\"#d8576b\"],[0.6666666666666666,\"#ed7953\"],[0.7777777777777778,\"#fb9f3a\"],[0.8888888888888888,\"#fdca26\"],[1.0,\"#f0f921\"]]}],\"heatmap\":[{\"type\":\"heatmap\",\"colorbar\":{\"outlinewidth\":0,\"ticks\":\"\"},\"colorscale\":[[0.0,\"#0d0887\"],[0.1111111111111111,\"#46039f\"],[0.2222222222222222,\"#7201a8\"],[0.3333333333333333,\"#9c179e\"],[0.4444444444444444,\"#bd3786\"],[0.5555555555555556,\"#d8576b\"],[0.6666666666666666,\"#ed7953\"],[0.7777777777777778,\"#fb9f3a\"],[0.8888888888888888,\"#fdca26\"],[1.0,\"#f0f921\"]]}],\"heatmapgl\":[{\"type\":\"heatmapgl\",\"colorbar\":{\"outlinewidth\":0,\"ticks\":\"\"},\"colorscale\":[[0.0,\"#0d0887\"],[0.1111111111111111,\"#46039f\"],[0.2222222222222222,\"#7201a8\"],[0.3333333333333333,\"#9c179e\"],[0.4444444444444444,\"#bd3786\"],[0.5555555555555556,\"#d8576b\"],[0.6666666666666666,\"#ed7953\"],[0.7777777777777778,\"#fb9f3a\"],[0.8888888888888888,\"#fdca26\"],[1.0,\"#f0f921\"]]}],\"contourcarpet\":[{\"type\":\"contourcarpet\",\"colorbar\":{\"outlinewidth\":0,\"ticks\":\"\"}}],\"contour\":[{\"type\":\"contour\",\"colorbar\":{\"outlinewidth\":0,\"ticks\":\"\"},\"colorscale\":[[0.0,\"#0d0887\"],[0.1111111111111111,\"#46039f\"],[0.2222222222222222,\"#7201a8\"],[0.3333333333333333,\"#9c179e\"],[0.4444444444444444,\"#bd3786\"],[0.5555555555555556,\"#d8576b\"],[0.6666666666666666,\"#ed7953\"],[0.7777777777777778,\"#fb9f3a\"],[0.8888888888888888,\"#fdca26\"],[1.0,\"#f0f921\"]]}],\"surface\":[{\"type\":\"surface\",\"colorbar\":{\"outlinewidth\":0,\"ticks\":\"\"},\"colorscale\":[[0.0,\"#0d0887\"],[0.1111111111111111,\"#46039f\"],[0.2222222222222222,\"#7201a8\"],[0.3333333333333333,\"#9c179e\"],[0.4444444444444444,\"#bd3786\"],[0.5555555555555556,\"#d8576b\"],[0.6666666666666666,\"#ed7953\"],[0.7777777777777778,\"#fb9f3a\"],[0.8888888888888888,\"#fdca26\"],[1.0,\"#f0f921\"]]}],\"mesh3d\":[{\"type\":\"mesh3d\",\"colorbar\":{\"outlinewidth\":0,\"ticks\":\"\"}}],\"scatter\":[{\"fillpattern\":{\"fillmode\":\"overlay\",\"size\":10,\"solidity\":0.2},\"type\":\"scatter\"}],\"parcoords\":[{\"type\":\"parcoords\",\"line\":{\"colorbar\":{\"outlinewidth\":0,\"ticks\":\"\"}}}],\"scatterpolargl\":[{\"type\":\"scatterpolargl\",\"marker\":{\"colorbar\":{\"outlinewidth\":0,\"ticks\":\"\"}}}],\"bar\":[{\"error_x\":{\"color\":\"#2a3f5f\"},\"error_y\":{\"color\":\"#2a3f5f\"},\"marker\":{\"line\":{\"color\":\"#E5ECF6\",\"width\":0.5},\"pattern\":{\"fillmode\":\"overlay\",\"size\":10,\"solidity\":0.2}},\"type\":\"bar\"}],\"scattergeo\":[{\"type\":\"scattergeo\",\"marker\":{\"colorbar\":{\"outlinewidth\":0,\"ticks\":\"\"}}}],\"scatterpolar\":[{\"type\":\"scatterpolar\",\"marker\":{\"colorbar\":{\"outlinewidth\":0,\"ticks\":\"\"}}}],\"histogram\":[{\"marker\":{\"pattern\":{\"fillmode\":\"overlay\",\"size\":10,\"solidity\":0.2}},\"type\":\"histogram\"}],\"scattergl\":[{\"type\":\"scattergl\",\"marker\":{\"colorbar\":{\"outlinewidth\":0,\"ticks\":\"\"}}}],\"scatter3d\":[{\"type\":\"scatter3d\",\"line\":{\"colorbar\":{\"outlinewidth\":0,\"ticks\":\"\"}},\"marker\":{\"colorbar\":{\"outlinewidth\":0,\"ticks\":\"\"}}}],\"scattermapbox\":[{\"type\":\"scattermapbox\",\"marker\":{\"colorbar\":{\"outlinewidth\":0,\"ticks\":\"\"}}}],\"scatterternary\":[{\"type\":\"scatterternary\",\"marker\":{\"colorbar\":{\"outlinewidth\":0,\"ticks\":\"\"}}}],\"scattercarpet\":[{\"type\":\"scattercarpet\",\"marker\":{\"colorbar\":{\"outlinewidth\":0,\"ticks\":\"\"}}}],\"carpet\":[{\"aaxis\":{\"endlinecolor\":\"#2a3f5f\",\"gridcolor\":\"white\",\"linecolor\":\"white\",\"minorgridcolor\":\"white\",\"startlinecolor\":\"#2a3f5f\"},\"baxis\":{\"endlinecolor\":\"#2a3f5f\",\"gridcolor\":\"white\",\"linecolor\":\"white\",\"minorgridcolor\":\"white\",\"startlinecolor\":\"#2a3f5f\"},\"type\":\"carpet\"}],\"table\":[{\"cells\":{\"fill\":{\"color\":\"#EBF0F8\"},\"line\":{\"color\":\"white\"}},\"header\":{\"fill\":{\"color\":\"#C8D4E3\"},\"line\":{\"color\":\"white\"}},\"type\":\"table\"}],\"barpolar\":[{\"marker\":{\"line\":{\"color\":\"#E5ECF6\",\"width\":0.5},\"pattern\":{\"fillmode\":\"overlay\",\"size\":10,\"solidity\":0.2}},\"type\":\"barpolar\"}],\"pie\":[{\"automargin\":true,\"type\":\"pie\"}]},\"layout\":{\"autotypenumbers\":\"strict\",\"colorway\":[\"#636efa\",\"#EF553B\",\"#00cc96\",\"#ab63fa\",\"#FFA15A\",\"#19d3f3\",\"#FF6692\",\"#B6E880\",\"#FF97FF\",\"#FECB52\"],\"font\":{\"color\":\"#2a3f5f\"},\"hovermode\":\"closest\",\"hoverlabel\":{\"align\":\"left\"},\"paper_bgcolor\":\"white\",\"plot_bgcolor\":\"#E5ECF6\",\"polar\":{\"bgcolor\":\"#E5ECF6\",\"angularaxis\":{\"gridcolor\":\"white\",\"linecolor\":\"white\",\"ticks\":\"\"},\"radialaxis\":{\"gridcolor\":\"white\",\"linecolor\":\"white\",\"ticks\":\"\"}},\"ternary\":{\"bgcolor\":\"#E5ECF6\",\"aaxis\":{\"gridcolor\":\"white\",\"linecolor\":\"white\",\"ticks\":\"\"},\"baxis\":{\"gridcolor\":\"white\",\"linecolor\":\"white\",\"ticks\":\"\"},\"caxis\":{\"gridcolor\":\"white\",\"linecolor\":\"white\",\"ticks\":\"\"}},\"coloraxis\":{\"colorbar\":{\"outlinewidth\":0,\"ticks\":\"\"}},\"colorscale\":{\"sequential\":[[0.0,\"#0d0887\"],[0.1111111111111111,\"#46039f\"],[0.2222222222222222,\"#7201a8\"],[0.3333333333333333,\"#9c179e\"],[0.4444444444444444,\"#bd3786\"],[0.5555555555555556,\"#d8576b\"],[0.6666666666666666,\"#ed7953\"],[0.7777777777777778,\"#fb9f3a\"],[0.8888888888888888,\"#fdca26\"],[1.0,\"#f0f921\"]],\"sequentialminus\":[[0.0,\"#0d0887\"],[0.1111111111111111,\"#46039f\"],[0.2222222222222222,\"#7201a8\"],[0.3333333333333333,\"#9c179e\"],[0.4444444444444444,\"#bd3786\"],[0.5555555555555556,\"#d8576b\"],[0.6666666666666666,\"#ed7953\"],[0.7777777777777778,\"#fb9f3a\"],[0.8888888888888888,\"#fdca26\"],[1.0,\"#f0f921\"]],\"diverging\":[[0,\"#8e0152\"],[0.1,\"#c51b7d\"],[0.2,\"#de77ae\"],[0.3,\"#f1b6da\"],[0.4,\"#fde0ef\"],[0.5,\"#f7f7f7\"],[0.6,\"#e6f5d0\"],[0.7,\"#b8e186\"],[0.8,\"#7fbc41\"],[0.9,\"#4d9221\"],[1,\"#276419\"]]},\"xaxis\":{\"gridcolor\":\"white\",\"linecolor\":\"white\",\"ticks\":\"\",\"title\":{\"standoff\":15},\"zerolinecolor\":\"white\",\"automargin\":true,\"zerolinewidth\":2},\"yaxis\":{\"gridcolor\":\"white\",\"linecolor\":\"white\",\"ticks\":\"\",\"title\":{\"standoff\":15},\"zerolinecolor\":\"white\",\"automargin\":true,\"zerolinewidth\":2},\"scene\":{\"xaxis\":{\"backgroundcolor\":\"#E5ECF6\",\"gridcolor\":\"white\",\"linecolor\":\"white\",\"showbackground\":true,\"ticks\":\"\",\"zerolinecolor\":\"white\",\"gridwidth\":2},\"yaxis\":{\"backgroundcolor\":\"#E5ECF6\",\"gridcolor\":\"white\",\"linecolor\":\"white\",\"showbackground\":true,\"ticks\":\"\",\"zerolinecolor\":\"white\",\"gridwidth\":2},\"zaxis\":{\"backgroundcolor\":\"#E5ECF6\",\"gridcolor\":\"white\",\"linecolor\":\"white\",\"showbackground\":true,\"ticks\":\"\",\"zerolinecolor\":\"white\",\"gridwidth\":2}},\"shapedefaults\":{\"line\":{\"color\":\"#2a3f5f\"}},\"annotationdefaults\":{\"arrowcolor\":\"#2a3f5f\",\"arrowhead\":0,\"arrowwidth\":1},\"geo\":{\"bgcolor\":\"white\",\"landcolor\":\"#E5ECF6\",\"subunitcolor\":\"white\",\"showland\":true,\"showlakes\":true,\"lakecolor\":\"white\"},\"title\":{\"x\":0.05},\"mapbox\":{\"style\":\"light\"}}},\"xaxis\":{\"anchor\":\"y\",\"domain\":[0.0,0.15],\"title\":{\"text\":\"Happiness Score\"}},\"yaxis\":{\"anchor\":\"x\",\"domain\":[0.0,1.0],\"title\":{\"text\":\"Healthy life expectancy\"}},\"xaxis2\":{\"anchor\":\"y2\",\"domain\":[0.16999999999999998,0.31999999999999995],\"matches\":\"x\",\"title\":{\"text\":\"Happiness Score\"}},\"yaxis2\":{\"anchor\":\"x2\",\"domain\":[0.0,1.0],\"matches\":\"y\",\"showticklabels\":false},\"xaxis3\":{\"anchor\":\"y3\",\"domain\":[0.33999999999999997,0.49],\"matches\":\"x\",\"title\":{\"text\":\"Happiness Score\"}},\"yaxis3\":{\"anchor\":\"x3\",\"domain\":[0.0,1.0],\"matches\":\"y\",\"showticklabels\":false},\"xaxis4\":{\"anchor\":\"y4\",\"domain\":[0.51,0.66],\"matches\":\"x\",\"title\":{\"text\":\"Happiness Score\"}},\"yaxis4\":{\"anchor\":\"x4\",\"domain\":[0.0,1.0],\"matches\":\"y\",\"showticklabels\":false},\"xaxis5\":{\"anchor\":\"y5\",\"domain\":[0.6799999999999999,0.83],\"matches\":\"x\",\"title\":{\"text\":\"Happiness Score\"}},\"yaxis5\":{\"anchor\":\"x5\",\"domain\":[0.0,1.0],\"matches\":\"y\",\"showticklabels\":false},\"xaxis6\":{\"anchor\":\"y6\",\"domain\":[0.85,1.0],\"matches\":\"x\",\"title\":{\"text\":\"Happiness Score\"}},\"yaxis6\":{\"anchor\":\"x6\",\"domain\":[0.0,1.0],\"matches\":\"y\",\"showticklabels\":false},\"annotations\":[{\"font\":{},\"showarrow\":false,\"text\":\"Africa\",\"x\":0.075,\"xanchor\":\"center\",\"xref\":\"paper\",\"y\":1.0,\"yanchor\":\"bottom\",\"yref\":\"paper\"},{\"font\":{},\"showarrow\":false,\"text\":\"Asia\",\"x\":0.24499999999999997,\"xanchor\":\"center\",\"xref\":\"paper\",\"y\":1.0,\"yanchor\":\"bottom\",\"yref\":\"paper\"},{\"font\":{},\"showarrow\":false,\"text\":\"Europe\",\"x\":0.415,\"xanchor\":\"center\",\"xref\":\"paper\",\"y\":1.0,\"yanchor\":\"bottom\",\"yref\":\"paper\"},{\"font\":{},\"showarrow\":false,\"text\":\"North America\",\"x\":0.585,\"xanchor\":\"center\",\"xref\":\"paper\",\"y\":1.0,\"yanchor\":\"bottom\",\"yref\":\"paper\"},{\"font\":{},\"showarrow\":false,\"text\":\"Oceania\",\"x\":0.7549999999999999,\"xanchor\":\"center\",\"xref\":\"paper\",\"y\":1.0,\"yanchor\":\"bottom\",\"yref\":\"paper\"},{\"font\":{},\"showarrow\":false,\"text\":\"South America\",\"x\":0.925,\"xanchor\":\"center\",\"xref\":\"paper\",\"y\":1.0,\"yanchor\":\"bottom\",\"yref\":\"paper\"}],\"legend\":{\"title\":{\"text\":\"Continent\"},\"tracegroupgap\":0},\"margin\":{\"t\":60},\"title\":{\"text\":\"Healthy life expectancy vs. Happiness Score\"}},                        {\"responsive\": true}                    ).then(function(){\n",
       "                            \n",
       "var gd = document.getElementById('6a0f6a64-b2c9-460d-aa56-f2fc2b764cce');\n",
       "var x = new MutationObserver(function (mutations, observer) {{\n",
       "        var display = window.getComputedStyle(gd).display;\n",
       "        if (!display || display === 'none') {{\n",
       "            console.log([gd, 'removed!']);\n",
       "            Plotly.purge(gd);\n",
       "            observer.disconnect();\n",
       "        }}\n",
       "}});\n",
       "\n",
       "// Listen for the removal of the full notebook cells\n",
       "var notebookContainer = gd.closest('#notebook-container');\n",
       "if (notebookContainer) {{\n",
       "    x.observe(notebookContainer, {childList: true});\n",
       "}}\n",
       "\n",
       "// Listen for the clearing of the current output cell\n",
       "var outputEl = gd.closest('.output');\n",
       "if (outputEl) {{\n",
       "    x.observe(outputEl, {childList: true});\n",
       "}}\n",
       "\n",
       "                        })                };                });            </script>        </div>"
      ]
     },
     "metadata": {},
     "output_type": "display_data"
    },
    {
     "data": {
      "text/html": [
       "<div>                            <div id=\"9a9e274c-0ccb-4a60-9803-8c14b891b3bf\" class=\"plotly-graph-div\" style=\"height:525px; width:100%;\"></div>            <script type=\"text/javascript\">                require([\"plotly\"], function(Plotly) {                    window.PLOTLYENV=window.PLOTLYENV || {};                                    if (document.getElementById(\"9a9e274c-0ccb-4a60-9803-8c14b891b3bf\")) {                    Plotly.newPlot(                        \"9a9e274c-0ccb-4a60-9803-8c14b891b3bf\",                        [{\"hovertemplate\":\"Continent=Africa<br>Score=%{x}<br>Freedom to make life choices=%{y}<extra></extra>\",\"legendgroup\":\"Africa\",\"marker\":{\"color\":\"#636efa\",\"symbol\":\"circle\"},\"mode\":\"markers\",\"name\":\"Africa\",\"orientation\":\"v\",\"showlegend\":true,\"x\":[2.853,4.39,4.418,5.044,4.461,4.466,4.49,5.525,4.509,4.516,4.996,4.534,4.944,4.587,4.628,4.639,4.668,4.681,4.883,5.888,4.812,4.799,3.083,4.35,4.374,3.973,5.208,3.231,3.334,5.211,3.41,3.488,3.663,3.775,3.802,3.933,3.975,5.265,4.085,4.722,4.166,4.189,4.286,4.212,4.107],\"xaxis\":\"x\",\"y\":[0.01,0.327,0.269,0.381,0.167,0.494,0.066,0.416,0.431,0.382,0.381,0.332,0.352,0.255,0.318,0.401,0.559,0.292,0.349,0.498,0.372,0.295,0.225,0.174,0.309,0.142,0.418,0.417,0.555,0.086,0.443,0.455,0.361,0.22,0.359,0.148,0.37,0.426,0.293,0.389,0.241,0.356,0.344,0.313,0.431],\"yaxis\":\"y\",\"type\":\"scatter\"},{\"hovertemplate\":\"<b>OLS trendline</b><br>Freedom to make life choices = 0.0385709 * Score + 0.160889<br>R<sup>2</sup>=0.041186<br><br>Continent=Africa<br>Score=%{x}<br>Freedom to make life choices=%{y} <b>(trend)</b><extra></extra>\",\"legendgroup\":\"Africa\",\"marker\":{\"color\":\"#636efa\",\"symbol\":\"circle\"},\"mode\":\"lines\",\"name\":\"Africa\",\"showlegend\":false,\"x\":[2.853,3.083,3.231,3.334,3.41,3.488,3.663,3.775,3.802,3.933,3.973,3.975,4.085,4.107,4.166,4.189,4.212,4.286,4.35,4.374,4.39,4.418,4.461,4.466,4.49,4.509,4.516,4.534,4.587,4.628,4.639,4.668,4.681,4.722,4.799,4.812,4.883,4.944,4.996,5.044,5.208,5.211,5.265,5.525,5.888],\"xaxis\":\"x\",\"y\":[0.27093168951795604,0.2798030013835212,0.28551149771440665,0.2894843025933337,0.29241569260108563,0.29542422445114686,0.30217413565320733,0.306494078822526,0.30753549369370103,0.3125882843649578,0.314131121211143,0.3142082630534523,0.31845106438046167,0.3192996246458636,0.32157530899398684,0.3224624401805434,0.32334957136709985,0.3262038195325425,0.32867235848643894,0.3295980605941501,0.3302151953326242,0.33129518112495393,0.33295373073460305,0.3331465853403762,0.33407228744808737,0.33480513495002534,0.33507513139810774,0.3357694079788911,0.33781366680008657,0.33939507456742646,0.33981935470012736,0.34093791141361174,0.34143933338862187,0.3430207411559618,0.3459907020848684,0.3464921240598786,0.3492306594618574,0.3515834856522899,0.35358917355233077,0.355440577767753,0.3617662088371125,0.3618819216005764,0.3639647513429265,0.37399319084313065,0.38799443522226174],\"yaxis\":\"y\",\"type\":\"scatter\"},{\"hovertemplate\":\"Continent=Asia<br>Score=%{x}<br>Freedom to make life choices=%{y}<extra></extra>\",\"legendgroup\":\"Asia\",\"marker\":{\"color\":\"#EF553B\",\"symbol\":\"circle\"},\"mode\":\"markers\",\"name\":\"Asia\",\"orientation\":\"v\",\"showlegend\":true,\"x\":[5.175,5.339,5.373,4.796,4.906,5.247,4.913,5.192,5.082,5.631,5.43,5.261,5.191,5.467,5.653,5.285,4.548,4.7,3.203,3.38,3.462,7.139,4.015,6.825,6.446,4.36,6.375,6.374,4.366,4.437,6.262,6.199,6.174,4.519,5.208,4.559,6.021,6.008,5.895,4.696,5.886,4.456,5.197],\"xaxis\":\"x2\",\"y\":[0.543,0.508,0.195,0.547,0.383,0.394,0.439,0.491,0.457,0.558,0.44,0.508,0.521,0.389,0.313,0.317,0.305,0.609,0.0,0.143,0.013,0.371,0.498,0.598,0.351,0.525,0.439,0.555,0.47,0.241,0.556,0.536,0.631,0.346,0.351,0.283,0.493,0.557,0.159,0.225,0.445,0.527,0.216],\"yaxis\":\"y2\",\"type\":\"scatter\"},{\"hovertemplate\":\"<b>OLS trendline</b><br>Freedom to make life choices = 0.0847511 * Score + -0.0370561<br>R<sup>2</sup>=0.233450<br><br>Continent=Asia<br>Score=%{x}<br>Freedom to make life choices=%{y} <b>(trend)</b><extra></extra>\",\"legendgroup\":\"Asia\",\"marker\":{\"color\":\"#EF553B\",\"symbol\":\"circle\"},\"mode\":\"lines\",\"name\":\"Asia\",\"showlegend\":false,\"x\":[3.203,3.38,3.462,4.015,4.36,4.366,4.437,4.456,4.519,4.548,4.559,4.696,4.7,4.796,4.906,4.913,5.082,5.175,5.191,5.192,5.197,5.208,5.247,5.261,5.285,5.339,5.373,5.43,5.467,5.631,5.653,5.886,5.895,6.008,6.021,6.174,6.199,6.262,6.374,6.375,6.446,6.825,7.139],\"xaxis\":\"x2\",\"y\":[0.23440157200141004,0.24940251118248352,0.25635209882569276,0.3032194398829449,0.3324585586257154,0.33296706503863305,0.3389843909248264,0.3405946612323993,0.3459339785680356,0.3483917595638047,0.3493240213208206,0.3609349177491091,0.3612739220243876,0.36941002463107153,0.37873264220123015,0.3793258996829676,0.393648830313484,0.4015306797137091,0.4028866968148231,0.40297144788364275,0.40339520322774086,0.40432746498475675,0.40763275666872206,0.4088192716321968,0.41085329728386777,0.4154298550001275,0.41831139133999473,0.42314220226271326,0.42627799180903936,0.4401771670954578,0.4420416906094895,0.46178868964446196,0.46255144926383857,0.4721283200404561,0.4732300839351112,0.4861969974645138,0.4883157741850043,0.49365509152064063,0.5031472112284385,0.5032319622972583,0.5092492881834516,0.5413699432660892,0.5679817788754511],\"yaxis\":\"y2\",\"type\":\"scatter\"},{\"hovertemplate\":\"Continent=Europe<br>Score=%{x}<br>Freedom to make life choices=%{y}<extra></extra>\",\"legendgroup\":\"Europe\",\"marker\":{\"color\":\"#00cc96\",\"symbol\":\"circle\"},\"mode\":\"markers\",\"name\":\"Europe\",\"orientation\":\"v\",\"showlegend\":true,\"x\":[4.719,5.011,4.332,7.769,5.287,6.149,6.182,5.274,6.223,6.354,6.592,6.726,6.852,6.923,6.118,6.985,7.054,7.09,7.246,7.343,7.48,7.488,7.494,7.554,7.6,7.021,6.1,6.198,6.07,5.323,5.432,5.523,5.529,5.603,5.648,5.693,5.718,5.758,5.809,5.386,5.893,6.046,5.94],\"xaxis\":\"x3\",\"y\":[0.383,0.311,0.178,0.596,0.067,0.291,0.483,0.345,0.231,0.362,0.436,0.564,0.457,0.473,0.564,0.495,0.45,0.526,0.532,0.574,0.572,0.557,0.591,0.603,0.592,0.516,0.489,0.334,0.462,0.235,0.296,0.197,0.245,0.282,0.334,0.508,0.417,0.199,0.41,0.212,0.495,0.406,0.264],\"yaxis\":\"y3\",\"type\":\"scatter\"},{\"hovertemplate\":\"<b>OLS trendline</b><br>Freedom to make life choices = 0.127448 * Score + -0.388147<br>R<sup>2</sup>=0.610411<br><br>Continent=Europe<br>Score=%{x}<br>Freedom to make life choices=%{y} <b>(trend)</b><extra></extra>\",\"legendgroup\":\"Europe\",\"marker\":{\"color\":\"#00cc96\",\"symbol\":\"circle\"},\"mode\":\"lines\",\"name\":\"Europe\",\"showlegend\":false,\"x\":[4.332,4.719,5.011,5.274,5.287,5.323,5.386,5.432,5.523,5.529,5.603,5.648,5.693,5.718,5.758,5.809,5.893,5.94,6.046,6.07,6.1,6.118,6.149,6.182,6.198,6.223,6.354,6.592,6.726,6.852,6.923,6.985,7.021,7.054,7.09,7.246,7.343,7.48,7.488,7.494,7.554,7.6,7.769],\"xaxis\":\"x3\",\"y\":[0.16395893525676453,0.21328140888751834,0.25049629855206645,0.28401518890061483,0.2856720161802009,0.2902601532621315,0.29828939315551006,0.3041520127601991,0.3157498037173013,0.3165144932309565,0.3259456638993694,0.3316808352517826,0.3374160066041958,0.34060221291109205,0.34570014300212604,0.3522000038681944,0.3629056570593657,0.3688957249163307,0.3824052396575708,0.3854639977121912,0.38928744528046666,0.391581513821432,0.39553240964198333,0.3997382019670864,0.4017773740035,0.40496358031039614,0.42165930135853247,0.4519919854001846,0.46907005120514855,0.48512853099190567,0.49417735690349096,0.5020791485445936,0.5066672856265242,0.5108730779516273,0.5154612150335578,0.5353431423885904,0.5477056228593478,0.5651660334211392,0.566185619439346,0.566950308953001,0.5745972040895521,0.5804598236942411,0.6019985783288597],\"yaxis\":\"y3\",\"type\":\"scatter\"},{\"hovertemplate\":\"Continent=North America<br>Score=%{x}<br>Freedom to make life choices=%{y}<extra></extra>\",\"legendgroup\":\"North America\",\"marker\":{\"color\":\"#ab63fa\",\"symbol\":\"circle\"},\"mode\":\"markers\",\"name\":\"North America\",\"orientation\":\"v\",\"showlegend\":true,\"x\":[6.105,5.425,3.597,7.278,7.167,5.89,6.321,6.595,6.892,5.86,6.436,6.253],\"xaxis\":\"x4\",\"y\":[0.435,0.497,0.026,0.584,0.558,0.49,0.516,0.433,0.454,0.507,0.535,0.43],\"yaxis\":\"y4\",\"type\":\"scatter\"},{\"hovertemplate\":\"<b>OLS trendline</b><br>Freedom to make life choices = 0.126466 * Score + -0.322551<br>R<sup>2</sup>=0.725766<br><br>Continent=North America<br>Score=%{x}<br>Freedom to make life choices=%{y} <b>(trend)</b><extra></extra>\",\"legendgroup\":\"North America\",\"marker\":{\"color\":\"#ab63fa\",\"symbol\":\"circle\"},\"mode\":\"lines\",\"name\":\"North America\",\"showlegend\":false,\"x\":[3.597,5.425,5.86,5.89,6.105,6.253,6.321,6.436,6.595,6.892,7.167,7.278],\"xaxis\":\"x4\",\"y\":[0.13234795992267356,0.3635283595682855,0.4185412008406277,0.42233518989389257,0.4495254447756249,0.4682424574383987,0.4768421659591326,0.49138579066331495,0.5114939326456194,0.5490544242729425,0.5838326572612047,0.5978704167582851],\"yaxis\":\"y4\",\"type\":\"scatter\"},{\"hovertemplate\":\"Continent=Oceania<br>Score=%{x}<br>Freedom to make life choices=%{y}<extra></extra>\",\"legendgroup\":\"Oceania\",\"marker\":{\"color\":\"#FFA15A\",\"symbol\":\"circle\"},\"mode\":\"markers\",\"name\":\"Oceania\",\"orientation\":\"v\",\"showlegend\":true,\"x\":[7.228,7.307],\"xaxis\":\"x5\",\"y\":[0.557,0.585],\"yaxis\":\"y5\",\"type\":\"scatter\"},{\"hovertemplate\":\"<b>OLS trendline</b><br>Freedom to make life choices = 0.35443 * Score + -2.00482<br>R<sup>2</sup>=1.000000<br><br>Continent=Oceania<br>Score=%{x}<br>Freedom to make life choices=%{y} <b>(trend)</b><extra></extra>\",\"legendgroup\":\"Oceania\",\"marker\":{\"color\":\"#FFA15A\",\"symbol\":\"circle\"},\"mode\":\"lines\",\"name\":\"Oceania\",\"showlegend\":false,\"x\":[7.228,7.307],\"xaxis\":\"x5\",\"y\":[0.5569999999999999,0.5850000000000004],\"yaxis\":\"y5\",\"type\":\"scatter\"},{\"hovertemplate\":\"Continent=South America<br>Score=%{x}<br>Freedom to make life choices=%{y}<extra></extra>\",\"legendgroup\":\"South America\",\"marker\":{\"color\":\"#19d3f3\",\"symbol\":\"circle\"},\"mode\":\"markers\",\"name\":\"South America\",\"orientation\":\"v\",\"showlegend\":true,\"x\":[6.444,6.125,6.028,5.743,6.293,6.192,6.086,6.3,5.697,4.707,5.779],\"xaxis\":\"x6\",\"y\":[0.357,0.47,0.498,0.514,0.523,0.489,0.471,0.39,0.455,0.154,0.511],\"yaxis\":\"y6\",\"type\":\"scatter\"},{\"hovertemplate\":\"<b>OLS trendline</b><br>Freedom to make life choices = 0.140432 * Score + -0.395581<br>R<sup>2</sup>=0.385969<br><br>Continent=South America<br>Score=%{x}<br>Freedom to make life choices=%{y} <b>(trend)</b><extra></extra>\",\"legendgroup\":\"South America\",\"marker\":{\"color\":\"#19d3f3\",\"symbol\":\"circle\"},\"mode\":\"lines\",\"name\":\"South America\",\"showlegend\":false,\"x\":[4.707,5.697,5.743,5.779,6.028,6.086,6.125,6.192,6.293,6.3,6.444],\"xaxis\":\"x6\",\"y\":[0.26543097303361485,0.40445841693931617,0.41091827796927805,0.41597382138403083,0.4509413300027375,0.4590863721709504,0.46456321087026586,0.4739721388921668,0.4881557468057788,0.48913876913642507,0.5093609427954362],\"yaxis\":\"y6\",\"type\":\"scatter\"}],                        {\"template\":{\"data\":{\"histogram2dcontour\":[{\"type\":\"histogram2dcontour\",\"colorbar\":{\"outlinewidth\":0,\"ticks\":\"\"},\"colorscale\":[[0.0,\"#0d0887\"],[0.1111111111111111,\"#46039f\"],[0.2222222222222222,\"#7201a8\"],[0.3333333333333333,\"#9c179e\"],[0.4444444444444444,\"#bd3786\"],[0.5555555555555556,\"#d8576b\"],[0.6666666666666666,\"#ed7953\"],[0.7777777777777778,\"#fb9f3a\"],[0.8888888888888888,\"#fdca26\"],[1.0,\"#f0f921\"]]}],\"choropleth\":[{\"type\":\"choropleth\",\"colorbar\":{\"outlinewidth\":0,\"ticks\":\"\"}}],\"histogram2d\":[{\"type\":\"histogram2d\",\"colorbar\":{\"outlinewidth\":0,\"ticks\":\"\"},\"colorscale\":[[0.0,\"#0d0887\"],[0.1111111111111111,\"#46039f\"],[0.2222222222222222,\"#7201a8\"],[0.3333333333333333,\"#9c179e\"],[0.4444444444444444,\"#bd3786\"],[0.5555555555555556,\"#d8576b\"],[0.6666666666666666,\"#ed7953\"],[0.7777777777777778,\"#fb9f3a\"],[0.8888888888888888,\"#fdca26\"],[1.0,\"#f0f921\"]]}],\"heatmap\":[{\"type\":\"heatmap\",\"colorbar\":{\"outlinewidth\":0,\"ticks\":\"\"},\"colorscale\":[[0.0,\"#0d0887\"],[0.1111111111111111,\"#46039f\"],[0.2222222222222222,\"#7201a8\"],[0.3333333333333333,\"#9c179e\"],[0.4444444444444444,\"#bd3786\"],[0.5555555555555556,\"#d8576b\"],[0.6666666666666666,\"#ed7953\"],[0.7777777777777778,\"#fb9f3a\"],[0.8888888888888888,\"#fdca26\"],[1.0,\"#f0f921\"]]}],\"heatmapgl\":[{\"type\":\"heatmapgl\",\"colorbar\":{\"outlinewidth\":0,\"ticks\":\"\"},\"colorscale\":[[0.0,\"#0d0887\"],[0.1111111111111111,\"#46039f\"],[0.2222222222222222,\"#7201a8\"],[0.3333333333333333,\"#9c179e\"],[0.4444444444444444,\"#bd3786\"],[0.5555555555555556,\"#d8576b\"],[0.6666666666666666,\"#ed7953\"],[0.7777777777777778,\"#fb9f3a\"],[0.8888888888888888,\"#fdca26\"],[1.0,\"#f0f921\"]]}],\"contourcarpet\":[{\"type\":\"contourcarpet\",\"colorbar\":{\"outlinewidth\":0,\"ticks\":\"\"}}],\"contour\":[{\"type\":\"contour\",\"colorbar\":{\"outlinewidth\":0,\"ticks\":\"\"},\"colorscale\":[[0.0,\"#0d0887\"],[0.1111111111111111,\"#46039f\"],[0.2222222222222222,\"#7201a8\"],[0.3333333333333333,\"#9c179e\"],[0.4444444444444444,\"#bd3786\"],[0.5555555555555556,\"#d8576b\"],[0.6666666666666666,\"#ed7953\"],[0.7777777777777778,\"#fb9f3a\"],[0.8888888888888888,\"#fdca26\"],[1.0,\"#f0f921\"]]}],\"surface\":[{\"type\":\"surface\",\"colorbar\":{\"outlinewidth\":0,\"ticks\":\"\"},\"colorscale\":[[0.0,\"#0d0887\"],[0.1111111111111111,\"#46039f\"],[0.2222222222222222,\"#7201a8\"],[0.3333333333333333,\"#9c179e\"],[0.4444444444444444,\"#bd3786\"],[0.5555555555555556,\"#d8576b\"],[0.6666666666666666,\"#ed7953\"],[0.7777777777777778,\"#fb9f3a\"],[0.8888888888888888,\"#fdca26\"],[1.0,\"#f0f921\"]]}],\"mesh3d\":[{\"type\":\"mesh3d\",\"colorbar\":{\"outlinewidth\":0,\"ticks\":\"\"}}],\"scatter\":[{\"fillpattern\":{\"fillmode\":\"overlay\",\"size\":10,\"solidity\":0.2},\"type\":\"scatter\"}],\"parcoords\":[{\"type\":\"parcoords\",\"line\":{\"colorbar\":{\"outlinewidth\":0,\"ticks\":\"\"}}}],\"scatterpolargl\":[{\"type\":\"scatterpolargl\",\"marker\":{\"colorbar\":{\"outlinewidth\":0,\"ticks\":\"\"}}}],\"bar\":[{\"error_x\":{\"color\":\"#2a3f5f\"},\"error_y\":{\"color\":\"#2a3f5f\"},\"marker\":{\"line\":{\"color\":\"#E5ECF6\",\"width\":0.5},\"pattern\":{\"fillmode\":\"overlay\",\"size\":10,\"solidity\":0.2}},\"type\":\"bar\"}],\"scattergeo\":[{\"type\":\"scattergeo\",\"marker\":{\"colorbar\":{\"outlinewidth\":0,\"ticks\":\"\"}}}],\"scatterpolar\":[{\"type\":\"scatterpolar\",\"marker\":{\"colorbar\":{\"outlinewidth\":0,\"ticks\":\"\"}}}],\"histogram\":[{\"marker\":{\"pattern\":{\"fillmode\":\"overlay\",\"size\":10,\"solidity\":0.2}},\"type\":\"histogram\"}],\"scattergl\":[{\"type\":\"scattergl\",\"marker\":{\"colorbar\":{\"outlinewidth\":0,\"ticks\":\"\"}}}],\"scatter3d\":[{\"type\":\"scatter3d\",\"line\":{\"colorbar\":{\"outlinewidth\":0,\"ticks\":\"\"}},\"marker\":{\"colorbar\":{\"outlinewidth\":0,\"ticks\":\"\"}}}],\"scattermapbox\":[{\"type\":\"scattermapbox\",\"marker\":{\"colorbar\":{\"outlinewidth\":0,\"ticks\":\"\"}}}],\"scatterternary\":[{\"type\":\"scatterternary\",\"marker\":{\"colorbar\":{\"outlinewidth\":0,\"ticks\":\"\"}}}],\"scattercarpet\":[{\"type\":\"scattercarpet\",\"marker\":{\"colorbar\":{\"outlinewidth\":0,\"ticks\":\"\"}}}],\"carpet\":[{\"aaxis\":{\"endlinecolor\":\"#2a3f5f\",\"gridcolor\":\"white\",\"linecolor\":\"white\",\"minorgridcolor\":\"white\",\"startlinecolor\":\"#2a3f5f\"},\"baxis\":{\"endlinecolor\":\"#2a3f5f\",\"gridcolor\":\"white\",\"linecolor\":\"white\",\"minorgridcolor\":\"white\",\"startlinecolor\":\"#2a3f5f\"},\"type\":\"carpet\"}],\"table\":[{\"cells\":{\"fill\":{\"color\":\"#EBF0F8\"},\"line\":{\"color\":\"white\"}},\"header\":{\"fill\":{\"color\":\"#C8D4E3\"},\"line\":{\"color\":\"white\"}},\"type\":\"table\"}],\"barpolar\":[{\"marker\":{\"line\":{\"color\":\"#E5ECF6\",\"width\":0.5},\"pattern\":{\"fillmode\":\"overlay\",\"size\":10,\"solidity\":0.2}},\"type\":\"barpolar\"}],\"pie\":[{\"automargin\":true,\"type\":\"pie\"}]},\"layout\":{\"autotypenumbers\":\"strict\",\"colorway\":[\"#636efa\",\"#EF553B\",\"#00cc96\",\"#ab63fa\",\"#FFA15A\",\"#19d3f3\",\"#FF6692\",\"#B6E880\",\"#FF97FF\",\"#FECB52\"],\"font\":{\"color\":\"#2a3f5f\"},\"hovermode\":\"closest\",\"hoverlabel\":{\"align\":\"left\"},\"paper_bgcolor\":\"white\",\"plot_bgcolor\":\"#E5ECF6\",\"polar\":{\"bgcolor\":\"#E5ECF6\",\"angularaxis\":{\"gridcolor\":\"white\",\"linecolor\":\"white\",\"ticks\":\"\"},\"radialaxis\":{\"gridcolor\":\"white\",\"linecolor\":\"white\",\"ticks\":\"\"}},\"ternary\":{\"bgcolor\":\"#E5ECF6\",\"aaxis\":{\"gridcolor\":\"white\",\"linecolor\":\"white\",\"ticks\":\"\"},\"baxis\":{\"gridcolor\":\"white\",\"linecolor\":\"white\",\"ticks\":\"\"},\"caxis\":{\"gridcolor\":\"white\",\"linecolor\":\"white\",\"ticks\":\"\"}},\"coloraxis\":{\"colorbar\":{\"outlinewidth\":0,\"ticks\":\"\"}},\"colorscale\":{\"sequential\":[[0.0,\"#0d0887\"],[0.1111111111111111,\"#46039f\"],[0.2222222222222222,\"#7201a8\"],[0.3333333333333333,\"#9c179e\"],[0.4444444444444444,\"#bd3786\"],[0.5555555555555556,\"#d8576b\"],[0.6666666666666666,\"#ed7953\"],[0.7777777777777778,\"#fb9f3a\"],[0.8888888888888888,\"#fdca26\"],[1.0,\"#f0f921\"]],\"sequentialminus\":[[0.0,\"#0d0887\"],[0.1111111111111111,\"#46039f\"],[0.2222222222222222,\"#7201a8\"],[0.3333333333333333,\"#9c179e\"],[0.4444444444444444,\"#bd3786\"],[0.5555555555555556,\"#d8576b\"],[0.6666666666666666,\"#ed7953\"],[0.7777777777777778,\"#fb9f3a\"],[0.8888888888888888,\"#fdca26\"],[1.0,\"#f0f921\"]],\"diverging\":[[0,\"#8e0152\"],[0.1,\"#c51b7d\"],[0.2,\"#de77ae\"],[0.3,\"#f1b6da\"],[0.4,\"#fde0ef\"],[0.5,\"#f7f7f7\"],[0.6,\"#e6f5d0\"],[0.7,\"#b8e186\"],[0.8,\"#7fbc41\"],[0.9,\"#4d9221\"],[1,\"#276419\"]]},\"xaxis\":{\"gridcolor\":\"white\",\"linecolor\":\"white\",\"ticks\":\"\",\"title\":{\"standoff\":15},\"zerolinecolor\":\"white\",\"automargin\":true,\"zerolinewidth\":2},\"yaxis\":{\"gridcolor\":\"white\",\"linecolor\":\"white\",\"ticks\":\"\",\"title\":{\"standoff\":15},\"zerolinecolor\":\"white\",\"automargin\":true,\"zerolinewidth\":2},\"scene\":{\"xaxis\":{\"backgroundcolor\":\"#E5ECF6\",\"gridcolor\":\"white\",\"linecolor\":\"white\",\"showbackground\":true,\"ticks\":\"\",\"zerolinecolor\":\"white\",\"gridwidth\":2},\"yaxis\":{\"backgroundcolor\":\"#E5ECF6\",\"gridcolor\":\"white\",\"linecolor\":\"white\",\"showbackground\":true,\"ticks\":\"\",\"zerolinecolor\":\"white\",\"gridwidth\":2},\"zaxis\":{\"backgroundcolor\":\"#E5ECF6\",\"gridcolor\":\"white\",\"linecolor\":\"white\",\"showbackground\":true,\"ticks\":\"\",\"zerolinecolor\":\"white\",\"gridwidth\":2}},\"shapedefaults\":{\"line\":{\"color\":\"#2a3f5f\"}},\"annotationdefaults\":{\"arrowcolor\":\"#2a3f5f\",\"arrowhead\":0,\"arrowwidth\":1},\"geo\":{\"bgcolor\":\"white\",\"landcolor\":\"#E5ECF6\",\"subunitcolor\":\"white\",\"showland\":true,\"showlakes\":true,\"lakecolor\":\"white\"},\"title\":{\"x\":0.05},\"mapbox\":{\"style\":\"light\"}}},\"xaxis\":{\"anchor\":\"y\",\"domain\":[0.0,0.15],\"title\":{\"text\":\"Happiness Score\"}},\"yaxis\":{\"anchor\":\"x\",\"domain\":[0.0,1.0],\"title\":{\"text\":\"Freedom to make life choices\"}},\"xaxis2\":{\"anchor\":\"y2\",\"domain\":[0.16999999999999998,0.31999999999999995],\"matches\":\"x\",\"title\":{\"text\":\"Happiness Score\"}},\"yaxis2\":{\"anchor\":\"x2\",\"domain\":[0.0,1.0],\"matches\":\"y\",\"showticklabels\":false},\"xaxis3\":{\"anchor\":\"y3\",\"domain\":[0.33999999999999997,0.49],\"matches\":\"x\",\"title\":{\"text\":\"Happiness Score\"}},\"yaxis3\":{\"anchor\":\"x3\",\"domain\":[0.0,1.0],\"matches\":\"y\",\"showticklabels\":false},\"xaxis4\":{\"anchor\":\"y4\",\"domain\":[0.51,0.66],\"matches\":\"x\",\"title\":{\"text\":\"Happiness Score\"}},\"yaxis4\":{\"anchor\":\"x4\",\"domain\":[0.0,1.0],\"matches\":\"y\",\"showticklabels\":false},\"xaxis5\":{\"anchor\":\"y5\",\"domain\":[0.6799999999999999,0.83],\"matches\":\"x\",\"title\":{\"text\":\"Happiness Score\"}},\"yaxis5\":{\"anchor\":\"x5\",\"domain\":[0.0,1.0],\"matches\":\"y\",\"showticklabels\":false},\"xaxis6\":{\"anchor\":\"y6\",\"domain\":[0.85,1.0],\"matches\":\"x\",\"title\":{\"text\":\"Happiness Score\"}},\"yaxis6\":{\"anchor\":\"x6\",\"domain\":[0.0,1.0],\"matches\":\"y\",\"showticklabels\":false},\"annotations\":[{\"font\":{},\"showarrow\":false,\"text\":\"Africa\",\"x\":0.075,\"xanchor\":\"center\",\"xref\":\"paper\",\"y\":1.0,\"yanchor\":\"bottom\",\"yref\":\"paper\"},{\"font\":{},\"showarrow\":false,\"text\":\"Asia\",\"x\":0.24499999999999997,\"xanchor\":\"center\",\"xref\":\"paper\",\"y\":1.0,\"yanchor\":\"bottom\",\"yref\":\"paper\"},{\"font\":{},\"showarrow\":false,\"text\":\"Europe\",\"x\":0.415,\"xanchor\":\"center\",\"xref\":\"paper\",\"y\":1.0,\"yanchor\":\"bottom\",\"yref\":\"paper\"},{\"font\":{},\"showarrow\":false,\"text\":\"North America\",\"x\":0.585,\"xanchor\":\"center\",\"xref\":\"paper\",\"y\":1.0,\"yanchor\":\"bottom\",\"yref\":\"paper\"},{\"font\":{},\"showarrow\":false,\"text\":\"Oceania\",\"x\":0.7549999999999999,\"xanchor\":\"center\",\"xref\":\"paper\",\"y\":1.0,\"yanchor\":\"bottom\",\"yref\":\"paper\"},{\"font\":{},\"showarrow\":false,\"text\":\"South America\",\"x\":0.925,\"xanchor\":\"center\",\"xref\":\"paper\",\"y\":1.0,\"yanchor\":\"bottom\",\"yref\":\"paper\"}],\"legend\":{\"title\":{\"text\":\"Continent\"},\"tracegroupgap\":0},\"margin\":{\"t\":60},\"title\":{\"text\":\"Freedom to make life choices vs. Happiness Score\"}},                        {\"responsive\": true}                    ).then(function(){\n",
       "                            \n",
       "var gd = document.getElementById('9a9e274c-0ccb-4a60-9803-8c14b891b3bf');\n",
       "var x = new MutationObserver(function (mutations, observer) {{\n",
       "        var display = window.getComputedStyle(gd).display;\n",
       "        if (!display || display === 'none') {{\n",
       "            console.log([gd, 'removed!']);\n",
       "            Plotly.purge(gd);\n",
       "            observer.disconnect();\n",
       "        }}\n",
       "}});\n",
       "\n",
       "// Listen for the removal of the full notebook cells\n",
       "var notebookContainer = gd.closest('#notebook-container');\n",
       "if (notebookContainer) {{\n",
       "    x.observe(notebookContainer, {childList: true});\n",
       "}}\n",
       "\n",
       "// Listen for the clearing of the current output cell\n",
       "var outputEl = gd.closest('.output');\n",
       "if (outputEl) {{\n",
       "    x.observe(outputEl, {childList: true});\n",
       "}}\n",
       "\n",
       "                        })                };                });            </script>        </div>"
      ]
     },
     "metadata": {},
     "output_type": "display_data"
    },
    {
     "data": {
      "text/html": [
       "<div>                            <div id=\"6559390b-13ab-4a10-a861-dd01c2b332e1\" class=\"plotly-graph-div\" style=\"height:525px; width:100%;\"></div>            <script type=\"text/javascript\">                require([\"plotly\"], function(Plotly) {                    window.PLOTLYENV=window.PLOTLYENV || {};                                    if (document.getElementById(\"6559390b-13ab-4a10-a861-dd01c2b332e1\")) {                    Plotly.newPlot(                        \"6559390b-13ab-4a10-a861-dd01c2b332e1\",                        [{\"hovertemplate\":\"Continent=Africa<br>Score=%{x}<br>Generosity=%{y}<extra></extra>\",\"legendgroup\":\"Africa\",\"marker\":{\"color\":\"#636efa\",\"symbol\":\"circle\"},\"mode\":\"markers\",\"name\":\"Africa\",\"orientation\":\"v\",\"showlegend\":true,\"x\":[2.853,4.39,4.418,5.044,4.461,4.466,4.49,5.525,4.509,4.516,4.996,4.534,4.944,4.587,4.628,4.639,4.668,4.681,4.883,5.888,4.812,4.799,3.083,4.35,4.374,3.973,5.208,3.231,3.334,5.211,3.41,3.488,3.663,3.775,3.802,3.933,3.975,5.265,4.085,4.722,4.166,4.189,4.286,4.212,4.107],\"xaxis\":\"x\",\"y\":[0.202,0.153,0.212,0.187,0.059,0.197,0.106,0.133,0.372,0.269,0.245,0.207,0.154,0.177,0.188,0.07,0.243,0.153,0.175,0.215,0.105,0.043,0.235,0.198,0.252,0.275,0.036,0.276,0.217,0.073,0.218,0.025,0.151,0.176,0.107,0.169,0.233,0.215,0.177,0.13,0.076,0.252,0.209,0.074,0.247],\"yaxis\":\"y\",\"type\":\"scatter\"},{\"hovertemplate\":\"<b>OLS trendline</b><br>Generosity = -0.0213297 * Score + 0.268419<br>R<sup>2</sup>=0.033441<br><br>Continent=Africa<br>Score=%{x}<br>Generosity=%{y} <b>(trend)</b><extra></extra>\",\"legendgroup\":\"Africa\",\"marker\":{\"color\":\"#636efa\",\"symbol\":\"circle\"},\"mode\":\"lines\",\"name\":\"Africa\",\"showlegend\":false,\"x\":[2.853,3.083,3.231,3.334,3.41,3.488,3.663,3.775,3.802,3.933,3.973,3.975,4.085,4.107,4.166,4.189,4.212,4.286,4.35,4.374,4.39,4.418,4.461,4.466,4.49,4.509,4.516,4.534,4.587,4.628,4.639,4.668,4.681,4.722,4.799,4.812,4.883,4.944,4.996,5.044,5.208,5.211,5.265,5.525,5.888],\"xaxis\":\"x\",\"y\":[0.20756516945484108,0.20265932819453714,0.19950252599225465,0.19730556229742288,0.1956845017070616,0.19402078162748027,0.19028807632072728,0.18789914492440535,0.1873232418199349,0.18452904527602268,0.183675855491622,0.18363319600240197,0.18128692409530006,0.1808176697138797,0.1795592147818887,0.17906863065585832,0.17857804652982792,0.17699964542868668,0.17563454177364557,0.17512262790300515,0.17478135198924488,0.1741841191401644,0.17326694012193367,0.1731602913988836,0.1726483775282432,0.17224311238065285,0.17209380416838274,0.17170986876540245,0.17057939230107155,0.1697048727720608,0.16947024558135065,0.16885168298766015,0.1685743963077299,0.16769987677871923,0.1660574864437479,0.1657801997638177,0.16426578789650648,0.16296467347529545,0.16185552675557455,0.16083169901429376,0.15733362089825093,0.15726963166442087,0.15611782545547997,0.15057209185687553,0.14282939456343938],\"yaxis\":\"y\",\"type\":\"scatter\"},{\"hovertemplate\":\"Continent=Asia<br>Score=%{x}<br>Generosity=%{y}<extra></extra>\",\"legendgroup\":\"Asia\",\"marker\":{\"color\":\"#EF553B\",\"symbol\":\"circle\"},\"mode\":\"markers\",\"name\":\"Asia\",\"orientation\":\"v\",\"showlegend\":true,\"x\":[5.175,5.339,5.373,4.796,4.906,5.247,4.913,5.192,5.082,5.631,5.43,5.261,5.191,5.467,5.653,5.285,4.548,4.7,3.203,3.38,3.462,7.139,4.015,6.825,6.446,4.36,6.375,6.374,4.366,4.437,6.262,6.199,6.174,4.519,5.208,4.559,6.021,6.008,5.895,4.696,5.886,4.456,5.197],\"xaxis\":\"x2\",\"y\":[0.147,0.26,0.083,0.266,0.11,0.244,0.285,0.498,0.37,0.117,0.258,0.3,0.058,0.23,0.22,0.235,0.27,0.232,0.158,0.108,0.331,0.261,0.2,0.262,0.242,0.566,0.08,0.22,0.244,0.148,0.271,0.255,0.322,0.043,0.035,0.095,0.142,0.359,0.175,0.103,0.069,0.166,0.166],\"yaxis\":\"y2\",\"type\":\"scatter\"},{\"hovertemplate\":\"<b>OLS trendline</b><br>Generosity = 0.00654012 * Score + 0.179878<br>R<sup>2</sup>=0.002646<br><br>Continent=Asia<br>Score=%{x}<br>Generosity=%{y} <b>(trend)</b><extra></extra>\",\"legendgroup\":\"Asia\",\"marker\":{\"color\":\"#EF553B\",\"symbol\":\"circle\"},\"mode\":\"lines\",\"name\":\"Asia\",\"showlegend\":false,\"x\":[3.203,3.38,3.462,4.015,4.36,4.366,4.437,4.456,4.519,4.548,4.559,4.696,4.7,4.796,4.906,4.913,5.082,5.175,5.191,5.192,5.197,5.208,5.247,5.261,5.285,5.339,5.373,5.43,5.467,5.631,5.653,5.886,5.895,6.008,6.021,6.174,6.199,6.262,6.374,6.375,6.446,6.825,7.139],\"xaxis\":\"x2\",\"y\":[0.20082604157625175,0.20198364261584068,0.20251993236299487,0.20613661809685177,0.20839295910622002,0.20843219981942643,0.20889654825903553,0.20902081051752247,0.20943283800618973,0.209622501453354,0.20969444276089907,0.21059043904577865,0.2106165995212496,0.21124445093255206,0.2119638640080028,0.21200964484007692,0.21311492492872397,0.21372315598342323,0.21382779788530698,0.21383433800417473,0.2138670385985134,0.21393897990605848,0.2141940445419001,0.21428560620604836,0.214442569058874,0.21479573547773162,0.2150180995192346,0.2153908862946954,0.21563287069280157,0.21670545018710996,0.2168493328022001,0.21837318049838214,0.21843204156819174,0.21917107500024569,0.21925609654552622,0.22025673473228952,0.2204202377039829,0.22083226519265012,0.22156475850583635,0.22157129862470407,0.22203564706431317,0.2245143521151844,0.22656794943965286],\"yaxis\":\"y2\",\"type\":\"scatter\"},{\"hovertemplate\":\"Continent=Europe<br>Score=%{x}<br>Generosity=%{y}<extra></extra>\",\"legendgroup\":\"Europe\",\"marker\":{\"color\":\"#00cc96\",\"symbol\":\"circle\"},\"mode\":\"markers\",\"name\":\"Europe\",\"orientation\":\"v\",\"showlegend\":true,\"x\":[4.719,5.011,4.332,7.769,5.287,6.149,6.182,5.274,6.223,6.354,6.592,6.726,6.852,6.923,6.118,6.985,7.054,7.09,7.246,7.343,7.48,7.488,7.494,7.554,7.6,7.021,6.1,6.198,6.07,5.323,5.432,5.523,5.529,5.603,5.648,5.693,5.718,5.758,5.809,5.386,5.893,6.046,5.94],\"xaxis\":\"x3\",\"y\":[0.178,0.081,0.187,0.153,0.0,0.043,0.117,0.185,0.158,0.153,0.111,0.375,0.046,0.16,0.144,0.261,0.348,0.194,0.244,0.267,0.263,0.322,0.354,0.271,0.252,0.298,0.262,0.121,0.083,0.094,0.119,0.142,0.181,0.137,0.082,0.047,0.191,0.081,0.146,0.263,0.103,0.19,0.075],\"yaxis\":\"y3\",\"type\":\"scatter\"},{\"hovertemplate\":\"<b>OLS trendline</b><br>Generosity = 0.0567558 * Score + -0.18044<br>R<sup>2</sup>=0.282601<br><br>Continent=Europe<br>Score=%{x}<br>Generosity=%{y} <b>(trend)</b><extra></extra>\",\"legendgroup\":\"Europe\",\"marker\":{\"color\":\"#00cc96\",\"symbol\":\"circle\"},\"mode\":\"lines\",\"name\":\"Europe\",\"showlegend\":false,\"x\":[4.332,4.719,5.011,5.274,5.287,5.323,5.386,5.432,5.523,5.529,5.603,5.648,5.693,5.718,5.758,5.809,5.893,5.94,6.046,6.07,6.1,6.118,6.149,6.182,6.198,6.223,6.354,6.592,6.726,6.852,6.923,6.985,7.021,7.054,7.09,7.246,7.343,7.48,7.488,7.494,7.554,7.6,7.769],\"xaxis\":\"x3\",\"y\":[0.0654261999644406,0.08739068538721192,0.1039633720627913,0.11889014122606997,0.11962796631779096,0.12167117426409532,0.12524678817012783,0.12785755387929446,0.13302232952134144,0.13336286417905882,0.13756279162423987,0.14011680155712028,0.14267081149000063,0.14408970589715644,0.14635993694860563,0.14925448153920343,0.1540219667472468,0.15668948823269965,0.16270560051904012,0.16406773914990966,0.16577041243849652,0.16679201641164873,0.16855144547652187,0.1704243860939675,0.17133247851454722,0.17275137292170292,0.1801863796151992,0.19369425437132207,0.201299528393677,0.20845075620574208,0.21248041632206446,0.2159992744518108,0.21804248239811505,0.2199154230155607,0.221958630961865,0.23081253206251703,0.2363178423622814,0.244093383713495,0.24454742992378484,0.24488796458150222,0.24829331115867606,0.25090407686784266,0.2604958030602157],\"yaxis\":\"y3\",\"type\":\"scatter\"},{\"hovertemplate\":\"Continent=North America<br>Score=%{x}<br>Generosity=%{y}<extra></extra>\",\"legendgroup\":\"North America\",\"marker\":{\"color\":\"#ab63fa\",\"symbol\":\"circle\"},\"mode\":\"markers\",\"name\":\"North America\",\"orientation\":\"v\",\"showlegend\":true,\"x\":[6.105,5.425,3.597,7.278,7.167,5.89,6.321,6.595,6.892,5.86,6.436,6.253],\"xaxis\":\"x4\",\"y\":[0.2,0.113,0.419,0.285,0.144,0.107,0.109,0.074,0.28,0.246,0.175,0.093],\"yaxis\":\"y4\",\"type\":\"scatter\"},{\"hovertemplate\":\"<b>OLS trendline</b><br>Generosity = -0.0459282 * Score + 0.469614<br>R<sup>2</sup>=0.186580<br><br>Continent=North America<br>Score=%{x}<br>Generosity=%{y} <b>(trend)</b><extra></extra>\",\"legendgroup\":\"North America\",\"marker\":{\"color\":\"#ab63fa\",\"symbol\":\"circle\"},\"mode\":\"lines\",\"name\":\"North America\",\"showlegend\":false,\"x\":[3.597,5.425,5.86,5.89,6.105,6.253,6.321,6.436,6.595,6.892,7.167,7.278],\"xaxis\":\"x4\",\"y\":[0.30441068380942005,0.22045397984453874,0.2004752237040992,0.1990973784530345,0.18922282082040343,0.18242545091515044,0.17930233501273696,0.17402059488365523,0.16671801505301187,0.1530773470674704,0.14044709893270985,0.13534907150377012],\"yaxis\":\"y4\",\"type\":\"scatter\"},{\"hovertemplate\":\"Continent=Oceania<br>Score=%{x}<br>Generosity=%{y}<extra></extra>\",\"legendgroup\":\"Oceania\",\"marker\":{\"color\":\"#FFA15A\",\"symbol\":\"circle\"},\"mode\":\"markers\",\"name\":\"Oceania\",\"orientation\":\"v\",\"showlegend\":true,\"x\":[7.228,7.307],\"xaxis\":\"x5\",\"y\":[0.332,0.33],\"yaxis\":\"y5\",\"type\":\"scatter\"},{\"hovertemplate\":\"<b>OLS trendline</b><br>Generosity = -0.0253165 * Score + 0.514987<br>R<sup>2</sup>=1.000000<br><br>Continent=Oceania<br>Score=%{x}<br>Generosity=%{y} <b>(trend)</b><extra></extra>\",\"legendgroup\":\"Oceania\",\"marker\":{\"color\":\"#FFA15A\",\"symbol\":\"circle\"},\"mode\":\"lines\",\"name\":\"Oceania\",\"showlegend\":false,\"x\":[7.228,7.307],\"xaxis\":\"x5\",\"y\":[0.33199999999999924,0.3299999999999993],\"yaxis\":\"y5\",\"type\":\"scatter\"},{\"hovertemplate\":\"Continent=South America<br>Score=%{x}<br>Generosity=%{y}<extra></extra>\",\"legendgroup\":\"South America\",\"marker\":{\"color\":\"#19d3f3\",\"symbol\":\"circle\"},\"mode\":\"markers\",\"name\":\"South America\",\"orientation\":\"v\",\"showlegend\":true,\"x\":[6.444,6.125,6.028,5.743,6.293,6.192,6.086,6.3,5.697,4.707,5.779],\"xaxis\":\"x6\",\"y\":[0.187,0.099,0.126,0.184,0.127,0.185,0.066,0.099,0.083,0.064,0.137],\"yaxis\":\"y6\",\"type\":\"scatter\"},{\"hovertemplate\":\"<b>OLS trendline</b><br>Generosity = 0.0422721 * Score + -0.12794<br>R<sup>2</sup>=0.190618<br><br>Continent=South America<br>Score=%{x}<br>Generosity=%{y} <b>(trend)</b><extra></extra>\",\"legendgroup\":\"South America\",\"marker\":{\"color\":\"#19d3f3\",\"symbol\":\"circle\"},\"mode\":\"lines\",\"name\":\"South America\",\"showlegend\":false,\"x\":[4.707,5.697,5.743,5.779,6.028,6.086,6.125,6.192,6.293,6.3,6.444],\"xaxis\":\"x6\",\"y\":[0.07103462634079738,0.11288399985542732,0.11482851620055157,0.11635031160108356,0.12687606312142985,0.1293278446000648,0.13097645628397442,0.1338086866127423,0.13807816815312374,0.13837407281433828,0.1444612544164663],\"yaxis\":\"y6\",\"type\":\"scatter\"}],                        {\"template\":{\"data\":{\"histogram2dcontour\":[{\"type\":\"histogram2dcontour\",\"colorbar\":{\"outlinewidth\":0,\"ticks\":\"\"},\"colorscale\":[[0.0,\"#0d0887\"],[0.1111111111111111,\"#46039f\"],[0.2222222222222222,\"#7201a8\"],[0.3333333333333333,\"#9c179e\"],[0.4444444444444444,\"#bd3786\"],[0.5555555555555556,\"#d8576b\"],[0.6666666666666666,\"#ed7953\"],[0.7777777777777778,\"#fb9f3a\"],[0.8888888888888888,\"#fdca26\"],[1.0,\"#f0f921\"]]}],\"choropleth\":[{\"type\":\"choropleth\",\"colorbar\":{\"outlinewidth\":0,\"ticks\":\"\"}}],\"histogram2d\":[{\"type\":\"histogram2d\",\"colorbar\":{\"outlinewidth\":0,\"ticks\":\"\"},\"colorscale\":[[0.0,\"#0d0887\"],[0.1111111111111111,\"#46039f\"],[0.2222222222222222,\"#7201a8\"],[0.3333333333333333,\"#9c179e\"],[0.4444444444444444,\"#bd3786\"],[0.5555555555555556,\"#d8576b\"],[0.6666666666666666,\"#ed7953\"],[0.7777777777777778,\"#fb9f3a\"],[0.8888888888888888,\"#fdca26\"],[1.0,\"#f0f921\"]]}],\"heatmap\":[{\"type\":\"heatmap\",\"colorbar\":{\"outlinewidth\":0,\"ticks\":\"\"},\"colorscale\":[[0.0,\"#0d0887\"],[0.1111111111111111,\"#46039f\"],[0.2222222222222222,\"#7201a8\"],[0.3333333333333333,\"#9c179e\"],[0.4444444444444444,\"#bd3786\"],[0.5555555555555556,\"#d8576b\"],[0.6666666666666666,\"#ed7953\"],[0.7777777777777778,\"#fb9f3a\"],[0.8888888888888888,\"#fdca26\"],[1.0,\"#f0f921\"]]}],\"heatmapgl\":[{\"type\":\"heatmapgl\",\"colorbar\":{\"outlinewidth\":0,\"ticks\":\"\"},\"colorscale\":[[0.0,\"#0d0887\"],[0.1111111111111111,\"#46039f\"],[0.2222222222222222,\"#7201a8\"],[0.3333333333333333,\"#9c179e\"],[0.4444444444444444,\"#bd3786\"],[0.5555555555555556,\"#d8576b\"],[0.6666666666666666,\"#ed7953\"],[0.7777777777777778,\"#fb9f3a\"],[0.8888888888888888,\"#fdca26\"],[1.0,\"#f0f921\"]]}],\"contourcarpet\":[{\"type\":\"contourcarpet\",\"colorbar\":{\"outlinewidth\":0,\"ticks\":\"\"}}],\"contour\":[{\"type\":\"contour\",\"colorbar\":{\"outlinewidth\":0,\"ticks\":\"\"},\"colorscale\":[[0.0,\"#0d0887\"],[0.1111111111111111,\"#46039f\"],[0.2222222222222222,\"#7201a8\"],[0.3333333333333333,\"#9c179e\"],[0.4444444444444444,\"#bd3786\"],[0.5555555555555556,\"#d8576b\"],[0.6666666666666666,\"#ed7953\"],[0.7777777777777778,\"#fb9f3a\"],[0.8888888888888888,\"#fdca26\"],[1.0,\"#f0f921\"]]}],\"surface\":[{\"type\":\"surface\",\"colorbar\":{\"outlinewidth\":0,\"ticks\":\"\"},\"colorscale\":[[0.0,\"#0d0887\"],[0.1111111111111111,\"#46039f\"],[0.2222222222222222,\"#7201a8\"],[0.3333333333333333,\"#9c179e\"],[0.4444444444444444,\"#bd3786\"],[0.5555555555555556,\"#d8576b\"],[0.6666666666666666,\"#ed7953\"],[0.7777777777777778,\"#fb9f3a\"],[0.8888888888888888,\"#fdca26\"],[1.0,\"#f0f921\"]]}],\"mesh3d\":[{\"type\":\"mesh3d\",\"colorbar\":{\"outlinewidth\":0,\"ticks\":\"\"}}],\"scatter\":[{\"fillpattern\":{\"fillmode\":\"overlay\",\"size\":10,\"solidity\":0.2},\"type\":\"scatter\"}],\"parcoords\":[{\"type\":\"parcoords\",\"line\":{\"colorbar\":{\"outlinewidth\":0,\"ticks\":\"\"}}}],\"scatterpolargl\":[{\"type\":\"scatterpolargl\",\"marker\":{\"colorbar\":{\"outlinewidth\":0,\"ticks\":\"\"}}}],\"bar\":[{\"error_x\":{\"color\":\"#2a3f5f\"},\"error_y\":{\"color\":\"#2a3f5f\"},\"marker\":{\"line\":{\"color\":\"#E5ECF6\",\"width\":0.5},\"pattern\":{\"fillmode\":\"overlay\",\"size\":10,\"solidity\":0.2}},\"type\":\"bar\"}],\"scattergeo\":[{\"type\":\"scattergeo\",\"marker\":{\"colorbar\":{\"outlinewidth\":0,\"ticks\":\"\"}}}],\"scatterpolar\":[{\"type\":\"scatterpolar\",\"marker\":{\"colorbar\":{\"outlinewidth\":0,\"ticks\":\"\"}}}],\"histogram\":[{\"marker\":{\"pattern\":{\"fillmode\":\"overlay\",\"size\":10,\"solidity\":0.2}},\"type\":\"histogram\"}],\"scattergl\":[{\"type\":\"scattergl\",\"marker\":{\"colorbar\":{\"outlinewidth\":0,\"ticks\":\"\"}}}],\"scatter3d\":[{\"type\":\"scatter3d\",\"line\":{\"colorbar\":{\"outlinewidth\":0,\"ticks\":\"\"}},\"marker\":{\"colorbar\":{\"outlinewidth\":0,\"ticks\":\"\"}}}],\"scattermapbox\":[{\"type\":\"scattermapbox\",\"marker\":{\"colorbar\":{\"outlinewidth\":0,\"ticks\":\"\"}}}],\"scatterternary\":[{\"type\":\"scatterternary\",\"marker\":{\"colorbar\":{\"outlinewidth\":0,\"ticks\":\"\"}}}],\"scattercarpet\":[{\"type\":\"scattercarpet\",\"marker\":{\"colorbar\":{\"outlinewidth\":0,\"ticks\":\"\"}}}],\"carpet\":[{\"aaxis\":{\"endlinecolor\":\"#2a3f5f\",\"gridcolor\":\"white\",\"linecolor\":\"white\",\"minorgridcolor\":\"white\",\"startlinecolor\":\"#2a3f5f\"},\"baxis\":{\"endlinecolor\":\"#2a3f5f\",\"gridcolor\":\"white\",\"linecolor\":\"white\",\"minorgridcolor\":\"white\",\"startlinecolor\":\"#2a3f5f\"},\"type\":\"carpet\"}],\"table\":[{\"cells\":{\"fill\":{\"color\":\"#EBF0F8\"},\"line\":{\"color\":\"white\"}},\"header\":{\"fill\":{\"color\":\"#C8D4E3\"},\"line\":{\"color\":\"white\"}},\"type\":\"table\"}],\"barpolar\":[{\"marker\":{\"line\":{\"color\":\"#E5ECF6\",\"width\":0.5},\"pattern\":{\"fillmode\":\"overlay\",\"size\":10,\"solidity\":0.2}},\"type\":\"barpolar\"}],\"pie\":[{\"automargin\":true,\"type\":\"pie\"}]},\"layout\":{\"autotypenumbers\":\"strict\",\"colorway\":[\"#636efa\",\"#EF553B\",\"#00cc96\",\"#ab63fa\",\"#FFA15A\",\"#19d3f3\",\"#FF6692\",\"#B6E880\",\"#FF97FF\",\"#FECB52\"],\"font\":{\"color\":\"#2a3f5f\"},\"hovermode\":\"closest\",\"hoverlabel\":{\"align\":\"left\"},\"paper_bgcolor\":\"white\",\"plot_bgcolor\":\"#E5ECF6\",\"polar\":{\"bgcolor\":\"#E5ECF6\",\"angularaxis\":{\"gridcolor\":\"white\",\"linecolor\":\"white\",\"ticks\":\"\"},\"radialaxis\":{\"gridcolor\":\"white\",\"linecolor\":\"white\",\"ticks\":\"\"}},\"ternary\":{\"bgcolor\":\"#E5ECF6\",\"aaxis\":{\"gridcolor\":\"white\",\"linecolor\":\"white\",\"ticks\":\"\"},\"baxis\":{\"gridcolor\":\"white\",\"linecolor\":\"white\",\"ticks\":\"\"},\"caxis\":{\"gridcolor\":\"white\",\"linecolor\":\"white\",\"ticks\":\"\"}},\"coloraxis\":{\"colorbar\":{\"outlinewidth\":0,\"ticks\":\"\"}},\"colorscale\":{\"sequential\":[[0.0,\"#0d0887\"],[0.1111111111111111,\"#46039f\"],[0.2222222222222222,\"#7201a8\"],[0.3333333333333333,\"#9c179e\"],[0.4444444444444444,\"#bd3786\"],[0.5555555555555556,\"#d8576b\"],[0.6666666666666666,\"#ed7953\"],[0.7777777777777778,\"#fb9f3a\"],[0.8888888888888888,\"#fdca26\"],[1.0,\"#f0f921\"]],\"sequentialminus\":[[0.0,\"#0d0887\"],[0.1111111111111111,\"#46039f\"],[0.2222222222222222,\"#7201a8\"],[0.3333333333333333,\"#9c179e\"],[0.4444444444444444,\"#bd3786\"],[0.5555555555555556,\"#d8576b\"],[0.6666666666666666,\"#ed7953\"],[0.7777777777777778,\"#fb9f3a\"],[0.8888888888888888,\"#fdca26\"],[1.0,\"#f0f921\"]],\"diverging\":[[0,\"#8e0152\"],[0.1,\"#c51b7d\"],[0.2,\"#de77ae\"],[0.3,\"#f1b6da\"],[0.4,\"#fde0ef\"],[0.5,\"#f7f7f7\"],[0.6,\"#e6f5d0\"],[0.7,\"#b8e186\"],[0.8,\"#7fbc41\"],[0.9,\"#4d9221\"],[1,\"#276419\"]]},\"xaxis\":{\"gridcolor\":\"white\",\"linecolor\":\"white\",\"ticks\":\"\",\"title\":{\"standoff\":15},\"zerolinecolor\":\"white\",\"automargin\":true,\"zerolinewidth\":2},\"yaxis\":{\"gridcolor\":\"white\",\"linecolor\":\"white\",\"ticks\":\"\",\"title\":{\"standoff\":15},\"zerolinecolor\":\"white\",\"automargin\":true,\"zerolinewidth\":2},\"scene\":{\"xaxis\":{\"backgroundcolor\":\"#E5ECF6\",\"gridcolor\":\"white\",\"linecolor\":\"white\",\"showbackground\":true,\"ticks\":\"\",\"zerolinecolor\":\"white\",\"gridwidth\":2},\"yaxis\":{\"backgroundcolor\":\"#E5ECF6\",\"gridcolor\":\"white\",\"linecolor\":\"white\",\"showbackground\":true,\"ticks\":\"\",\"zerolinecolor\":\"white\",\"gridwidth\":2},\"zaxis\":{\"backgroundcolor\":\"#E5ECF6\",\"gridcolor\":\"white\",\"linecolor\":\"white\",\"showbackground\":true,\"ticks\":\"\",\"zerolinecolor\":\"white\",\"gridwidth\":2}},\"shapedefaults\":{\"line\":{\"color\":\"#2a3f5f\"}},\"annotationdefaults\":{\"arrowcolor\":\"#2a3f5f\",\"arrowhead\":0,\"arrowwidth\":1},\"geo\":{\"bgcolor\":\"white\",\"landcolor\":\"#E5ECF6\",\"subunitcolor\":\"white\",\"showland\":true,\"showlakes\":true,\"lakecolor\":\"white\"},\"title\":{\"x\":0.05},\"mapbox\":{\"style\":\"light\"}}},\"xaxis\":{\"anchor\":\"y\",\"domain\":[0.0,0.15],\"title\":{\"text\":\"Happiness Score\"}},\"yaxis\":{\"anchor\":\"x\",\"domain\":[0.0,1.0],\"title\":{\"text\":\"Generosity\"}},\"xaxis2\":{\"anchor\":\"y2\",\"domain\":[0.16999999999999998,0.31999999999999995],\"matches\":\"x\",\"title\":{\"text\":\"Happiness Score\"}},\"yaxis2\":{\"anchor\":\"x2\",\"domain\":[0.0,1.0],\"matches\":\"y\",\"showticklabels\":false},\"xaxis3\":{\"anchor\":\"y3\",\"domain\":[0.33999999999999997,0.49],\"matches\":\"x\",\"title\":{\"text\":\"Happiness Score\"}},\"yaxis3\":{\"anchor\":\"x3\",\"domain\":[0.0,1.0],\"matches\":\"y\",\"showticklabels\":false},\"xaxis4\":{\"anchor\":\"y4\",\"domain\":[0.51,0.66],\"matches\":\"x\",\"title\":{\"text\":\"Happiness Score\"}},\"yaxis4\":{\"anchor\":\"x4\",\"domain\":[0.0,1.0],\"matches\":\"y\",\"showticklabels\":false},\"xaxis5\":{\"anchor\":\"y5\",\"domain\":[0.6799999999999999,0.83],\"matches\":\"x\",\"title\":{\"text\":\"Happiness Score\"}},\"yaxis5\":{\"anchor\":\"x5\",\"domain\":[0.0,1.0],\"matches\":\"y\",\"showticklabels\":false},\"xaxis6\":{\"anchor\":\"y6\",\"domain\":[0.85,1.0],\"matches\":\"x\",\"title\":{\"text\":\"Happiness Score\"}},\"yaxis6\":{\"anchor\":\"x6\",\"domain\":[0.0,1.0],\"matches\":\"y\",\"showticklabels\":false},\"annotations\":[{\"font\":{},\"showarrow\":false,\"text\":\"Africa\",\"x\":0.075,\"xanchor\":\"center\",\"xref\":\"paper\",\"y\":1.0,\"yanchor\":\"bottom\",\"yref\":\"paper\"},{\"font\":{},\"showarrow\":false,\"text\":\"Asia\",\"x\":0.24499999999999997,\"xanchor\":\"center\",\"xref\":\"paper\",\"y\":1.0,\"yanchor\":\"bottom\",\"yref\":\"paper\"},{\"font\":{},\"showarrow\":false,\"text\":\"Europe\",\"x\":0.415,\"xanchor\":\"center\",\"xref\":\"paper\",\"y\":1.0,\"yanchor\":\"bottom\",\"yref\":\"paper\"},{\"font\":{},\"showarrow\":false,\"text\":\"North America\",\"x\":0.585,\"xanchor\":\"center\",\"xref\":\"paper\",\"y\":1.0,\"yanchor\":\"bottom\",\"yref\":\"paper\"},{\"font\":{},\"showarrow\":false,\"text\":\"Oceania\",\"x\":0.7549999999999999,\"xanchor\":\"center\",\"xref\":\"paper\",\"y\":1.0,\"yanchor\":\"bottom\",\"yref\":\"paper\"},{\"font\":{},\"showarrow\":false,\"text\":\"South America\",\"x\":0.925,\"xanchor\":\"center\",\"xref\":\"paper\",\"y\":1.0,\"yanchor\":\"bottom\",\"yref\":\"paper\"}],\"legend\":{\"title\":{\"text\":\"Continent\"},\"tracegroupgap\":0},\"margin\":{\"t\":60},\"title\":{\"text\":\"Generosity vs. Happiness Score\"}},                        {\"responsive\": true}                    ).then(function(){\n",
       "                            \n",
       "var gd = document.getElementById('6559390b-13ab-4a10-a861-dd01c2b332e1');\n",
       "var x = new MutationObserver(function (mutations, observer) {{\n",
       "        var display = window.getComputedStyle(gd).display;\n",
       "        if (!display || display === 'none') {{\n",
       "            console.log([gd, 'removed!']);\n",
       "            Plotly.purge(gd);\n",
       "            observer.disconnect();\n",
       "        }}\n",
       "}});\n",
       "\n",
       "// Listen for the removal of the full notebook cells\n",
       "var notebookContainer = gd.closest('#notebook-container');\n",
       "if (notebookContainer) {{\n",
       "    x.observe(notebookContainer, {childList: true});\n",
       "}}\n",
       "\n",
       "// Listen for the clearing of the current output cell\n",
       "var outputEl = gd.closest('.output');\n",
       "if (outputEl) {{\n",
       "    x.observe(outputEl, {childList: true});\n",
       "}}\n",
       "\n",
       "                        })                };                });            </script>        </div>"
      ]
     },
     "metadata": {},
     "output_type": "display_data"
    },
    {
     "data": {
      "text/html": [
       "<div>                            <div id=\"730182d5-8b0f-4025-86a8-b08147594314\" class=\"plotly-graph-div\" style=\"height:525px; width:100%;\"></div>            <script type=\"text/javascript\">                require([\"plotly\"], function(Plotly) {                    window.PLOTLYENV=window.PLOTLYENV || {};                                    if (document.getElementById(\"730182d5-8b0f-4025-86a8-b08147594314\")) {                    Plotly.newPlot(                        \"730182d5-8b0f-4025-86a8-b08147594314\",                        [{\"hovertemplate\":\"Continent=Africa<br>Score=%{x}<br>Perceptions of corruption=%{y}<extra></extra>\",\"legendgroup\":\"Africa\",\"marker\":{\"color\":\"#636efa\",\"symbol\":\"circle\"},\"mode\":\"markers\",\"name\":\"Africa\",\"orientation\":\"v\",\"showlegend\":true,\"x\":[2.853,4.39,4.418,5.044,4.461,4.466,4.49,5.525,4.509,4.516,4.996,4.534,4.944,4.587,4.628,4.639,4.668,4.681,4.883,5.888,4.812,4.799,3.083,4.35,4.374,3.973,5.208,3.231,3.334,5.211,3.41,3.488,3.663,3.775,3.802,3.933,3.975,5.265,4.085,4.722,4.166,4.189,4.286,4.212,4.107],\"xaxis\":\"x\",\"y\":[0.091,0.052,0.053,0.037,0.055,0.138,0.088,0.152,0.053,0.167,0.04,0.086,0.09,0.113,0.102,0.056,0.27,0.072,0.082,0.06,0.093,0.055,0.035,0.078,0.045,0.078,0.076,0.147,0.411,0.114,0.089,0.1,0.089,0.18,0.093,0.041,0.033,0.041,0.085,0.055,0.067,0.06,0.1,0.135,0.087],\"yaxis\":\"y\",\"type\":\"scatter\"},{\"hovertemplate\":\"<b>OLS trendline</b><br>Perceptions of corruption = -0.021532 * Score + 0.188369<br>R<sup>2</sup>=0.043975<br><br>Continent=Africa<br>Score=%{x}<br>Perceptions of corruption=%{y} <b>(trend)</b><extra></extra>\",\"legendgroup\":\"Africa\",\"marker\":{\"color\":\"#636efa\",\"symbol\":\"circle\"},\"mode\":\"lines\",\"name\":\"Africa\",\"showlegend\":false,\"x\":[2.853,3.083,3.231,3.334,3.41,3.488,3.663,3.775,3.802,3.933,3.973,3.975,4.085,4.107,4.166,4.189,4.212,4.286,4.35,4.374,4.39,4.418,4.461,4.466,4.49,4.509,4.516,4.534,4.587,4.628,4.639,4.668,4.681,4.722,4.799,4.812,4.883,4.944,4.996,5.044,5.208,5.211,5.265,5.525,5.888],\"xaxis\":\"x\",\"y\":[0.12693836289862165,0.12198599509195869,0.11879925406854079,0.11658145457251347,0.11494501999292049,0.11326552134544349,0.10949741540559126,0.1070858276040858,0.10650446268765146,0.10368376624124778,0.10282248488356727,0.10277942081568324,0.10041089708206183,0.09993719233533754,0.09866680233275878,0.0981715655520925,0.09767632877142621,0.09608295825971726,0.09470490808742843,0.09418813927282013,0.09384362672974793,0.09324072977937155,0.092314852319865,0.09220719215015494,0.09169042333554663,0.09128131469064837,0.0911305904530543,0.09074301384209807,0.0896018160431714,0.08871900265154886,0.08848215027818672,0.08785772129386835,0.08757780485262218,0.08669499146099964,0.08503702484746466,0.08475710840621849,0.08322833399633559,0.0819148799258728,0.08079521416088813,0.07976167653167153,0.07623042296518141,0.07616582686335537,0.07500309703048669,0.06940476820556334,0.06158863988461269],\"yaxis\":\"y\",\"type\":\"scatter\"},{\"hovertemplate\":\"Continent=Asia<br>Score=%{x}<br>Perceptions of corruption=%{y}<extra></extra>\",\"legendgroup\":\"Asia\",\"marker\":{\"color\":\"#EF553B\",\"symbol\":\"circle\"},\"mode\":\"markers\",\"name\":\"Asia\",\"orientation\":\"v\",\"showlegend\":true,\"x\":[5.175,5.339,5.373,4.796,4.906,5.247,4.913,5.192,5.082,5.631,5.43,5.261,5.191,5.467,5.653,5.285,4.548,4.7,3.203,3.38,3.462,7.139,4.015,6.825,6.446,4.36,6.375,6.374,4.366,4.437,6.262,6.199,6.174,4.519,5.208,4.559,6.021,6.008,5.895,4.696,5.886,4.456,5.197],\"xaxis\":\"x2\",\"y\":[0.073,0.024,0.106,0.164,0.13,0.028,0.089,0.028,0.167,0.107,0.287,0.023,0.1,0.144,0.098,0.038,0.125,0.062,0.025,0.077,0.141,0.082,0.085,0.182,0.097,0.172,0.132,0.167,0.047,0.089,0.453,0.11,0.24,0.164,0.182,0.064,0.097,0.028,0.056,0.066,0.14,0.143,0.027],\"yaxis\":\"y2\",\"type\":\"scatter\"},{\"hovertemplate\":\"<b>OLS trendline</b><br>Perceptions of corruption = 0.0226741 * Score + -0.00545972<br>R<sup>2</sup>=0.062831<br><br>Continent=Asia<br>Score=%{x}<br>Perceptions of corruption=%{y} <b>(trend)</b><extra></extra>\",\"legendgroup\":\"Asia\",\"marker\":{\"color\":\"#EF553B\",\"symbol\":\"circle\"},\"mode\":\"lines\",\"name\":\"Asia\",\"showlegend\":false,\"x\":[3.203,3.38,3.462,4.015,4.36,4.366,4.437,4.456,4.519,4.548,4.559,4.696,4.7,4.796,4.906,4.913,5.082,5.175,5.191,5.192,5.197,5.208,5.247,5.261,5.285,5.339,5.373,5.43,5.467,5.631,5.653,5.886,5.895,6.008,6.021,6.174,6.199,6.262,6.374,6.375,6.446,6.825,7.139],\"xaxis\":\"x2\",\"y\":[0.06716554499923698,0.07117886771397902,0.07303814716374653,0.08557694637986149,0.09339952455266379,0.09353556939045164,0.09514543330427473,0.09557624195726964,0.09700471275404222,0.09766226280335025,0.09791167833929466,0.10101803546878427,0.10110873202730952,0.10328544943191537,0.10577960479135956,0.10593832376877875,0.1097702533664703,0.11187894835218222,0.1122417345862832,0.11226440872591452,0.11237777942407107,0.11262719496001548,0.11351148640563662,0.11382892436047497,0.11437310371162643,0.11559750725171723,0.1163684279991818,0.11766085395816651,0.11849979712452502,0.12221835602406003,0.12271718709594887,0.12800026163004433,0.12820432888672612,0.13076650666506426,0.1310612704802713,0.13453041384386188,0.13509726733464467,0.13652573813141725,0.13906524177012408,0.1390879159097554,0.14069777982357845,0.14929127874384532,0.15641095858807696],\"yaxis\":\"y2\",\"type\":\"scatter\"},{\"hovertemplate\":\"Continent=Europe<br>Score=%{x}<br>Perceptions of corruption=%{y}<extra></extra>\",\"legendgroup\":\"Europe\",\"marker\":{\"color\":\"#00cc96\",\"symbol\":\"circle\"},\"mode\":\"markers\",\"name\":\"Europe\",\"orientation\":\"v\",\"showlegend\":true,\"x\":[4.719,5.011,4.332,7.769,5.287,6.149,6.182,5.274,6.223,6.354,6.592,6.726,6.852,6.923,6.118,6.985,7.054,7.09,7.246,7.343,7.48,7.488,7.494,7.554,7.6,7.021,6.1,6.198,6.07,5.323,5.432,5.523,5.529,5.603,5.648,5.693,5.718,5.758,5.809,5.386,5.893,6.046,5.94],\"xaxis\":\"x3\",\"y\":[0.027,0.004,0.01,0.393,0.034,0.042,0.05,0.034,0.03,0.079,0.183,0.151,0.036,0.21,0.057,0.265,0.278,0.316,0.226,0.373,0.343,0.298,0.118,0.341,0.41,0.31,0.006,0.014,0.005,0.142,0.022,0.08,0.0,0.039,0.031,0.025,0.162,0.02,0.096,0.006,0.161,0.041,0.064],\"yaxis\":\"y3\",\"type\":\"scatter\"},{\"hovertemplate\":\"<b>OLS trendline</b><br>Perceptions of corruption = 0.121081 * Score + -0.627497<br>R<sup>2</sup>=0.654525<br><br>Continent=Europe<br>Score=%{x}<br>Perceptions of corruption=%{y} <b>(trend)</b><extra></extra>\",\"legendgroup\":\"Europe\",\"marker\":{\"color\":\"#00cc96\",\"symbol\":\"circle\"},\"mode\":\"lines\",\"name\":\"Europe\",\"showlegend\":false,\"x\":[4.332,4.719,5.011,5.274,5.287,5.323,5.386,5.432,5.523,5.529,5.603,5.648,5.693,5.718,5.758,5.809,5.893,5.94,6.046,6.07,6.1,6.118,6.149,6.182,6.198,6.223,6.354,6.592,6.726,6.852,6.923,6.985,7.021,7.054,7.09,7.246,7.343,7.48,7.488,7.494,7.554,7.6,7.769],\"xaxis\":\"x3\",\"y\":[-0.1029758999580006,-0.05611773305588552,-0.0207622169436954,0.011081963664202,0.012656010614402247,0.01701490986111065,0.024642983542850327,0.030212688135866528,0.04123101678726826,0.04195749999505294,0.050917459557731304,0.056366083616116724,0.061814707674502256,0.06484172104027197,0.0696849424255035,0.0758600496916737,0.08603081460065987,0.09172159972830707,0.10455613639917061,0.10746206923030954,0.11109448526923305,0.11327393489258741,0.1170274314661418,0.12102308910895787,0.12296037766305046,0.12598739102882006,0.14184894106545343,0.1706661083075809,0.1868908999481066,0.20214704731158595,0.21074376527037197,0.21825075841748087,0.22260965766418916,0.22660531530700523,0.23096421455371352,0.2498527779561166,0.261597589815303,0.27818562305972105,0.2791542673367674,0.2798807505445521,0.2871455826223994,0.2927152872154156,0.31317789756801884],\"yaxis\":\"y3\",\"type\":\"scatter\"},{\"hovertemplate\":\"Continent=North America<br>Score=%{x}<br>Perceptions of corruption=%{y}<extra></extra>\",\"legendgroup\":\"North America\",\"marker\":{\"color\":\"#ab63fa\",\"symbol\":\"circle\"},\"mode\":\"markers\",\"name\":\"North America\",\"orientation\":\"v\",\"showlegend\":true,\"x\":[6.105,5.425,3.597,7.278,7.167,5.89,6.321,6.595,6.892,5.86,6.436,6.253],\"xaxis\":\"x4\",\"y\":[0.127,0.101,0.11,0.308,0.093,0.028,0.054,0.073,0.128,0.078,0.078,0.074],\"yaxis\":\"y4\",\"type\":\"scatter\"},{\"hovertemplate\":\"<b>OLS trendline</b><br>Perceptions of corruption = 0.0209155 * Score + -0.0243298<br>R<sup>2</sup>=0.083461<br><br>Continent=North America<br>Score=%{x}<br>Perceptions of corruption=%{y} <b>(trend)</b><extra></extra>\",\"legendgroup\":\"North America\",\"marker\":{\"color\":\"#ab63fa\",\"symbol\":\"circle\"},\"mode\":\"lines\",\"name\":\"North America\",\"showlegend\":false,\"x\":[3.597,5.425,5.86,5.89,6.105,6.253,6.321,6.436,6.595,6.892,7.167,7.278],\"xaxis\":\"x4\",\"y\":[0.05090306935560278,0.08913651481688147,0.09823473624776563,0.09886219979472315,0.10335902188125212,0.10645450871290923,0.1078767594193463,0.11028203634935016,0.11360759314822505,0.1198194822631046,0.1255712314435486,0.12789284656729144],\"yaxis\":\"y4\",\"type\":\"scatter\"},{\"hovertemplate\":\"Continent=Oceania<br>Score=%{x}<br>Perceptions of corruption=%{y}<extra></extra>\",\"legendgroup\":\"Oceania\",\"marker\":{\"color\":\"#FFA15A\",\"symbol\":\"circle\"},\"mode\":\"markers\",\"name\":\"Oceania\",\"orientation\":\"v\",\"showlegend\":true,\"x\":[7.228,7.307],\"xaxis\":\"x5\",\"y\":[0.29,0.38],\"yaxis\":\"y5\",\"type\":\"scatter\"},{\"hovertemplate\":\"<b>OLS trendline</b><br>Perceptions of corruption = 1.13924 * Score + -7.94443<br>R<sup>2</sup>=1.000000<br><br>Continent=Oceania<br>Score=%{x}<br>Perceptions of corruption=%{y} <b>(trend)</b><extra></extra>\",\"legendgroup\":\"Oceania\",\"marker\":{\"color\":\"#FFA15A\",\"symbol\":\"circle\"},\"mode\":\"lines\",\"name\":\"Oceania\",\"showlegend\":false,\"x\":[7.228,7.307],\"xaxis\":\"x5\",\"y\":[0.29000000000000004,0.38000000000000167],\"yaxis\":\"y5\",\"type\":\"scatter\"},{\"hovertemplate\":\"Continent=South America<br>Score=%{x}<br>Perceptions of corruption=%{y}<extra></extra>\",\"legendgroup\":\"South America\",\"marker\":{\"color\":\"#19d3f3\",\"symbol\":\"circle\"},\"mode\":\"markers\",\"name\":\"South America\",\"orientation\":\"v\",\"showlegend\":true,\"x\":[6.444,6.125,6.028,5.743,6.293,6.192,6.086,6.3,5.697,4.707,5.779],\"xaxis\":\"x6\",\"y\":[0.056,0.034,0.087,0.08,0.15,0.016,0.05,0.086,0.027,0.047,0.064],\"yaxis\":\"y6\",\"type\":\"scatter\"},{\"hovertemplate\":\"<b>OLS trendline</b><br>Perceptions of corruption = 0.0190513 * Score + -0.0498945<br>R<sup>2</sup>=0.060011<br><br>Continent=South America<br>Score=%{x}<br>Perceptions of corruption=%{y} <b>(trend)</b><extra></extra>\",\"legendgroup\":\"South America\",\"marker\":{\"color\":\"#19d3f3\",\"symbol\":\"circle\"},\"mode\":\"lines\",\"name\":\"South America\",\"showlegend\":false,\"x\":[4.707,5.697,5.743,5.779,6.028,6.086,6.125,6.192,6.293,6.3,6.444],\"xaxis\":\"x6\",\"y\":[0.039779892006162956,0.058640652529985,0.05951701109977875,0.060202856937008636,0.06494662397784871,0.06605159782671911,0.06679459748371816,0.06807103279189602,0.069995211390791,0.07012857030358569,0.07287195365250526],\"yaxis\":\"y6\",\"type\":\"scatter\"}],                        {\"template\":{\"data\":{\"histogram2dcontour\":[{\"type\":\"histogram2dcontour\",\"colorbar\":{\"outlinewidth\":0,\"ticks\":\"\"},\"colorscale\":[[0.0,\"#0d0887\"],[0.1111111111111111,\"#46039f\"],[0.2222222222222222,\"#7201a8\"],[0.3333333333333333,\"#9c179e\"],[0.4444444444444444,\"#bd3786\"],[0.5555555555555556,\"#d8576b\"],[0.6666666666666666,\"#ed7953\"],[0.7777777777777778,\"#fb9f3a\"],[0.8888888888888888,\"#fdca26\"],[1.0,\"#f0f921\"]]}],\"choropleth\":[{\"type\":\"choropleth\",\"colorbar\":{\"outlinewidth\":0,\"ticks\":\"\"}}],\"histogram2d\":[{\"type\":\"histogram2d\",\"colorbar\":{\"outlinewidth\":0,\"ticks\":\"\"},\"colorscale\":[[0.0,\"#0d0887\"],[0.1111111111111111,\"#46039f\"],[0.2222222222222222,\"#7201a8\"],[0.3333333333333333,\"#9c179e\"],[0.4444444444444444,\"#bd3786\"],[0.5555555555555556,\"#d8576b\"],[0.6666666666666666,\"#ed7953\"],[0.7777777777777778,\"#fb9f3a\"],[0.8888888888888888,\"#fdca26\"],[1.0,\"#f0f921\"]]}],\"heatmap\":[{\"type\":\"heatmap\",\"colorbar\":{\"outlinewidth\":0,\"ticks\":\"\"},\"colorscale\":[[0.0,\"#0d0887\"],[0.1111111111111111,\"#46039f\"],[0.2222222222222222,\"#7201a8\"],[0.3333333333333333,\"#9c179e\"],[0.4444444444444444,\"#bd3786\"],[0.5555555555555556,\"#d8576b\"],[0.6666666666666666,\"#ed7953\"],[0.7777777777777778,\"#fb9f3a\"],[0.8888888888888888,\"#fdca26\"],[1.0,\"#f0f921\"]]}],\"heatmapgl\":[{\"type\":\"heatmapgl\",\"colorbar\":{\"outlinewidth\":0,\"ticks\":\"\"},\"colorscale\":[[0.0,\"#0d0887\"],[0.1111111111111111,\"#46039f\"],[0.2222222222222222,\"#7201a8\"],[0.3333333333333333,\"#9c179e\"],[0.4444444444444444,\"#bd3786\"],[0.5555555555555556,\"#d8576b\"],[0.6666666666666666,\"#ed7953\"],[0.7777777777777778,\"#fb9f3a\"],[0.8888888888888888,\"#fdca26\"],[1.0,\"#f0f921\"]]}],\"contourcarpet\":[{\"type\":\"contourcarpet\",\"colorbar\":{\"outlinewidth\":0,\"ticks\":\"\"}}],\"contour\":[{\"type\":\"contour\",\"colorbar\":{\"outlinewidth\":0,\"ticks\":\"\"},\"colorscale\":[[0.0,\"#0d0887\"],[0.1111111111111111,\"#46039f\"],[0.2222222222222222,\"#7201a8\"],[0.3333333333333333,\"#9c179e\"],[0.4444444444444444,\"#bd3786\"],[0.5555555555555556,\"#d8576b\"],[0.6666666666666666,\"#ed7953\"],[0.7777777777777778,\"#fb9f3a\"],[0.8888888888888888,\"#fdca26\"],[1.0,\"#f0f921\"]]}],\"surface\":[{\"type\":\"surface\",\"colorbar\":{\"outlinewidth\":0,\"ticks\":\"\"},\"colorscale\":[[0.0,\"#0d0887\"],[0.1111111111111111,\"#46039f\"],[0.2222222222222222,\"#7201a8\"],[0.3333333333333333,\"#9c179e\"],[0.4444444444444444,\"#bd3786\"],[0.5555555555555556,\"#d8576b\"],[0.6666666666666666,\"#ed7953\"],[0.7777777777777778,\"#fb9f3a\"],[0.8888888888888888,\"#fdca26\"],[1.0,\"#f0f921\"]]}],\"mesh3d\":[{\"type\":\"mesh3d\",\"colorbar\":{\"outlinewidth\":0,\"ticks\":\"\"}}],\"scatter\":[{\"fillpattern\":{\"fillmode\":\"overlay\",\"size\":10,\"solidity\":0.2},\"type\":\"scatter\"}],\"parcoords\":[{\"type\":\"parcoords\",\"line\":{\"colorbar\":{\"outlinewidth\":0,\"ticks\":\"\"}}}],\"scatterpolargl\":[{\"type\":\"scatterpolargl\",\"marker\":{\"colorbar\":{\"outlinewidth\":0,\"ticks\":\"\"}}}],\"bar\":[{\"error_x\":{\"color\":\"#2a3f5f\"},\"error_y\":{\"color\":\"#2a3f5f\"},\"marker\":{\"line\":{\"color\":\"#E5ECF6\",\"width\":0.5},\"pattern\":{\"fillmode\":\"overlay\",\"size\":10,\"solidity\":0.2}},\"type\":\"bar\"}],\"scattergeo\":[{\"type\":\"scattergeo\",\"marker\":{\"colorbar\":{\"outlinewidth\":0,\"ticks\":\"\"}}}],\"scatterpolar\":[{\"type\":\"scatterpolar\",\"marker\":{\"colorbar\":{\"outlinewidth\":0,\"ticks\":\"\"}}}],\"histogram\":[{\"marker\":{\"pattern\":{\"fillmode\":\"overlay\",\"size\":10,\"solidity\":0.2}},\"type\":\"histogram\"}],\"scattergl\":[{\"type\":\"scattergl\",\"marker\":{\"colorbar\":{\"outlinewidth\":0,\"ticks\":\"\"}}}],\"scatter3d\":[{\"type\":\"scatter3d\",\"line\":{\"colorbar\":{\"outlinewidth\":0,\"ticks\":\"\"}},\"marker\":{\"colorbar\":{\"outlinewidth\":0,\"ticks\":\"\"}}}],\"scattermapbox\":[{\"type\":\"scattermapbox\",\"marker\":{\"colorbar\":{\"outlinewidth\":0,\"ticks\":\"\"}}}],\"scatterternary\":[{\"type\":\"scatterternary\",\"marker\":{\"colorbar\":{\"outlinewidth\":0,\"ticks\":\"\"}}}],\"scattercarpet\":[{\"type\":\"scattercarpet\",\"marker\":{\"colorbar\":{\"outlinewidth\":0,\"ticks\":\"\"}}}],\"carpet\":[{\"aaxis\":{\"endlinecolor\":\"#2a3f5f\",\"gridcolor\":\"white\",\"linecolor\":\"white\",\"minorgridcolor\":\"white\",\"startlinecolor\":\"#2a3f5f\"},\"baxis\":{\"endlinecolor\":\"#2a3f5f\",\"gridcolor\":\"white\",\"linecolor\":\"white\",\"minorgridcolor\":\"white\",\"startlinecolor\":\"#2a3f5f\"},\"type\":\"carpet\"}],\"table\":[{\"cells\":{\"fill\":{\"color\":\"#EBF0F8\"},\"line\":{\"color\":\"white\"}},\"header\":{\"fill\":{\"color\":\"#C8D4E3\"},\"line\":{\"color\":\"white\"}},\"type\":\"table\"}],\"barpolar\":[{\"marker\":{\"line\":{\"color\":\"#E5ECF6\",\"width\":0.5},\"pattern\":{\"fillmode\":\"overlay\",\"size\":10,\"solidity\":0.2}},\"type\":\"barpolar\"}],\"pie\":[{\"automargin\":true,\"type\":\"pie\"}]},\"layout\":{\"autotypenumbers\":\"strict\",\"colorway\":[\"#636efa\",\"#EF553B\",\"#00cc96\",\"#ab63fa\",\"#FFA15A\",\"#19d3f3\",\"#FF6692\",\"#B6E880\",\"#FF97FF\",\"#FECB52\"],\"font\":{\"color\":\"#2a3f5f\"},\"hovermode\":\"closest\",\"hoverlabel\":{\"align\":\"left\"},\"paper_bgcolor\":\"white\",\"plot_bgcolor\":\"#E5ECF6\",\"polar\":{\"bgcolor\":\"#E5ECF6\",\"angularaxis\":{\"gridcolor\":\"white\",\"linecolor\":\"white\",\"ticks\":\"\"},\"radialaxis\":{\"gridcolor\":\"white\",\"linecolor\":\"white\",\"ticks\":\"\"}},\"ternary\":{\"bgcolor\":\"#E5ECF6\",\"aaxis\":{\"gridcolor\":\"white\",\"linecolor\":\"white\",\"ticks\":\"\"},\"baxis\":{\"gridcolor\":\"white\",\"linecolor\":\"white\",\"ticks\":\"\"},\"caxis\":{\"gridcolor\":\"white\",\"linecolor\":\"white\",\"ticks\":\"\"}},\"coloraxis\":{\"colorbar\":{\"outlinewidth\":0,\"ticks\":\"\"}},\"colorscale\":{\"sequential\":[[0.0,\"#0d0887\"],[0.1111111111111111,\"#46039f\"],[0.2222222222222222,\"#7201a8\"],[0.3333333333333333,\"#9c179e\"],[0.4444444444444444,\"#bd3786\"],[0.5555555555555556,\"#d8576b\"],[0.6666666666666666,\"#ed7953\"],[0.7777777777777778,\"#fb9f3a\"],[0.8888888888888888,\"#fdca26\"],[1.0,\"#f0f921\"]],\"sequentialminus\":[[0.0,\"#0d0887\"],[0.1111111111111111,\"#46039f\"],[0.2222222222222222,\"#7201a8\"],[0.3333333333333333,\"#9c179e\"],[0.4444444444444444,\"#bd3786\"],[0.5555555555555556,\"#d8576b\"],[0.6666666666666666,\"#ed7953\"],[0.7777777777777778,\"#fb9f3a\"],[0.8888888888888888,\"#fdca26\"],[1.0,\"#f0f921\"]],\"diverging\":[[0,\"#8e0152\"],[0.1,\"#c51b7d\"],[0.2,\"#de77ae\"],[0.3,\"#f1b6da\"],[0.4,\"#fde0ef\"],[0.5,\"#f7f7f7\"],[0.6,\"#e6f5d0\"],[0.7,\"#b8e186\"],[0.8,\"#7fbc41\"],[0.9,\"#4d9221\"],[1,\"#276419\"]]},\"xaxis\":{\"gridcolor\":\"white\",\"linecolor\":\"white\",\"ticks\":\"\",\"title\":{\"standoff\":15},\"zerolinecolor\":\"white\",\"automargin\":true,\"zerolinewidth\":2},\"yaxis\":{\"gridcolor\":\"white\",\"linecolor\":\"white\",\"ticks\":\"\",\"title\":{\"standoff\":15},\"zerolinecolor\":\"white\",\"automargin\":true,\"zerolinewidth\":2},\"scene\":{\"xaxis\":{\"backgroundcolor\":\"#E5ECF6\",\"gridcolor\":\"white\",\"linecolor\":\"white\",\"showbackground\":true,\"ticks\":\"\",\"zerolinecolor\":\"white\",\"gridwidth\":2},\"yaxis\":{\"backgroundcolor\":\"#E5ECF6\",\"gridcolor\":\"white\",\"linecolor\":\"white\",\"showbackground\":true,\"ticks\":\"\",\"zerolinecolor\":\"white\",\"gridwidth\":2},\"zaxis\":{\"backgroundcolor\":\"#E5ECF6\",\"gridcolor\":\"white\",\"linecolor\":\"white\",\"showbackground\":true,\"ticks\":\"\",\"zerolinecolor\":\"white\",\"gridwidth\":2}},\"shapedefaults\":{\"line\":{\"color\":\"#2a3f5f\"}},\"annotationdefaults\":{\"arrowcolor\":\"#2a3f5f\",\"arrowhead\":0,\"arrowwidth\":1},\"geo\":{\"bgcolor\":\"white\",\"landcolor\":\"#E5ECF6\",\"subunitcolor\":\"white\",\"showland\":true,\"showlakes\":true,\"lakecolor\":\"white\"},\"title\":{\"x\":0.05},\"mapbox\":{\"style\":\"light\"}}},\"xaxis\":{\"anchor\":\"y\",\"domain\":[0.0,0.15],\"title\":{\"text\":\"Happiness Score\"}},\"yaxis\":{\"anchor\":\"x\",\"domain\":[0.0,1.0],\"title\":{\"text\":\"Perceptions of corruption\"}},\"xaxis2\":{\"anchor\":\"y2\",\"domain\":[0.16999999999999998,0.31999999999999995],\"matches\":\"x\",\"title\":{\"text\":\"Happiness Score\"}},\"yaxis2\":{\"anchor\":\"x2\",\"domain\":[0.0,1.0],\"matches\":\"y\",\"showticklabels\":false},\"xaxis3\":{\"anchor\":\"y3\",\"domain\":[0.33999999999999997,0.49],\"matches\":\"x\",\"title\":{\"text\":\"Happiness Score\"}},\"yaxis3\":{\"anchor\":\"x3\",\"domain\":[0.0,1.0],\"matches\":\"y\",\"showticklabels\":false},\"xaxis4\":{\"anchor\":\"y4\",\"domain\":[0.51,0.66],\"matches\":\"x\",\"title\":{\"text\":\"Happiness Score\"}},\"yaxis4\":{\"anchor\":\"x4\",\"domain\":[0.0,1.0],\"matches\":\"y\",\"showticklabels\":false},\"xaxis5\":{\"anchor\":\"y5\",\"domain\":[0.6799999999999999,0.83],\"matches\":\"x\",\"title\":{\"text\":\"Happiness Score\"}},\"yaxis5\":{\"anchor\":\"x5\",\"domain\":[0.0,1.0],\"matches\":\"y\",\"showticklabels\":false},\"xaxis6\":{\"anchor\":\"y6\",\"domain\":[0.85,1.0],\"matches\":\"x\",\"title\":{\"text\":\"Happiness Score\"}},\"yaxis6\":{\"anchor\":\"x6\",\"domain\":[0.0,1.0],\"matches\":\"y\",\"showticklabels\":false},\"annotations\":[{\"font\":{},\"showarrow\":false,\"text\":\"Africa\",\"x\":0.075,\"xanchor\":\"center\",\"xref\":\"paper\",\"y\":1.0,\"yanchor\":\"bottom\",\"yref\":\"paper\"},{\"font\":{},\"showarrow\":false,\"text\":\"Asia\",\"x\":0.24499999999999997,\"xanchor\":\"center\",\"xref\":\"paper\",\"y\":1.0,\"yanchor\":\"bottom\",\"yref\":\"paper\"},{\"font\":{},\"showarrow\":false,\"text\":\"Europe\",\"x\":0.415,\"xanchor\":\"center\",\"xref\":\"paper\",\"y\":1.0,\"yanchor\":\"bottom\",\"yref\":\"paper\"},{\"font\":{},\"showarrow\":false,\"text\":\"North America\",\"x\":0.585,\"xanchor\":\"center\",\"xref\":\"paper\",\"y\":1.0,\"yanchor\":\"bottom\",\"yref\":\"paper\"},{\"font\":{},\"showarrow\":false,\"text\":\"Oceania\",\"x\":0.7549999999999999,\"xanchor\":\"center\",\"xref\":\"paper\",\"y\":1.0,\"yanchor\":\"bottom\",\"yref\":\"paper\"},{\"font\":{},\"showarrow\":false,\"text\":\"South America\",\"x\":0.925,\"xanchor\":\"center\",\"xref\":\"paper\",\"y\":1.0,\"yanchor\":\"bottom\",\"yref\":\"paper\"}],\"legend\":{\"title\":{\"text\":\"Continent\"},\"tracegroupgap\":0},\"margin\":{\"t\":60},\"title\":{\"text\":\"Perceptions of corruption vs. Happiness Score\"}},                        {\"responsive\": true}                    ).then(function(){\n",
       "                            \n",
       "var gd = document.getElementById('730182d5-8b0f-4025-86a8-b08147594314');\n",
       "var x = new MutationObserver(function (mutations, observer) {{\n",
       "        var display = window.getComputedStyle(gd).display;\n",
       "        if (!display || display === 'none') {{\n",
       "            console.log([gd, 'removed!']);\n",
       "            Plotly.purge(gd);\n",
       "            observer.disconnect();\n",
       "        }}\n",
       "}});\n",
       "\n",
       "// Listen for the removal of the full notebook cells\n",
       "var notebookContainer = gd.closest('#notebook-container');\n",
       "if (notebookContainer) {{\n",
       "    x.observe(notebookContainer, {childList: true});\n",
       "}}\n",
       "\n",
       "// Listen for the clearing of the current output cell\n",
       "var outputEl = gd.closest('.output');\n",
       "if (outputEl) {{\n",
       "    x.observe(outputEl, {childList: true});\n",
       "}}\n",
       "\n",
       "                        })                };                });            </script>        </div>"
      ]
     },
     "metadata": {},
     "output_type": "display_data"
    }
   ],
   "source": [
    "# Create scatter plots with regression lines for each continent\n",
    "scatter_plots = px.scatter(df, x=\"Score\", y=\"GDP per capita\", color=\"Continent\", trendline=\"ols\", facet_col=\"Continent\")\n",
    "scatter_plots.update_layout(title_text='GDP per capita vs. Happiness Score', xaxis_title='Happiness Score')\n",
    "scatter_plots.update_xaxes(title='Happiness Score')\n",
    "scatter_plots.for_each_annotation(lambda x: x.update(text=x.text.split(\"=\")[-1]))\n",
    "scatter_plots.show()\n",
    "\n",
    "scatter_plots = px.scatter(df, x=\"Score\", y=\"Social support\", color=\"Continent\", trendline=\"ols\", facet_col=\"Continent\")\n",
    "scatter_plots.update_layout(title_text='Social support vs. Happiness Score', xaxis_title='Happiness Score')\n",
    "scatter_plots.update_xaxes(title='Happiness Score')\n",
    "scatter_plots.for_each_annotation(lambda x: x.update(text=x.text.split(\"=\")[-1]))\n",
    "scatter_plots.show()\n",
    "\n",
    "scatter_plots = px.scatter(df, x=\"Score\", y=\"Healthy life expectancy\", color=\"Continent\", trendline=\"ols\", facet_col=\"Continent\")\n",
    "scatter_plots.update_xaxes(title='Happiness Score')\n",
    "scatter_plots.update_layout(title_text='Healthy life expectancy vs. Happiness Score', xaxis_title='Happiness Score')\n",
    "scatter_plots.for_each_annotation(lambda x: x.update(text=x.text.split(\"=\")[-1]))\n",
    "scatter_plots.show()\n",
    "\n",
    "scatter_plots = px.scatter(df, x=\"Score\", y=\"Freedom to make life choices\", color=\"Continent\", trendline=\"ols\", facet_col=\"Continent\")\n",
    "scatter_plots.update_xaxes(title='Happiness Score')\n",
    "scatter_plots.update_layout(title_text='Freedom to make life choices vs. Happiness Score', xaxis_title='Happiness Score')\n",
    "scatter_plots.for_each_annotation(lambda x: x.update(text=x.text.split(\"=\")[-1]))\n",
    "scatter_plots.show()\n",
    "\n",
    "scatter_plots = px.scatter(df, x=\"Score\", y=\"Generosity\", color=\"Continent\", trendline=\"ols\", facet_col=\"Continent\")\n",
    "scatter_plots.update_layout(title_text='Generosity vs. Happiness Score', xaxis_title='Happiness Score')\n",
    "scatter_plots.update_xaxes(title='Happiness Score')\n",
    "scatter_plots.for_each_annotation(lambda x: x.update(text=x.text.split(\"=\")[-1]))\n",
    "scatter_plots.show()\n",
    "\n",
    "scatter_plots = px.scatter(df, x=\"Score\", y=\"Perceptions of corruption\", color=\"Continent\", trendline=\"ols\", facet_col=\"Continent\")\n",
    "scatter_plots.update_layout(title_text='Perceptions of corruption vs. Happiness Score', xaxis_title='Happiness Score')\n",
    "scatter_plots.update_xaxes(title='Happiness Score')\n",
    "scatter_plots.for_each_annotation(lambda x: x.update(text=x.text.split(\"=\")[-1]))\n",
    "scatter_plots.show()"
   ]
  },
  {
   "cell_type": "markdown",
   "id": "64b93bcf",
   "metadata": {
    "papermill": {
     "duration": 0.011167,
     "end_time": "2023-05-03T00:57:39.063888",
     "exception": false,
     "start_time": "2023-05-03T00:57:39.052721",
     "status": "completed"
    },
    "tags": []
   },
   "source": [
    "***Correlation Heat Map***\n",
    "\n",
    "A correlation heatmap is a data visualization tool that uses color coding to represent the correlation coefficients between multiple variables in a dataset. Each cell in the heatmap represents the correlation between two variables, with the color indicating the strength and direction of the correlation.\n",
    "\n",
    "Unlike scatter plots, which can only show the relationship between two variables at a time, a correlation heatmap can show the relationships between multiple variables simultaneously. This makes it a more efficient and effective way to visualize correlations between multiple variables in a dataset."
   ]
  },
  {
   "cell_type": "code",
   "execution_count": 16,
   "id": "019838ca",
   "metadata": {
    "execution": {
     "iopub.execute_input": "2023-05-03T00:57:39.089096Z",
     "iopub.status.busy": "2023-05-03T00:57:39.088695Z",
     "iopub.status.idle": "2023-05-03T00:57:39.094641Z",
     "shell.execute_reply": "2023-05-03T00:57:39.093603Z"
    },
    "papermill": {
     "duration": 0.021345,
     "end_time": "2023-05-03T00:57:39.096962",
     "exception": false,
     "start_time": "2023-05-03T00:57:39.075617",
     "status": "completed"
    },
    "tags": []
   },
   "outputs": [],
   "source": [
    "# Convert the categorical variable 'Continent' to a numeric variable\n",
    "df['Continent'] = pd.factorize(df['Continent'])[0]"
   ]
  },
  {
   "cell_type": "code",
   "execution_count": 17,
   "id": "5c65ad00",
   "metadata": {
    "execution": {
     "iopub.execute_input": "2023-05-03T00:57:39.121730Z",
     "iopub.status.busy": "2023-05-03T00:57:39.121302Z",
     "iopub.status.idle": "2023-05-03T00:57:39.137777Z",
     "shell.execute_reply": "2023-05-03T00:57:39.136780Z"
    },
    "papermill": {
     "duration": 0.031498,
     "end_time": "2023-05-03T00:57:39.140099",
     "exception": false,
     "start_time": "2023-05-03T00:57:39.108601",
     "status": "completed"
    },
    "tags": []
   },
   "outputs": [
    {
     "data": {
      "text/html": [
       "<div>\n",
       "<style scoped>\n",
       "    .dataframe tbody tr th:only-of-type {\n",
       "        vertical-align: middle;\n",
       "    }\n",
       "\n",
       "    .dataframe tbody tr th {\n",
       "        vertical-align: top;\n",
       "    }\n",
       "\n",
       "    .dataframe thead th {\n",
       "        text-align: right;\n",
       "    }\n",
       "</style>\n",
       "<table border=\"1\" class=\"dataframe\">\n",
       "  <thead>\n",
       "    <tr style=\"text-align: right;\">\n",
       "      <th></th>\n",
       "      <th>Overall rank</th>\n",
       "      <th>Country or region</th>\n",
       "      <th>Score</th>\n",
       "      <th>GDP per capita</th>\n",
       "      <th>Social support</th>\n",
       "      <th>Healthy life expectancy</th>\n",
       "      <th>Freedom to make life choices</th>\n",
       "      <th>Generosity</th>\n",
       "      <th>Perceptions of corruption</th>\n",
       "      <th>Continent</th>\n",
       "    </tr>\n",
       "  </thead>\n",
       "  <tbody>\n",
       "    <tr>\n",
       "      <th>155</th>\n",
       "      <td>156</td>\n",
       "      <td>South Sudan</td>\n",
       "      <td>2.853</td>\n",
       "      <td>0.306</td>\n",
       "      <td>0.575</td>\n",
       "      <td>0.295</td>\n",
       "      <td>0.010</td>\n",
       "      <td>0.202</td>\n",
       "      <td>0.091</td>\n",
       "      <td>0</td>\n",
       "    </tr>\n",
       "    <tr>\n",
       "      <th>127</th>\n",
       "      <td>128</td>\n",
       "      <td>Mali</td>\n",
       "      <td>4.390</td>\n",
       "      <td>0.385</td>\n",
       "      <td>1.105</td>\n",
       "      <td>0.308</td>\n",
       "      <td>0.327</td>\n",
       "      <td>0.153</td>\n",
       "      <td>0.052</td>\n",
       "      <td>0</td>\n",
       "    </tr>\n",
       "    <tr>\n",
       "      <th>126</th>\n",
       "      <td>127</td>\n",
       "      <td>Congo (Kinshasa)</td>\n",
       "      <td>4.418</td>\n",
       "      <td>0.094</td>\n",
       "      <td>1.125</td>\n",
       "      <td>0.357</td>\n",
       "      <td>0.269</td>\n",
       "      <td>0.212</td>\n",
       "      <td>0.053</td>\n",
       "      <td>0</td>\n",
       "    </tr>\n",
       "    <tr>\n",
       "      <th>95</th>\n",
       "      <td>96</td>\n",
       "      <td>Cameroon</td>\n",
       "      <td>5.044</td>\n",
       "      <td>0.549</td>\n",
       "      <td>0.910</td>\n",
       "      <td>0.331</td>\n",
       "      <td>0.381</td>\n",
       "      <td>0.187</td>\n",
       "      <td>0.037</td>\n",
       "      <td>0</td>\n",
       "    </tr>\n",
       "    <tr>\n",
       "      <th>123</th>\n",
       "      <td>124</td>\n",
       "      <td>Tunisia</td>\n",
       "      <td>4.461</td>\n",
       "      <td>0.921</td>\n",
       "      <td>1.000</td>\n",
       "      <td>0.815</td>\n",
       "      <td>0.167</td>\n",
       "      <td>0.059</td>\n",
       "      <td>0.055</td>\n",
       "      <td>0</td>\n",
       "    </tr>\n",
       "  </tbody>\n",
       "</table>\n",
       "</div>"
      ],
      "text/plain": [
       "     Overall rank Country or region  Score  GDP per capita  Social support  \\\n",
       "155           156       South Sudan  2.853           0.306           0.575   \n",
       "127           128              Mali  4.390           0.385           1.105   \n",
       "126           127  Congo (Kinshasa)  4.418           0.094           1.125   \n",
       "95             96          Cameroon  5.044           0.549           0.910   \n",
       "123           124           Tunisia  4.461           0.921           1.000   \n",
       "\n",
       "     Healthy life expectancy  Freedom to make life choices  Generosity  \\\n",
       "155                    0.295                         0.010       0.202   \n",
       "127                    0.308                         0.327       0.153   \n",
       "126                    0.357                         0.269       0.212   \n",
       "95                     0.331                         0.381       0.187   \n",
       "123                    0.815                         0.167       0.059   \n",
       "\n",
       "     Perceptions of corruption  Continent  \n",
       "155                      0.091          0  \n",
       "127                      0.052          0  \n",
       "126                      0.053          0  \n",
       "95                       0.037          0  \n",
       "123                      0.055          0  "
      ]
     },
     "execution_count": 17,
     "metadata": {},
     "output_type": "execute_result"
    }
   ],
   "source": [
    "df.head()"
   ]
  },
  {
   "cell_type": "code",
   "execution_count": 18,
   "id": "3f07dd28",
   "metadata": {
    "execution": {
     "iopub.execute_input": "2023-05-03T00:57:39.165605Z",
     "iopub.status.busy": "2023-05-03T00:57:39.164968Z",
     "iopub.status.idle": "2023-05-03T00:57:39.692058Z",
     "shell.execute_reply": "2023-05-03T00:57:39.691094Z"
    },
    "papermill": {
     "duration": 0.542376,
     "end_time": "2023-05-03T00:57:39.694235",
     "exception": false,
     "start_time": "2023-05-03T00:57:39.151859",
     "status": "completed"
    },
    "tags": []
   },
   "outputs": [
    {
     "data": {
      "image/png": "[encoded data removed]",
      "text/plain": [
       "<Figure size 640x480 with 2 Axes>"
      ]
     },
     "metadata": {},
     "output_type": "display_data"
    }
   ],
   "source": [
    "# Drop the 'Overall rank' column \n",
    "# Since Rank and Happiness Score is negatively correlated by nature\n",
    "dfcor = df.drop(columns=['Overall rank'])\n",
    "\n",
    "# Compute the correlation matrix for numeric columns\n",
    "corr_matrix = dfcor.corr(numeric_only=True)\n",
    "\n",
    "# Create a heatmap using Seaborn\n",
    "sns.heatmap(corr_matrix, annot=True, cmap='coolwarm')\n",
    "\n",
    "# Set the title of the plot\n",
    "plt.title('Correlation Heatmap')\n",
    "\n",
    "# Show the plot\n",
    "plt.show()"
   ]
  },
  {
   "cell_type": "markdown",
   "id": "451f5ecc",
   "metadata": {
    "papermill": {
     "duration": 0.013033,
     "end_time": "2023-05-03T00:57:39.720477",
     "exception": false,
     "start_time": "2023-05-03T00:57:39.707444",
     "status": "completed"
    },
    "tags": []
   },
   "source": [
    "***Correlation Insights in regards to Score***\n",
    "\n",
    "Strong Correlation\n",
    "\n",
    "* GDP per capita : .79\n",
    "* Socia support : .78\n",
    "* Healthy life expectancy : .78\n",
    "\n",
    "Weak Correlation\n",
    "\n",
    "* Perceptions of corruption : .39\n",
    "* Generosity : .076"
   ]
  },
  {
   "cell_type": "markdown",
   "id": "e2c058b3",
   "metadata": {
    "papermill": {
     "duration": 0.013438,
     "end_time": "2023-05-03T00:57:39.747211",
     "exception": false,
     "start_time": "2023-05-03T00:57:39.733773",
     "status": "completed"
    },
    "tags": []
   },
   "source": [
    "***Prediction***\n",
    "\n",
    "Multiple linear regression is a type of linear regression that involves modeling the relationship between a dependent variable and two or more independent variables. In other words, it is used to predict the value of a dependent variable based on the values of two or more independent variables. Multiple linear regression assumes that there is a linear relationship between the dependent variable and the independent variables, and it estimates the coefficients of the independent variables that best fit the data. These coefficients can be used to make predictions about the dependent variable for new data points.\n",
    "\n",
    "Random forest tree is a type of ensemble learning method that involves building multiple decision trees and combining their predictions to make a final prediction. Each decision tree is built on a subset of the training data, and it uses a random subset of the features to make decisions at each node. This helps to reduce overfitting and improve the accuracy of the final prediction. Random forest tree can be used for both regression and classification tasks, and it is often used in applications where there are many input variables."
   ]
  },
  {
   "cell_type": "code",
   "execution_count": 19,
   "id": "cb7f42f7",
   "metadata": {
    "execution": {
     "iopub.execute_input": "2023-05-03T00:57:39.775670Z",
     "iopub.status.busy": "2023-05-03T00:57:39.774998Z",
     "iopub.status.idle": "2023-05-03T00:57:40.038642Z",
     "shell.execute_reply": "2023-05-03T00:57:40.037476Z"
    },
    "papermill": {
     "duration": 0.282072,
     "end_time": "2023-05-03T00:57:40.042332",
     "exception": false,
     "start_time": "2023-05-03T00:57:39.760260",
     "status": "completed"
    },
    "tags": []
   },
   "outputs": [
    {
     "data": {
      "image/png": "[encoded data removed]",
      "text/plain": [
       "<Figure size 640x480 with 1 Axes>"
      ]
     },
     "metadata": {},
     "output_type": "display_data"
    },
    {
     "name": "stdout",
     "output_type": "stream",
     "text": [
      "Linear Regression Model Summary\n",
      "------------------\n",
      "Intercept: 1.8349946915936735\n",
      "GDP per capita : 0.7661585778522869\n",
      "Social support : 1.1863622056730363\n",
      "Healthy life expectancy : 0.7163318861039267\n",
      "Freedom to make life choices : 1.3443592176202892\n",
      "Generosity : 0.04353160610528151\n",
      "Perceptions of corruption : 1.9075898211422466\n",
      "Continent : 0.10019461260483209\n",
      "------------------\n",
      "R-squared: 0.6866968894216614\n",
      "------------------\n"
     ]
    }
   ],
   "source": [
    "\n",
    "# Split the data into training and testing sets\n",
    "X = df[['GDP per capita', 'Social support', 'Healthy life expectancy', 'Freedom to make life choices', 'Generosity', 'Perceptions of corruption', 'Continent']]\n",
    "y = df['Score']\n",
    "X_train, X_test, y_train, y_test = train_test_split(X, y, test_size=0.3, random_state=42)\n",
    "\n",
    "# Create a linear regression model and fit it to the training data\n",
    "model = LinearRegression()\n",
    "model.fit(X_train, y_train)\n",
    "\n",
    "# Predict the target variable for the testing data\n",
    "y_pred = model.predict(X_test)\n",
    "\n",
    "# Calculate the R-squared value of the model\n",
    "r2 = r2_score(y_test, y_pred)\n",
    "\n",
    "# Plot the predicted score against the actual score\n",
    "plt.scatter(y_test, y_pred)\n",
    "plt.plot([y_test.min(), y_test.max()], [y_test.min(), y_test.max()], 'k--', lw=4)\n",
    "plt.xlabel('Actual Score')\n",
    "plt.ylabel('Predicted Score')\n",
    "plt.title('Predicted Score vs Actual Score')\n",
    "plt.show()\n",
    "\n",
    "# Print a summary of the linear regression model\n",
    "print('Linear Regression Model Summary')\n",
    "print('------------------')\n",
    "print('Intercept:', model.intercept_)\n",
    "for i, col in enumerate(X.columns):\n",
    "    print(col, ':', model.coef_[i])\n",
    "print('------------------')\n",
    "print('R-squared:', r2)\n",
    "print('------------------')"
   ]
  },
  {
   "cell_type": "markdown",
   "id": "22bbd006",
   "metadata": {
    "papermill": {
     "duration": 0.013752,
     "end_time": "2023-05-03T00:57:40.071011",
     "exception": false,
     "start_time": "2023-05-03T00:57:40.057259",
     "status": "completed"
    },
    "tags": []
   },
   "source": [
    "***Insights***\n",
    "\n",
    "In this case, an R-squared value of 0.6866968894216614 indicates that the independent variables collectively explain 68.67% of the variance in the dependent variable, which is a relatively high value. The model has a moderate-to-strong predictive power, and the independent variables included in the model are significant in explaining the variation in happiness score."
   ]
  },
  {
   "cell_type": "code",
   "execution_count": 20,
   "id": "62dff474",
   "metadata": {
    "execution": {
     "iopub.execute_input": "2023-05-03T00:57:40.116462Z",
     "iopub.status.busy": "2023-05-03T00:57:40.115337Z",
     "iopub.status.idle": "2023-05-03T00:57:41.518961Z",
     "shell.execute_reply": "2023-05-03T00:57:41.517465Z"
    },
    "papermill": {
     "duration": 1.433482,
     "end_time": "2023-05-03T00:57:41.521574",
     "exception": false,
     "start_time": "2023-05-03T00:57:40.088092",
     "status": "completed"
    },
    "tags": []
   },
   "outputs": [
    {
     "data": {
      "image/png": "[encoded data removed]",
      "text/plain": [
       "<Figure size 640x480 with 1 Axes>"
      ]
     },
     "metadata": {},
     "output_type": "display_data"
    },
    {
     "name": "stdout",
     "output_type": "stream",
     "text": [
      "Random Forest Model Summary\n",
      "------------------\n",
      "GDP per capita : 0.2932846719730115\n",
      "Social support : 0.41321162558831354\n",
      "Healthy life expectancy : 0.10044569513907625\n",
      "Freedom to make life choices : 0.06543216232052382\n",
      "Generosity : 0.02581481177528872\n",
      "Perceptions of corruption : 0.06156777952100554\n",
      "Continent : 0.04024325368278057\n",
      "------------------\n",
      "R-squared: 0.7253486465140864\n",
      "------------------\n"
     ]
    }
   ],
   "source": [
    "# Split the data into training and testing sets\n",
    "X = df[['GDP per capita', 'Social support', 'Healthy life expectancy', 'Freedom to make life choices', 'Generosity', 'Perceptions of corruption', 'Continent']]\n",
    "y = df['Score']\n",
    "X_train, X_test, y_train, y_test = train_test_split(X, y, test_size=0.3, random_state=42)\n",
    "\n",
    "# Create a random forest model and fit it to the training data\n",
    "model = RandomForestRegressor(n_estimators=500, random_state=42)\n",
    "model.fit(X_train, y_train)\n",
    "\n",
    "# Predict the target variable for the testing data\n",
    "y_pred = model.predict(X_test)\n",
    "\n",
    "# Calculate the R-squared value of the model\n",
    "r2 = r2_score(y_test, y_pred)\n",
    "\n",
    "# Plot the predicted score against the actual score\n",
    "plt.scatter(y_test, y_pred)\n",
    "plt.plot([y_test.min(), y_test.max()], [y_test.min(), y_test.max()], 'k--', lw=4)\n",
    "plt.xlabel('Actual Score')\n",
    "plt.ylabel('Predicted Score')\n",
    "plt.title('Predicted Score vs Actual Score')\n",
    "plt.show()\n",
    "\n",
    "# Print a summary of the random forest model\n",
    "print('Random Forest Model Summary')\n",
    "print('------------------')\n",
    "for i, col in enumerate(X.columns):\n",
    "    print(col, ':', model.feature_importances_[i])\n",
    "print('------------------')\n",
    "print('R-squared:', r2)\n",
    "print('------------------')"
   ]
  },
  {
   "cell_type": "markdown",
   "id": "2965b001",
   "metadata": {
    "papermill": {
     "duration": 0.015783,
     "end_time": "2023-05-03T00:57:41.552720",
     "exception": false,
     "start_time": "2023-05-03T00:57:41.536937",
     "status": "completed"
    },
    "tags": []
   },
   "source": [
    "***Insights***\n",
    "\n",
    "An R-squared value of 0.7253486465140864 indicates that the model is able to explain 72.53% of the variance in the happiness score based on the independent variables. The random forest regression model has a relatively strong predictive power, and the independent variables included in the model are significant in explaining the variation in happiness score."
   ]
  },
  {
   "cell_type": "markdown",
   "id": "1338b789",
   "metadata": {
    "papermill": {
     "duration": 0.013903,
     "end_time": "2023-05-03T00:57:41.580869",
     "exception": false,
     "start_time": "2023-05-03T00:57:41.566966",
     "status": "completed"
    },
    "tags": []
   },
   "source": [
    "# Summary\n",
    "\n",
    "This EDA and predictive analysis provided valuable insights into the factors that contribute to happiness scores in different countries and continents. It revealed strong positive correlations between GDP per capita, social support, and healthy life expectancy and happiness scores, indicating that these factors are important in promoting happiness. In contrast, perceptions of corruption and generosity showed weak positive correlations with happiness scores, suggesting that these factors may have a lesser impact on overall happiness levels.\n",
    "\n",
    "The analysis also showed that Oceania had the highest mean and median happiness scores among all continents, indicating that the variables included in the analysis, such as GDP per capita, social support, healthy life expectancy, freedom to make life choices, perceptions of corruption, and generosity, may interact in unique ways in this region to promote higher levels of happiness.\n",
    "\n",
    "However, it is important to note that the R-squared values for the predictive models used, linear regression and random forest regression, were not particularly high (0.687 and 0.725, respectively). This suggests that while the models can be useful in making predictions, they should be used with caution and that other factors not included in the analysis may also have an impact on happiness scores.\n",
    "\n",
    "Overall, this analysis highlights the importance of understanding the factors that contribute to happiness and their relationship with each other, as well as the limitations of predictive models in accurately forecasting happiness levels.\n"
   ]
  }
 ],
 "metadata": {
  "kernelspec": {
   "display_name": "Python 3",
   "language": "python",
   "name": "python3"
  },
  "language_info": {
   "codemirror_mode": {
    "name": "ipython",
    "version": 3
   },
   "file_extension": ".py",
   "mimetype": "text/x-python",
   "name": "python",
   "nbconvert_exporter": "python",
   "pygments_lexer": "ipython3",
   "version": "3.10.10"
  },
  "papermill": {
   "default_parameters": {},
   "duration": 21.990566,
   "end_time": "2023-05-03T00:57:42.820501",
   "environment_variables": {},
   "exception": null,
   "input_path": "__notebook__.ipynb",
   "output_path": "__notebook__.ipynb",
   "parameters": {},
   "start_time": "2023-05-03T00:57:20.829935",
   "version": "2.4.0"
  }
 },
 "nbformat": 4,
 "nbformat_minor": 5
}
